{
 "cells": [
  {
   "attachments": {
    "image.png": {
     "image/png": "[encoded data removed]"
    }
   },
   "cell_type": "markdown",
   "id": "3275de1f",
   "metadata": {},
   "source": [
    "## 최대공약수와 최소공배수\n",
    "- PROGRAMMERS https://school.programmers.co.kr/learn/courses/30/lessons/12940\n",
    "\n",
    "### 문제 \n",
    "- 두 수를 입력받아 두 수의 최대공약수와 최소공배수를 반환하는 함수, solution을 완성해 보세요. 배열의 맨 앞에 최대공약수, 그다음 최소공배수를 넣어 반환하면 됩니다. 예를 들어 두 수 3, 12의 최대공약수는 3, 최소공배수는 12이므로 solution(3, 12)는 [3, 12]를 반환해야 합니다.\n",
    "\n",
    "### 제한 조건\n",
    "- 두 수는 1이상 1000000이하의 자연수입니다.\n",
    "\n",
    "### 입출력 예\n",
    "![image.png](attachment:image.png)"
   ]
  },
  {
   "cell_type": "markdown",
   "id": "02b5b6fb",
   "metadata": {},
   "source": [
    "### Solution1. 일반적 풀이"
   ]
  },
  {
   "cell_type": "code",
   "execution_count": 1,
   "id": "38304167",
   "metadata": {
    "ExecuteTime": {
     "end_time": "2023-01-23T08:28:31.330128Z",
     "start_time": "2023-01-23T08:28:31.316124Z"
    }
   },
   "outputs": [],
   "source": [
    "def solution(n, m):\n",
    "    answer = []\n",
    "    \n",
    "    for i in range(min(n, m), 0, -1):\n",
    "        if n%i == 0 and m%i == 0:\n",
    "            answer.append(i)\n",
    "            break\n",
    "    for i in range(max(n, m), (n*m)+1):\n",
    "        if i%n == 0 and i%m == 0:\n",
    "            answer.append(i)\n",
    "            break\n",
    "    \n",
    "    return answer"
   ]
  },
  {
   "cell_type": "code",
   "execution_count": 2,
   "id": "5f4b90cf",
   "metadata": {
    "ExecuteTime": {
     "end_time": "2023-01-23T08:28:39.104870Z",
     "start_time": "2023-01-23T08:28:39.077875Z"
    }
   },
   "outputs": [
    {
     "data": {
      "text/plain": [
       "[3, 12]"
      ]
     },
     "execution_count": 2,
     "metadata": {},
     "output_type": "execute_result"
    }
   ],
   "source": [
    "solution(3, 12)"
   ]
  },
  {
   "cell_type": "code",
   "execution_count": 3,
   "id": "e2716889",
   "metadata": {
    "ExecuteTime": {
     "end_time": "2023-01-23T08:28:44.976007Z",
     "start_time": "2023-01-23T08:28:44.964011Z"
    },
    "scrolled": true
   },
   "outputs": [
    {
     "data": {
      "text/plain": [
       "[1, 10]"
      ]
     },
     "execution_count": 3,
     "metadata": {},
     "output_type": "execute_result"
    }
   ],
   "source": [
    "solution(2, 5)"
   ]
  },
  {
   "cell_type": "markdown",
   "id": "df03b2bb",
   "metadata": {},
   "source": [
    "----------"
   ]
  },
  {
   "cell_type": "markdown",
   "id": "bb189d86",
   "metadata": {},
   "source": [
    "### Solution2. 유클리드 호제법을 사용한 풀이"
   ]
  },
  {
   "cell_type": "code",
   "execution_count": 4,
   "id": "0d275387",
   "metadata": {
    "ExecuteTime": {
     "end_time": "2023-01-23T10:25:41.257498Z",
     "start_time": "2023-01-23T10:25:41.218369Z"
    }
   },
   "outputs": [],
   "source": [
    "def solution(n, m):\n",
    "    i1 = max(n, m)\n",
    "    i2 = min(n, m)\n",
    "    # 최대공약수 구하기\n",
    "    while 1: \n",
    "        if i1 % i2 == 0:\n",
    "            a1 = i2\n",
    "            break\n",
    "        i1, i2 = i2, i1%i2\n",
    "    # 최소공배수 구하기\n",
    "    a2 = (n*m)//a1\n",
    "    # 값 출력\n",
    "    return [a1, a2]"
   ]
  },
  {
   "cell_type": "code",
   "execution_count": 5,
   "id": "83ff6af0",
   "metadata": {
    "ExecuteTime": {
     "end_time": "2023-01-23T10:25:45.531357Z",
     "start_time": "2023-01-23T10:25:45.513510Z"
    }
   },
   "outputs": [
    {
     "data": {
      "text/plain": [
       "[3, 12]"
      ]
     },
     "execution_count": 5,
     "metadata": {},
     "output_type": "execute_result"
    }
   ],
   "source": [
    "solution(3, 12)"
   ]
  },
  {
   "cell_type": "code",
   "execution_count": 6,
   "id": "7c7aae73",
   "metadata": {
    "ExecuteTime": {
     "end_time": "2023-01-23T10:25:50.516373Z",
     "start_time": "2023-01-23T10:25:50.501315Z"
    }
   },
   "outputs": [
    {
     "data": {
      "text/plain": [
       "[1, 10]"
      ]
     },
     "execution_count": 6,
     "metadata": {},
     "output_type": "execute_result"
    }
   ],
   "source": [
    "solution(2, 5)"
   ]
  },
  {
   "cell_type": "markdown",
   "id": "07b5c014",
   "metadata": {},
   "source": [
    "--------"
   ]
  },
  {
   "cell_type": "markdown",
   "id": "f069a1d2",
   "metadata": {},
   "source": [
    "### + 다른 사람 풀이: lambda 함수를 사용하는 방법"
   ]
  },
  {
   "cell_type": "code",
   "execution_count": 7,
   "id": "7a750184",
   "metadata": {
    "ExecuteTime": {
     "end_time": "2023-01-23T10:27:44.836574Z",
     "start_time": "2023-01-23T10:27:44.821388Z"
    }
   },
   "outputs": [],
   "source": [
    "def solution(n, m):\n",
    "    gcd = lambda a,b : b if not a%b else gcd(b, a%b)\n",
    "    lcm = lambda a,b : a*b//gcd(a,b)\n",
    "    return [gcd(n, m), lcm(n, m)]"
   ]
  },
  {
   "cell_type": "code",
   "execution_count": 8,
   "id": "2c5bdec6",
   "metadata": {
    "ExecuteTime": {
     "end_time": "2023-01-23T10:27:49.951524Z",
     "start_time": "2023-01-23T10:27:49.937959Z"
    }
   },
   "outputs": [
    {
     "data": {
      "text/plain": [
       "[3, 12]"
      ]
     },
     "execution_count": 8,
     "metadata": {},
     "output_type": "execute_result"
    }
   ],
   "source": [
    "solution(3, 12)"
   ]
  },
  {
   "cell_type": "code",
   "execution_count": 9,
   "id": "99499d79",
   "metadata": {
    "ExecuteTime": {
     "end_time": "2023-01-23T10:27:54.813443Z",
     "start_time": "2023-01-23T10:27:54.795375Z"
    }
   },
   "outputs": [
    {
     "data": {
      "text/plain": [
       "[1, 10]"
      ]
     },
     "execution_count": 9,
     "metadata": {},
     "output_type": "execute_result"
    }
   ],
   "source": [
    "solution(2, 5)"
   ]
  }
 ],
 "metadata": {
  "kernelspec": {
   "display_name": "Python 3 (ipykernel)",
   "language": "python",
   "name": "python3"
  },
  "language_info": {
   "codemirror_mode": {
    "name": "ipython",
    "version": 3
   },
   "file_extension": ".py",
   "mimetype": "text/x-python",
   "name": "python",
   "nbconvert_exporter": "python",
   "pygments_lexer": "ipython3",
   "version": "3.9.13"
  },
  "toc": {
   "base_numbering": 1,
   "nav_menu": {},
   "number_sections": true,
   "sideBar": true,
   "skip_h1_title": false,
   "title_cell": "Table of Contents",
   "title_sidebar": "Contents",
   "toc_cell": false,
   "toc_position": {},
   "toc_section_display": true,
   "toc_window_display": false
  },
  "varInspector": {
   "cols": {
    "lenName": 16,
    "lenType": 16,
    "lenVar": 40
   },
   "kernels_config": {
    "python": {
     "delete_cmd_postfix": "",
     "delete_cmd_prefix": "del ",
     "library": "var_list.py",
     "varRefreshCmd": "print(var_dic_list())"
    },
    "r": {
     "delete_cmd_postfix": ") ",
     "delete_cmd_prefix": "rm(",
     "library": "var_list.r",
     "varRefreshCmd": "cat(var_dic_list()) "
    }
   },
   "types_to_exclude": [
    "module",
    "function",
    "builtin_function_or_method",
    "instance",
    "_Feature"
   ],
   "window_display": false
  }
 },
 "nbformat": 4,
 "nbformat_minor": 5
}
