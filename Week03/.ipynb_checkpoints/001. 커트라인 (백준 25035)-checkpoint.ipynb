{
 "cells": [
  {
   "cell_type": "markdown",
   "id": "af8d3cd5",
   "metadata": {},
   "source": [
    "## 001. 커트라인\n",
    "- BAEKJOON 25305 https://www.acmicpc.net/problem/25305\n",
    "\n",
    "### 문제\n",
    "- 2022 연세대학교 미래캠퍼스 슬기로운 코딩생활에 N명의 학생들이 응시했다.\n",
    "\n",
    "- 이들 중 점수가 가장 높은 k명은 상을 받을 것이다. 이 때, 상을 받는 커트라인이 몇 점인지 구하라.\n",
    "\n",
    "- 커트라인이란 상을 받는 사람들 중 점수가 가장 가장 낮은 사람의 점수를 말한다.\n",
    "\n",
    "### 입력\n",
    "- 첫째 줄에는 응시자의 수 N과 상을 받는 사람의 수 k가 공백을 사이에 두고 주어진다.\n",
    "\n",
    "- 둘째 줄에는 각 학생의 점수 x가 공백을 사이에 두고 주어진다.\n",
    "\n",
    "### 출력\n",
    "- 상을 받는 커트라인을 출력하라."
   ]
  },
  {
   "cell_type": "code",
   "execution_count": 5,
   "id": "716f00bb",
   "metadata": {
    "ExecuteTime": {
     "end_time": "2023-01-21T11:37:37.521297Z",
     "start_time": "2023-01-21T11:37:26.619443Z"
    }
   },
   "outputs": [
    {
     "name": "stdout",
     "output_type": "stream",
     "text": [
      "5 2\n",
      "100 76 85 93 98\n",
      "98\n"
     ]
    }
   ],
   "source": [
    "n, k = map(int, input().split())\n",
    "print(sorted(map(int, input().split()))[-k])"
   ]
  }
 ],
 "metadata": {
  "kernelspec": {
   "display_name": "Python 3 (ipykernel)",
   "language": "python",
   "name": "python3"
  },
  "language_info": {
   "codemirror_mode": {
    "name": "ipython",
    "version": 3
   },
   "file_extension": ".py",
   "mimetype": "text/x-python",
   "name": "python",
   "nbconvert_exporter": "python",
   "pygments_lexer": "ipython3",
   "version": "3.9.13"
  },
  "toc": {
   "base_numbering": 1,
   "nav_menu": {},
   "number_sections": true,
   "sideBar": true,
   "skip_h1_title": false,
   "title_cell": "Table of Contents",
   "title_sidebar": "Contents",
   "toc_cell": false,
   "toc_position": {},
   "toc_section_display": true,
   "toc_window_display": false
  },
  "varInspector": {
   "cols": {
    "lenName": 16,
    "lenType": 16,
    "lenVar": 40
   },
   "kernels_config": {
    "python": {
     "delete_cmd_postfix": "",
     "delete_cmd_prefix": "del ",
     "library": "var_list.py",
     "varRefreshCmd": "print(var_dic_list())"
    },
    "r": {
     "delete_cmd_postfix": ") ",
     "delete_cmd_prefix": "rm(",
     "library": "var_list.r",
     "varRefreshCmd": "cat(var_dic_list()) "
    }
   },
   "types_to_exclude": [
    "module",
    "function",
    "builtin_function_or_method",
    "instance",
    "_Feature"
   ],
   "window_display": false
  }
 },
 "nbformat": 4,
 "nbformat_minor": 5
}
