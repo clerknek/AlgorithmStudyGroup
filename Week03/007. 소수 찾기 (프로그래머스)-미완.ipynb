{
 "cells": [
  {
   "attachments": {
    "image.png": {
     "image/png": "[encoded data removed]"
    }
   },
   "cell_type": "markdown",
   "id": "01626a27",
   "metadata": {},
   "source": [
    "## 007. 소수 찾기\n",
    "- PROGRAMMERS https://school.programmers.co.kr/learn/courses/30/lessons/12921\n",
    "\n",
    "### 문제\n",
    "- 1부터 입력받은 숫자 n 사이에 있는 소수의 개수를 반환하는 함수, solution을 만들어 보세요.\n",
    "\n",
    "- 소수는 1과 자기 자신으로만 나누어지는 수를 의미합니다.\n",
    "- (1은 소수가 아닙니다.)\n",
    "\n",
    "### 제한 조건\n",
    "- n은 2이상 1000000이하의 자연수입니다.\n",
    "\n",
    "### 입출력 예\n",
    "![image.png](attachment:image.png)"
   ]
  },
  {
   "cell_type": "code",
   "execution_count": 123,
   "id": "ca5aa505",
   "metadata": {
    "ExecuteTime": {
     "end_time": "2023-01-24T14:46:04.425606Z",
     "start_time": "2023-01-24T14:46:04.403068Z"
    }
   },
   "outputs": [],
   "source": [
    "def solution(n):\n",
    "    answer = 0\n",
    "    \n",
    "    # 2부터 n까지의 모든 자연수를 나열\n",
    "    l = [a for a in range(2, n+1)]\n",
    "\n",
    "    # i: 남은 수중 아직 처리하지 않은 가장 작은 수의 인덱스 값\n",
    "    i = 2\n",
    "    while True:\n",
    "        # a: 남은 수 중 처리하지 않은 가장 작은 수의 배수 값\n",
    "        a = i\n",
    "        # a의 값을 더 해 가면서 소수가 아닌 값을 차례로 제거해준다.\n",
    "        while (i+a)<=n:\n",
    "            if i+a in l:\n",
    "                l.remove(i+a)\n",
    "            a += i\n",
    "        i += 1\n",
    "        # 만약 i가 기존에 있는 값을 초과하면 break\n",
    "        if len(l) < i:\n",
    "            break\n",
    "    return len(l)"
   ]
  },
  {
   "cell_type": "code",
   "execution_count": 124,
   "id": "7bf68b49",
   "metadata": {
    "ExecuteTime": {
     "end_time": "2023-01-24T14:46:04.883260Z",
     "start_time": "2023-01-24T14:46:04.852197Z"
    },
    "scrolled": true
   },
   "outputs": [
    {
     "data": {
      "text/plain": [
       "4"
      ]
     },
     "execution_count": 124,
     "metadata": {},
     "output_type": "execute_result"
    }
   ],
   "source": [
    "solution(10)"
   ]
  },
  {
   "cell_type": "code",
   "execution_count": 125,
   "id": "9f06a06b",
   "metadata": {
    "ExecuteTime": {
     "end_time": "2023-01-24T14:46:05.180570Z",
     "start_time": "2023-01-24T14:46:05.164937Z"
    }
   },
   "outputs": [
    {
     "data": {
      "text/plain": [
       "3"
      ]
     },
     "execution_count": 125,
     "metadata": {},
     "output_type": "execute_result"
    }
   ],
   "source": [
    "solution(5)"
   ]
  },
  {
   "cell_type": "code",
   "execution_count": 126,
   "id": "adfd11d3",
   "metadata": {
    "ExecuteTime": {
     "end_time": "2023-01-24T14:46:05.561947Z",
     "start_time": "2023-01-24T14:46:05.531523Z"
    }
   },
   "outputs": [
    {
     "data": {
      "text/plain": [
       "25"
      ]
     },
     "execution_count": 126,
     "metadata": {},
     "output_type": "execute_result"
    }
   ],
   "source": [
    "solution(100)"
   ]
  },
  {
   "cell_type": "markdown",
   "id": "2e6ec236",
   "metadata": {},
   "source": [
    "---------"
   ]
  },
  {
   "cell_type": "code",
   "execution_count": 121,
   "id": "cefb8bfa",
   "metadata": {
    "ExecuteTime": {
     "end_time": "2023-01-24T14:45:42.034006Z",
     "start_time": "2023-01-24T14:45:42.002724Z"
    }
   },
   "outputs": [],
   "source": [
    "def solution(n):\n",
    "    answer = 0\n",
    "    \n",
    "    # 2부터 n까지의 모든 자연수를 나열\n",
    "    l = [a for a in range(2, n+1)]\n",
    "\n",
    "    # i: 남은 수중 아직 처리하지 않은 가장 작은 수의 인덱스 값\n",
    "    i = 2\n",
    "    while True:\n",
    "        a = i\n",
    "        while (i+a)<=n:\n",
    "            if i+a in l:\n",
    "                l.remove(i+a)\n",
    "            a += i\n",
    "        i += 1\n",
    "        if len(l) < i:\n",
    "            break\n",
    "    print(l)\n",
    "    return len(l)"
   ]
  },
  {
   "cell_type": "code",
   "execution_count": 122,
   "id": "8138160a",
   "metadata": {
    "ExecuteTime": {
     "end_time": "2023-01-24T14:45:42.345160Z",
     "start_time": "2023-01-24T14:45:42.331602Z"
    }
   },
   "outputs": [
    {
     "name": "stdout",
     "output_type": "stream",
     "text": [
      "[2, 3, 5, 7, 11, 13, 17, 19, 23, 29, 31, 37, 41, 43, 47, 53, 59, 61, 67, 71, 73, 79, 83, 89, 97]\n"
     ]
    },
    {
     "data": {
      "text/plain": [
       "25"
      ]
     },
     "execution_count": 122,
     "metadata": {},
     "output_type": "execute_result"
    }
   ],
   "source": [
    "solution(100)"
   ]
  },
  {
   "cell_type": "code",
   "execution_count": null,
   "id": "52a27574",
   "metadata": {},
   "outputs": [],
   "source": []
  },
  {
   "cell_type": "code",
   "execution_count": null,
   "id": "4b2cf6e7",
   "metadata": {},
   "outputs": [],
   "source": []
  },
  {
   "cell_type": "code",
   "execution_count": 99,
   "id": "99a44b16",
   "metadata": {
    "ExecuteTime": {
     "end_time": "2023-01-24T14:42:55.770088Z",
     "start_time": "2023-01-24T14:42:55.754464Z"
    }
   },
   "outputs": [],
   "source": [
    "def solution(n):\n",
    "    answer = 0\n",
    "    \n",
    "    # 2부터 n까지의 모든 자연수를 나열\n",
    "    l = [a for a in range(2, n+1)]\n",
    "\n",
    "    # i: 남은 수중 아직 처리하지 않은 가장 작은 수의 인덱스 값\n",
    "    i = 0\n",
    "    while True:\n",
    "        a = l[i]\n",
    "        print('\\n', a)\n",
    "        while (a*(i+1))<=n:\n",
    "            print(l, i+a)\n",
    "            if i+a in l:\n",
    "                l.remove(i+a)\n",
    "            a += i\n",
    "        i += 1\n",
    "        if (len(l)**1/2) < i:\n",
    "            break\n",
    "    print(l)\n",
    "    return len(l)"
   ]
  },
  {
   "cell_type": "code",
   "execution_count": null,
   "id": "e9520a19",
   "metadata": {},
   "outputs": [],
   "source": []
  }
 ],
 "metadata": {
  "kernelspec": {
   "display_name": "Python 3 (ipykernel)",
   "language": "python",
   "name": "python3"
  },
  "language_info": {
   "codemirror_mode": {
    "name": "ipython",
    "version": 3
   },
   "file_extension": ".py",
   "mimetype": "text/x-python",
   "name": "python",
   "nbconvert_exporter": "python",
   "pygments_lexer": "ipython3",
   "version": "3.9.13"
  },
  "toc": {
   "base_numbering": 1,
   "nav_menu": {},
   "number_sections": true,
   "sideBar": true,
   "skip_h1_title": false,
   "title_cell": "Table of Contents",
   "title_sidebar": "Contents",
   "toc_cell": false,
   "toc_position": {},
   "toc_section_display": true,
   "toc_window_display": false
  },
  "varInspector": {
   "cols": {
    "lenName": 16,
    "lenType": 16,
    "lenVar": 40
   },
   "kernels_config": {
    "python": {
     "delete_cmd_postfix": "",
     "delete_cmd_prefix": "del ",
     "library": "var_list.py",
     "varRefreshCmd": "print(var_dic_list())"
    },
    "r": {
     "delete_cmd_postfix": ") ",
     "delete_cmd_prefix": "rm(",
     "library": "var_list.r",
     "varRefreshCmd": "cat(var_dic_list()) "
    }
   },
   "types_to_exclude": [
    "module",
    "function",
    "builtin_function_or_method",
    "instance",
    "_Feature"
   ],
   "window_display": false
  }
 },
 "nbformat": 4,
 "nbformat_minor": 5
}
