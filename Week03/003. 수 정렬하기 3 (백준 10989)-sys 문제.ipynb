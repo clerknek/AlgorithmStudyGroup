{
 "cells": [
  {
   "cell_type": "markdown",
   "id": "225ecc63",
   "metadata": {},
   "source": [
    "## 003. 수 정렬하기 3\n",
    "- BAEKJOON 10989 https://www.acmicpc.net/problem/10989\n",
    "\n",
    "### 문제\n",
    "- N개의 수가 주어졌을 때, 이를 오름차순으로 정렬하는 프로그램을 작성하시오.\n",
    "\n",
    "### 입력\n",
    "- 첫째 줄에 수의 개수 N(1 ≤ N ≤ 10,000,000)이 주어진다. 둘째 줄부터 N개의 줄에는 수가 주어진다. 이 수는 10,000보다 작거나 같은 자연수이다.\n",
    "\n",
    "### 출력\n",
    "- 첫째 줄부터 N개의 줄에 오름차순으로 정렬한 결과를 한 줄에 하나씩 출력한다."
   ]
  },
  {
   "cell_type": "markdown",
   "id": "35402407",
   "metadata": {},
   "source": [
    "### 백준식 풀이방식 : 단 jupyter에서는 sys를 사용할 수 없다."
   ]
  },
  {
   "cell_type": "code",
   "execution_count": null,
   "id": "7ed4998d",
   "metadata": {},
   "outputs": [],
   "source": [
    "import sys\n",
    "\n",
    "l = [0] * 10000\n",
    "n = int(input())\n",
    "for i in range(n):\n",
    "    l[int(sys.stdin.readline())-1] += 1\n",
    "for i in range(10000):\n",
    "    for j in range(l[i]):\n",
    "        print(i+1)"
   ]
  },
  {
   "cell_type": "markdown",
   "id": "4e0f2209",
   "metadata": {},
   "source": [
    "### 일반적 풀이방식"
   ]
  },
  {
   "cell_type": "code",
   "execution_count": 1,
   "id": "70fb2dab",
   "metadata": {
    "ExecuteTime": {
     "end_time": "2023-01-23T07:31:05.409326Z",
     "start_time": "2023-01-23T07:30:51.866002Z"
    }
   },
   "outputs": [
    {
     "name": "stdout",
     "output_type": "stream",
     "text": [
      "10\n",
      "5\n",
      "2\n",
      "3\n",
      "1\n",
      "4\n",
      "2\n",
      "3\n",
      "5\n",
      "1\n",
      "7\n",
      "1\n",
      "1\n",
      "2\n",
      "2\n",
      "3\n",
      "3\n",
      "4\n",
      "5\n",
      "5\n",
      "7\n"
     ]
    },
    {
     "data": {
      "text/plain": [
       "[None, None, None, None, None, None, None, None, None, None]"
      ]
     },
     "execution_count": 1,
     "metadata": {},
     "output_type": "execute_result"
    }
   ],
   "source": [
    "n = int(input())\n",
    "l = [input() for _ in range(n)]\n",
    "l.sort()\n",
    "[print(l[i]) for i in range(n)]    "
   ]
  },
  {
   "cell_type": "code",
   "execution_count": 1,
   "id": "40d9945a",
   "metadata": {
    "ExecuteTime": {
     "end_time": "2023-01-26T11:02:49.403109Z",
     "start_time": "2023-01-26T11:02:42.852877Z"
    }
   },
   "outputs": [
    {
     "name": "stdout",
     "output_type": "stream",
     "text": [
      "5\n",
      "5\n",
      "5\n",
      "3\n",
      "2\n",
      "1\n",
      "{5: 2, 3: 1, 2: 1, 1: 1}\n"
     ]
    }
   ],
   "source": [
    "dic = {} \n",
    "n = int(input())\n",
    "for i in range(n):\n",
    "    a = int(input())\n",
    "    if dic.get(a) == None:\n",
    "        dic[a] = 1\n",
    "    else:\n",
    "        dic[a] += 1\n",
    "print(dic)"
   ]
  },
  {
   "cell_type": "code",
   "execution_count": 5,
   "id": "2cfd9774",
   "metadata": {
    "ExecuteTime": {
     "end_time": "2023-01-26T11:08:55.078028Z",
     "start_time": "2023-01-26T11:08:51.337799Z"
    }
   },
   "outputs": [
    {
     "name": "stdout",
     "output_type": "stream",
     "text": [
      "5\n",
      "5\n",
      "3\n",
      "4\n",
      "4\n",
      "2\n",
      "2\n",
      "3\n",
      "4\n",
      "4\n",
      "5\n"
     ]
    }
   ],
   "source": [
    "l = [0] * 10000\n",
    "n = int(input())\n",
    "for i in range(n):\n",
    "    l[int(input())-1] += 1\n",
    "for i in range(n):\n",
    "    while l[i] > 0:\n",
    "        print(i+1)\n",
    "        l[i] -= 1"
   ]
  }
 ],
 "metadata": {
  "kernelspec": {
   "display_name": "Python 3 (ipykernel)",
   "language": "python",
   "name": "python3"
  },
  "language_info": {
   "codemirror_mode": {
    "name": "ipython",
    "version": 3
   },
   "file_extension": ".py",
   "mimetype": "text/x-python",
   "name": "python",
   "nbconvert_exporter": "python",
   "pygments_lexer": "ipython3",
   "version": "3.9.13"
  },
  "toc": {
   "base_numbering": 1,
   "nav_menu": {},
   "number_sections": true,
   "sideBar": true,
   "skip_h1_title": false,
   "title_cell": "Table of Contents",
   "title_sidebar": "Contents",
   "toc_cell": false,
   "toc_position": {},
   "toc_section_display": true,
   "toc_window_display": false
  },
  "varInspector": {
   "cols": {
    "lenName": 16,
    "lenType": 16,
    "lenVar": 40
   },
   "kernels_config": {
    "python": {
     "delete_cmd_postfix": "",
     "delete_cmd_prefix": "del ",
     "library": "var_list.py",
     "varRefreshCmd": "print(var_dic_list())"
    },
    "r": {
     "delete_cmd_postfix": ") ",
     "delete_cmd_prefix": "rm(",
     "library": "var_list.r",
     "varRefreshCmd": "cat(var_dic_list()) "
    }
   },
   "types_to_exclude": [
    "module",
    "function",
    "builtin_function_or_method",
    "instance",
    "_Feature"
   ],
   "window_display": false
  }
 },
 "nbformat": 4,
 "nbformat_minor": 5
}
