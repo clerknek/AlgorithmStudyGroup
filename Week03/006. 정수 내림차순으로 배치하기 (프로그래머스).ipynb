{
 "cells": [
  {
   "attachments": {
    "image.png": {
     "image/png": "[encoded data removed]"
    }
   },
   "cell_type": "markdown",
   "id": "23587ffc",
   "metadata": {},
   "source": [
    "## 006. 정수 내림차순으로 배치하기\n",
    "- PROGRAMMERS https://school.programmers.co.kr/learn/courses/30/lessons/12933\n",
    "\n",
    "### 문제\n",
    "- 함수 solution은 정수 n을 매개변수로 입력받습니다. n의 각 자릿수를 큰것부터 작은 순으로 정렬한 새로운 정수를 리턴해주세요. 예를들어 n이 118372면 873211을 리턴하면 됩니다.\n",
    "\n",
    "### 제한 조건\n",
    "- n은 1이상 8000000000 이하인 자연수입니다.\n",
    "\n",
    "### 입출력 예\n",
    "![image.png](attachment:image.png)"
   ]
  },
  {
   "cell_type": "code",
   "execution_count": 1,
   "id": "586aec09",
   "metadata": {
    "ExecuteTime": {
     "end_time": "2023-01-21T11:02:58.870859Z",
     "start_time": "2023-01-21T11:02:58.860858Z"
    }
   },
   "outputs": [],
   "source": [
    "def solution(n):\n",
    "    return int(\"\".join(sorted(str(n), reverse = True)))"
   ]
  },
  {
   "cell_type": "code",
   "execution_count": 2,
   "id": "65e56c18",
   "metadata": {
    "ExecuteTime": {
     "end_time": "2023-01-21T11:03:14.119834Z",
     "start_time": "2023-01-21T11:03:14.096846Z"
    }
   },
   "outputs": [
    {
     "data": {
      "text/plain": [
       "873211"
      ]
     },
     "execution_count": 2,
     "metadata": {},
     "output_type": "execute_result"
    }
   ],
   "source": [
    "n = 118372\n",
    "\n",
    "solution(n)"
   ]
  },
  {
   "cell_type": "markdown",
   "id": "a14602db",
   "metadata": {},
   "source": [
    "-----------"
   ]
  },
  {
   "cell_type": "markdown",
   "id": "4e97c0cb",
   "metadata": {},
   "source": [
    "### + 프로그래머스 형식에 맞지 않는 문제 해결법 (lambda 사용)"
   ]
  },
  {
   "cell_type": "code",
   "execution_count": 6,
   "id": "0bcba6df",
   "metadata": {
    "ExecuteTime": {
     "end_time": "2023-01-21T11:06:12.010984Z",
     "start_time": "2023-01-21T11:06:11.995364Z"
    }
   },
   "outputs": [
    {
     "data": {
      "text/plain": [
       "873211"
      ]
     },
     "execution_count": 6,
     "metadata": {},
     "output_type": "execute_result"
    }
   ],
   "source": [
    "n = 118372\n",
    "\n",
    "(lambda x: int(\"\".join(sorted(str(x), reverse = True))))(n)"
   ]
  }
 ],
 "metadata": {
  "kernelspec": {
   "display_name": "Python 3 (ipykernel)",
   "language": "python",
   "name": "python3"
  },
  "language_info": {
   "codemirror_mode": {
    "name": "ipython",
    "version": 3
   },
   "file_extension": ".py",
   "mimetype": "text/x-python",
   "name": "python",
   "nbconvert_exporter": "python",
   "pygments_lexer": "ipython3",
   "version": "3.9.13"
  },
  "toc": {
   "base_numbering": 1,
   "nav_menu": {},
   "number_sections": true,
   "sideBar": true,
   "skip_h1_title": false,
   "title_cell": "Table of Contents",
   "title_sidebar": "Contents",
   "toc_cell": false,
   "toc_position": {
    "height": "calc(100% - 180px)",
    "left": "10px",
    "top": "150px",
    "width": "165px"
   },
   "toc_section_display": true,
   "toc_window_display": false
  },
  "varInspector": {
   "cols": {
    "lenName": 16,
    "lenType": 16,
    "lenVar": 40
   },
   "kernels_config": {
    "python": {
     "delete_cmd_postfix": "",
     "delete_cmd_prefix": "del ",
     "library": "var_list.py",
     "varRefreshCmd": "print(var_dic_list())"
    },
    "r": {
     "delete_cmd_postfix": ") ",
     "delete_cmd_prefix": "rm(",
     "library": "var_list.r",
     "varRefreshCmd": "cat(var_dic_list()) "
    }
   },
   "types_to_exclude": [
    "module",
    "function",
    "builtin_function_or_method",
    "instance",
    "_Feature"
   ],
   "window_display": false
  }
 },
 "nbformat": 4,
 "nbformat_minor": 5
}
