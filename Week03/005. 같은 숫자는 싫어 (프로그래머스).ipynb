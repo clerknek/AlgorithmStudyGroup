{
 "cells": [
  {
   "attachments": {
    "image.png": {
     "image/png": "[encoded data removed]"
    }
   },
   "cell_type": "markdown",
   "id": "7a41bf94",
   "metadata": {},
   "source": [
    "## 005. 같은 숫자는 싫어\n",
    "- PROGRAMMERS https://school.programmers.co.kr/learn/courses/30/lessons/12906\n",
    "\n",
    "### 문제\n",
    "- 배열 arr가 주어집니다. 배열 arr의 각 원소는 숫자 0부터 9까지로 이루어져 있습니다. 이때, 배열 arr에서 연속적으로 나타나는 숫자는 하나만 남기고 전부 제거하려고 합니다. 단, 제거된 후 남은 수들을 반환할 때는 배열 arr의 원소들의 순서를 유지해야 합니다. 예를 들면,\n",
    "\n",
    "    - arr = [1, 1, 3, 3, 0, 1, 1] 이면 [1, 3, 0, 1] 을 return 합니다.\n",
    "    - arr = [4, 4, 4, 3, 3] 이면 [4, 3] 을 return 합니다.\n",
    "- 배열 arr에서 연속적으로 나타나는 숫자는 제거하고 남은 수들을 return 하는 solution 함수를 완성해 주세요.\n",
    "### 제한 조건\n",
    "- 배열 arr의 크기 : 1,000,000 이하의 자연수\n",
    "- 배열 arr의 원소의 크기 : 0보다 크거나 같고 9보다 작거나 같은 정수\n",
    "### 입출력 예\n",
    "![image.png](attachment:image.png)"
   ]
  },
  {
   "cell_type": "markdown",
   "id": "8adb01d8",
   "metadata": {},
   "source": [
    "### Solution1. 일반적 풀이"
   ]
  },
  {
   "cell_type": "code",
   "execution_count": 1,
   "id": "a23552a8",
   "metadata": {
    "ExecuteTime": {
     "end_time": "2023-01-21T11:19:47.743378Z",
     "start_time": "2023-01-21T11:19:47.700976Z"
    }
   },
   "outputs": [],
   "source": [
    "def solution(arr):\n",
    "    answer = [arr[0]]\n",
    "    for i in range(len(arr)-1):\n",
    "        if arr[i] != arr[i+1]:\n",
    "            answer.append(arr[i+1])\n",
    "    return answer"
   ]
  },
  {
   "cell_type": "code",
   "execution_count": null,
   "id": "a679e155",
   "metadata": {
    "ExecuteTime": {
     "end_time": "2023-01-21T11:19:48.228744Z",
     "start_time": "2023-01-21T11:19:48.228744Z"
    }
   },
   "outputs": [],
   "source": [
    "arr = [1, 1, 3, 3, 0, 1, 1]\n",
    "\n",
    "solution(arr)"
   ]
  },
  {
   "cell_type": "code",
   "execution_count": 2,
   "id": "5f5dda03",
   "metadata": {
    "ExecuteTime": {
     "end_time": "2023-01-21T11:19:48.531890Z",
     "start_time": "2023-01-21T11:19:48.490816Z"
    }
   },
   "outputs": [
    {
     "data": {
      "text/plain": [
       "[4, 3]"
      ]
     },
     "execution_count": 2,
     "metadata": {},
     "output_type": "execute_result"
    }
   ],
   "source": [
    "arr = [4, 4, 4, 3, 3, 3]\n",
    "\n",
    "solution(arr)"
   ]
  },
  {
   "cell_type": "markdown",
   "id": "108e4233",
   "metadata": {},
   "source": [
    "------"
   ]
  },
  {
   "cell_type": "markdown",
   "id": "1a520dcd",
   "metadata": {},
   "source": [
    "### Solution2. list comprehension을 사용한 풀이"
   ]
  },
  {
   "cell_type": "code",
   "execution_count": 3,
   "id": "46d16411",
   "metadata": {
    "ExecuteTime": {
     "end_time": "2023-01-21T11:19:50.456130Z",
     "start_time": "2023-01-21T11:19:50.446918Z"
    }
   },
   "outputs": [],
   "source": [
    "def solution(arr): \n",
    "    return [arr[0]]+[arr[i+1] for i in range(len(arr)-1) if arr[i] != arr[i+1]]"
   ]
  },
  {
   "cell_type": "code",
   "execution_count": 4,
   "id": "90d92c9a",
   "metadata": {
    "ExecuteTime": {
     "end_time": "2023-01-21T11:19:50.898219Z",
     "start_time": "2023-01-21T11:19:50.867949Z"
    }
   },
   "outputs": [
    {
     "data": {
      "text/plain": [
       "[1, 3, 0, 1]"
      ]
     },
     "execution_count": 4,
     "metadata": {},
     "output_type": "execute_result"
    }
   ],
   "source": [
    "arr = [1, 1, 3, 3, 0, 1, 1]\n",
    "\n",
    "solution(arr)"
   ]
  },
  {
   "cell_type": "code",
   "execution_count": 5,
   "id": "871e9fdb",
   "metadata": {
    "ExecuteTime": {
     "end_time": "2023-01-21T11:19:51.424144Z",
     "start_time": "2023-01-21T11:19:51.410256Z"
    }
   },
   "outputs": [
    {
     "data": {
      "text/plain": [
       "[4, 3]"
      ]
     },
     "execution_count": 5,
     "metadata": {},
     "output_type": "execute_result"
    }
   ],
   "source": [
    "arr = [4, 4, 4, 3, 3, 3]\n",
    "\n",
    "solution(arr)"
   ]
  },
  {
   "attachments": {
    "image.png": {
     "image/png": "[encoded data removed]"
    }
   },
   "cell_type": "markdown",
   "id": "396f5d63",
   "metadata": {},
   "source": [
    "![image.png](attachment:image.png)"
   ]
  }
 ],
 "metadata": {
  "kernelspec": {
   "display_name": "Python 3 (ipykernel)",
   "language": "python",
   "name": "python3"
  },
  "language_info": {
   "codemirror_mode": {
    "name": "ipython",
    "version": 3
   },
   "file_extension": ".py",
   "mimetype": "text/x-python",
   "name": "python",
   "nbconvert_exporter": "python",
   "pygments_lexer": "ipython3",
   "version": "3.9.13"
  },
  "toc": {
   "base_numbering": 1,
   "nav_menu": {},
   "number_sections": true,
   "sideBar": true,
   "skip_h1_title": false,
   "title_cell": "Table of Contents",
   "title_sidebar": "Contents",
   "toc_cell": false,
   "toc_position": {},
   "toc_section_display": true,
   "toc_window_display": false
  },
  "varInspector": {
   "cols": {
    "lenName": 16,
    "lenType": 16,
    "lenVar": 40
   },
   "kernels_config": {
    "python": {
     "delete_cmd_postfix": "",
     "delete_cmd_prefix": "del ",
     "library": "var_list.py",
     "varRefreshCmd": "print(var_dic_list())"
    },
    "r": {
     "delete_cmd_postfix": ") ",
     "delete_cmd_prefix": "rm(",
     "library": "var_list.r",
     "varRefreshCmd": "cat(var_dic_list()) "
    }
   },
   "types_to_exclude": [
    "module",
    "function",
    "builtin_function_or_method",
    "instance",
    "_Feature"
   ],
   "window_display": false
  }
 },
 "nbformat": 4,
 "nbformat_minor": 5
}
