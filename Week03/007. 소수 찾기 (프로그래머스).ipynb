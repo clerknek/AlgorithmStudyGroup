{
 "cells": [
  {
   "attachments": {
    "image.png": {
     "image/png": "[encoded data removed]"
    }
   },
   "cell_type": "markdown",
   "id": "8525a197",
   "metadata": {},
   "source": [
    "## 007. 소수 찾기\n",
    "- PROGRAMMERS https://school.programmers.co.kr/learn/courses/30/lessons/12921\n",
    "\n",
    "### 문제\n",
    "- 1부터 입력받은 숫자 n 사이에 있는 소수의 개수를 반환하는 함수, solution을 만들어 보세요.\n",
    "\n",
    "- 소수는 1과 자기 자신으로만 나누어지는 수를 의미합니다.\n",
    "- (1은 소수가 아닙니다.)\n",
    "\n",
    "### 제한 조건\n",
    "- n은 2이상 1000000이하의 자연수입니다.\n",
    "\n",
    "### 입출력 예\n",
    "![image.png](attachment:image.png)"
   ]
  },
  {
   "cell_type": "code",
   "execution_count": 67,
   "id": "3640c187",
   "metadata": {
    "ExecuteTime": {
     "end_time": "2023-01-24T12:51:40.612870Z",
     "start_time": "2023-01-24T12:51:40.598754Z"
    }
   },
   "outputs": [],
   "source": [
    "def solution(n):\n",
    "    answer = 0\n",
    "    \n",
    "    # 2부터 n까지의 모든 자연수를 나열\n",
    "    l = [a for a in range(2, n+1)]\n",
    "\n",
    "    # i: 남은 수중 아직 처리하지 않은 가장 작은 수의 인덱스 값\n",
    "    i = 2\n",
    "    while True:\n",
    "        # a: 남은 수 중 처리하지 않은 가장 작은 수의 배수 값\n",
    "        a = i\n",
    "        # a의 값을 더 해 가면서 소수가 아닌 값을 차례로 제거해준다.\n",
    "        while (i+a)<=n:\n",
    "            if i+a in l:\n",
    "                l.remove(i+a)\n",
    "            a += a\n",
    "        i += 1\n",
    "        # 만약 i가 기존에 있\n",
    "        if len(l) < i:\n",
    "            break\n",
    "    return len(l)"
   ]
  },
  {
   "cell_type": "code",
   "execution_count": 68,
   "id": "36fa89ff",
   "metadata": {
    "ExecuteTime": {
     "end_time": "2023-01-24T12:51:41.092602Z",
     "start_time": "2023-01-24T12:51:41.079491Z"
    },
    "scrolled": true
   },
   "outputs": [
    {
     "data": {
      "text/plain": [
       "4"
      ]
     },
     "execution_count": 68,
     "metadata": {},
     "output_type": "execute_result"
    }
   ],
   "source": [
    "solution(10)"
   ]
  },
  {
   "cell_type": "code",
   "execution_count": 69,
   "id": "cdcebeec",
   "metadata": {
    "ExecuteTime": {
     "end_time": "2023-01-24T12:51:42.005955Z",
     "start_time": "2023-01-24T12:51:41.993535Z"
    }
   },
   "outputs": [
    {
     "data": {
      "text/plain": [
       "3"
      ]
     },
     "execution_count": 69,
     "metadata": {},
     "output_type": "execute_result"
    }
   ],
   "source": [
    "solution(5)"
   ]
  },
  {
   "cell_type": "code",
   "execution_count": 72,
   "id": "1dc7cdb6",
   "metadata": {
    "ExecuteTime": {
     "end_time": "2023-01-24T12:53:00.406561Z",
     "start_time": "2023-01-24T12:53:00.384526Z"
    }
   },
   "outputs": [],
   "source": [
    "def solution(n):\n",
    "    answer = 0\n",
    "    \n",
    "    # 2부터 n까지의 모든 자연수를 나열\n",
    "    l = [a for a in range(2, n+1)]\n",
    "\n",
    "    # i: 남은 수중 아직 처리하지 않은 가장 작은 수의 인덱스 값\n",
    "    i = 2\n",
    "    while True:\n",
    "        a = i\n",
    "        print('\\n', a)\n",
    "        while (i+a)<=n:\n",
    "            print(l, i+a)\n",
    "            if i+a in l:\n",
    "                l.remove(i+a)\n",
    "            a += a\n",
    "        i += 1\n",
    "        if len(l) < i:\n",
    "            break\n",
    "    print(l)\n",
    "    return len(l)"
   ]
  },
  {
   "cell_type": "code",
   "execution_count": 73,
   "id": "cfd9b77f",
   "metadata": {
    "ExecuteTime": {
     "end_time": "2023-01-24T12:53:00.751631Z",
     "start_time": "2023-01-24T12:53:00.720222Z"
    }
   },
   "outputs": [
    {
     "name": "stdout",
     "output_type": "stream",
     "text": [
      "\n",
      " 2\n",
      "[2, 3, 4, 5, 6, 7, 8, 9, 10] 4\n",
      "[2, 3, 5, 6, 7, 8, 9, 10] 6\n",
      "[2, 3, 5, 7, 8, 9, 10] 10\n",
      "\n",
      " 3\n",
      "[2, 3, 5, 7, 8, 9] 6\n",
      "[2, 3, 5, 7, 8, 9] 9\n",
      "\n",
      " 4\n",
      "[2, 3, 5, 7, 8] 8\n",
      "[2, 3, 5, 7]\n"
     ]
    },
    {
     "data": {
      "text/plain": [
       "4"
      ]
     },
     "execution_count": 73,
     "metadata": {},
     "output_type": "execute_result"
    }
   ],
   "source": [
    "solution(10)"
   ]
  },
  {
   "cell_type": "code",
   "execution_count": 14,
   "id": "86aad146",
   "metadata": {
    "ExecuteTime": {
     "end_time": "2023-01-24T06:08:43.458248Z",
     "start_time": "2023-01-24T06:08:43.433447Z"
    }
   },
   "outputs": [
    {
     "data": {
      "text/plain": [
       "[2, 3, 4, 5]"
      ]
     },
     "execution_count": 14,
     "metadata": {},
     "output_type": "execute_result"
    }
   ],
   "source": [
    "l"
   ]
  },
  {
   "cell_type": "code",
   "execution_count": 58,
   "id": "8d453147",
   "metadata": {
    "ExecuteTime": {
     "end_time": "2023-01-24T12:49:54.180780Z",
     "start_time": "2023-01-24T12:49:54.173461Z"
    }
   },
   "outputs": [],
   "source": [
    "a = [2, 3, 4, 5]\n",
    "a.remove(2)"
   ]
  },
  {
   "cell_type": "code",
   "execution_count": 59,
   "id": "2df7ce40",
   "metadata": {
    "ExecuteTime": {
     "end_time": "2023-01-24T12:49:55.433662Z",
     "start_time": "2023-01-24T12:49:55.412174Z"
    }
   },
   "outputs": [
    {
     "data": {
      "text/plain": [
       "[3, 4, 5]"
      ]
     },
     "execution_count": 59,
     "metadata": {},
     "output_type": "execute_result"
    }
   ],
   "source": [
    "a"
   ]
  },
  {
   "cell_type": "code",
   "execution_count": 60,
   "id": "8ebfa63f",
   "metadata": {
    "ExecuteTime": {
     "end_time": "2023-01-24T12:50:03.484693Z",
     "start_time": "2023-01-24T12:50:03.453684Z"
    }
   },
   "outputs": [
    {
     "ename": "ValueError",
     "evalue": "list.remove(x): x not in list",
     "output_type": "error",
     "traceback": [
      "\u001b[1;31m---------------------------------------------------------------------------\u001b[0m",
      "\u001b[1;31mValueError\u001b[0m                                Traceback (most recent call last)",
      "\u001b[1;32m~\\AppData\\Local\\Temp\\ipykernel_12872\\2479615058.py\u001b[0m in \u001b[0;36m<module>\u001b[1;34m\u001b[0m\n\u001b[1;32m----> 1\u001b[1;33m \u001b[0ma\u001b[0m\u001b[1;33m.\u001b[0m\u001b[0mremove\u001b[0m\u001b[1;33m(\u001b[0m\u001b[1;36m2\u001b[0m\u001b[1;33m)\u001b[0m\u001b[1;33m\u001b[0m\u001b[1;33m\u001b[0m\u001b[0m\n\u001b[0m",
      "\u001b[1;31mValueError\u001b[0m: list.remove(x): x not in list"
     ]
    }
   ],
   "source": [
    "a.remove(2)"
   ]
  },
  {
   "cell_type": "code",
   "execution_count": null,
   "id": "2628d157",
   "metadata": {},
   "outputs": [],
   "source": []
  }
 ],
 "metadata": {
  "kernelspec": {
   "display_name": "Python 3 (ipykernel)",
   "language": "python",
   "name": "python3"
  },
  "language_info": {
   "codemirror_mode": {
    "name": "ipython",
    "version": 3
   },
   "file_extension": ".py",
   "mimetype": "text/x-python",
   "name": "python",
   "nbconvert_exporter": "python",
   "pygments_lexer": "ipython3",
   "version": "3.9.13"
  },
  "toc": {
   "base_numbering": 1,
   "nav_menu": {},
   "number_sections": true,
   "sideBar": true,
   "skip_h1_title": false,
   "title_cell": "Table of Contents",
   "title_sidebar": "Contents",
   "toc_cell": false,
   "toc_position": {},
   "toc_section_display": true,
   "toc_window_display": false
  },
  "varInspector": {
   "cols": {
    "lenName": 16,
    "lenType": 16,
    "lenVar": 40
   },
   "kernels_config": {
    "python": {
     "delete_cmd_postfix": "",
     "delete_cmd_prefix": "del ",
     "library": "var_list.py",
     "varRefreshCmd": "print(var_dic_list())"
    },
    "r": {
     "delete_cmd_postfix": ") ",
     "delete_cmd_prefix": "rm(",
     "library": "var_list.r",
     "varRefreshCmd": "cat(var_dic_list()) "
    }
   },
   "types_to_exclude": [
    "module",
    "function",
    "builtin_function_or_method",
    "instance",
    "_Feature"
   ],
   "window_display": false
  }
 },
 "nbformat": 4,
 "nbformat_minor": 5
}
