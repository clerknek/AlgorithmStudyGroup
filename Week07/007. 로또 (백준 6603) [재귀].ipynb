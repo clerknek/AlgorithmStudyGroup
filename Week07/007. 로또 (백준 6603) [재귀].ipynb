{
 "cells": [
  {
   "cell_type": "markdown",
   "id": "9f79f610",
   "metadata": {},
   "source": [
    "## 007. 로또\n",
    "- BAEKJOON 6603 https://www.acmicpc.net/problem/6603\n",
    "\n",
    "### 문제\n",
    "- 독일 로또는 {1, 2, ..., 49}에서 수 6개를 고른다.\n",
    "\n",
    "- 로또 번호를 선택하는데 사용되는 가장 유명한 전략은 49가지 수 중 k(k>6)개의 수를 골라 집합 S를 만든 다음 그 수만 가지고 번호를 선택하는 것이다.\n",
    "\n",
    "- 예를 들어, k=8, S={1,2,3,5,8,13,21,34}인 경우 이 집합 S에서 수를 고를 수 있는 경우의 수는 총 28가지이다. ([1,2,3,5,8,13], [1,2,3,5,8,21], [1,2,3,5,8,34], [1,2,3,5,13,21], ..., [3,5,8,13,21,34])\n",
    "\n",
    "- 집합 S와 k가 주어졌을 때, 수를 고르는 모든 방법을 구하는 프로그램을 작성하시오.\n",
    "\n",
    "### 입력\n",
    "- 입력은 여러 개의 테스트 케이스로 이루어져 있다. 각 테스트 케이스는 한 줄로 이루어져 있다. 첫 번째 수는 k (6 < k < 13)이고, 다음 k개 수는 집합 S에 포함되는 수이다. S의 원소는 오름차순으로 주어진다.\n",
    "\n",
    "- 입력의 마지막 줄에는 0이 하나 주어진다. \n",
    "\n",
    "### 출력\n",
    "- 각 테스트 케이스마다 수를 고르는 모든 방법을 출력한다. 이때, 사전 순으로 출력한다.\n",
    "\n",
    "- 각 테스트 케이스 사이에는 빈 줄을 하나 출력한다."
   ]
  },
  {
   "cell_type": "markdown",
   "id": "aae3724b",
   "metadata": {},
   "source": [
    "### Solution 01. 조합으로 풀기"
   ]
  },
  {
   "cell_type": "code",
   "execution_count": 10,
   "id": "3c55baea",
   "metadata": {
    "ExecuteTime": {
     "end_time": "2023-02-21T00:22:00.539531Z",
     "start_time": "2023-02-21T00:21:50.184121Z"
    },
    "scrolled": false
   },
   "outputs": [
    {
     "name": "stdout",
     "output_type": "stream",
     "text": [
      "7 1 2 3 4 5 6 7\n",
      "1 2 3 4 5 6 \n",
      "1 2 3 4 5 7 \n",
      "1 2 3 4 6 7 \n",
      "1 2 3 5 6 7 \n",
      "1 2 4 5 6 7 \n",
      "1 3 4 5 6 7 \n",
      "2 3 4 5 6 7 \n",
      "\n",
      "8 1 2 3 5 8 13 21 34\n",
      "1 2 3 5 8 13 \n",
      "1 2 3 5 8 21 \n",
      "1 2 3 5 8 34 \n",
      "1 2 3 5 13 21 \n",
      "1 2 3 5 13 34 \n",
      "1 2 3 5 21 34 \n",
      "1 2 3 8 13 21 \n",
      "1 2 3 8 13 34 \n",
      "1 2 3 8 21 34 \n",
      "1 2 3 13 21 34 \n",
      "1 2 5 8 13 21 \n",
      "1 2 5 8 13 34 \n",
      "1 2 5 8 21 34 \n",
      "1 2 5 13 21 34 \n",
      "1 2 8 13 21 34 \n",
      "1 3 5 8 13 21 \n",
      "1 3 5 8 13 34 \n",
      "1 3 5 8 21 34 \n",
      "1 3 5 13 21 34 \n",
      "1 3 8 13 21 34 \n",
      "1 5 8 13 21 34 \n",
      "2 3 5 8 13 21 \n",
      "2 3 5 8 13 34 \n",
      "2 3 5 8 21 34 \n",
      "2 3 5 13 21 34 \n",
      "2 3 8 13 21 34 \n",
      "2 5 8 13 21 34 \n",
      "3 5 8 13 21 34 \n",
      "\n",
      "0\n"
     ]
    }
   ],
   "source": [
    "import itertools\n",
    "\n",
    "while True:\n",
    "    input_num = list(map(int, input().split()))\n",
    "    if input_num == [0]:\n",
    "        break\n",
    "    k = input_num[0]\n",
    "    s = input_num[1:]\n",
    "    s.sort()\n",
    "    r = list(itertools.combinations(s, 6))\n",
    "    for i in r:\n",
    "        for j in i:\n",
    "            print(j, end=' ')\n",
    "        print()\n",
    "    print()"
   ]
  }
 ],
 "metadata": {
  "kernelspec": {
   "display_name": "Python 3 (ipykernel)",
   "language": "python",
   "name": "python3"
  },
  "language_info": {
   "codemirror_mode": {
    "name": "ipython",
    "version": 3
   },
   "file_extension": ".py",
   "mimetype": "text/x-python",
   "name": "python",
   "nbconvert_exporter": "python",
   "pygments_lexer": "ipython3",
   "version": "3.9.13"
  },
  "toc": {
   "base_numbering": 1,
   "nav_menu": {},
   "number_sections": true,
   "sideBar": true,
   "skip_h1_title": false,
   "title_cell": "Table of Contents",
   "title_sidebar": "Contents",
   "toc_cell": false,
   "toc_position": {},
   "toc_section_display": true,
   "toc_window_display": false
  },
  "varInspector": {
   "cols": {
    "lenName": 16,
    "lenType": 16,
    "lenVar": 40
   },
   "kernels_config": {
    "python": {
     "delete_cmd_postfix": "",
     "delete_cmd_prefix": "del ",
     "library": "var_list.py",
     "varRefreshCmd": "print(var_dic_list())"
    },
    "r": {
     "delete_cmd_postfix": ") ",
     "delete_cmd_prefix": "rm(",
     "library": "var_list.r",
     "varRefreshCmd": "cat(var_dic_list()) "
    }
   },
   "types_to_exclude": [
    "module",
    "function",
    "builtin_function_or_method",
    "instance",
    "_Feature"
   ],
   "window_display": false
  }
 },
 "nbformat": 4,
 "nbformat_minor": 5
}
