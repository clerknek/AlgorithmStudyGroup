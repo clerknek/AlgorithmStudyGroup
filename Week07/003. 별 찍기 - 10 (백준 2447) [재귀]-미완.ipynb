{
 "cells": [
  {
   "cell_type": "markdown",
   "id": "467de721",
   "metadata": {},
   "source": [
    "## 003. 별찍기\n",
    "- BAEKJOON 2447 https://www.acmicpc.net/problem/2447\n",
    "\n",
    "### 문제\n",
    "- 재귀적인 패턴으로 별을 찍어 보자. N이 3의 거듭제곱(3, 9, 27, ...)이라고 할 때, 크기 N의 패턴은 N×N 정사각형 모양이다.\n",
    "\n",
    "- 크기 3의 패턴은 가운데에 공백이 있고, 가운데를 제외한 모든 칸에 별이 하나씩 있는 패턴이다.\n",
    "    ```\n",
    "    ***\n",
    "    * *\n",
    "    ***\n",
    "    ```\n",
    "- N이 3보다 클 경우, 크기 N의 패턴은 공백으로 채워진 가운데의 (N/3)×(N/3) 정사각형을 크기 N/3의 패턴으로 둘러싼 형태이다. 예를 들어 크기 27의 패턴은 예제 출력 1과 같다.\n",
    "\n",
    "### 입력\n",
    "- 첫째 줄에 N이 주어진다. N은 3의 거듭제곱이다. 즉 어떤 정수 k에 대해 N=3k이며, 이때 1 ≤ k < 8이다.\n",
    "\n",
    "### 출력\n",
    "- 첫째 줄부터 N번째 줄까지 별을 출력한다.\n",
    "\n"
   ]
  },
  {
   "cell_type": "markdown",
   "id": "f03a0793",
   "metadata": {},
   "source": [
    "### Solution 01. 별을 그린 후 지워가는 방식 -> 메모리 초과"
   ]
  },
  {
   "cell_type": "code",
   "execution_count": 8,
   "id": "18f2190d",
   "metadata": {
    "ExecuteTime": {
     "end_time": "2023-02-15T03:00:27.128290Z",
     "start_time": "2023-02-15T03:00:25.691985Z"
    },
    "scrolled": false
   },
   "outputs": [
    {
     "name": "stdout",
     "output_type": "stream",
     "text": [
      "27\n",
      "***************************\n",
      "* ** ** ** ** ** ** ** ** *\n",
      "***************************\n",
      "***   ***   ***   ***   ***\n",
      "* *   * *   * *   * *   * *\n",
      "***   ***   ***   ***   ***\n",
      "***************************\n",
      "* ** ** ** ** ** ** ** ** *\n",
      "***************************\n",
      "***   ***         ***   ***\n",
      "* *   * *         * *   * *\n",
      "***   ***         ***   ***\n",
      "*********         *********\n",
      "* ** ** *         * ** ** *\n",
      "*********         *********\n",
      "***   ***         ***   ***\n",
      "* *   * *         * *   * *\n",
      "***   ***         ***   ***\n",
      "***************************\n",
      "* ** ** ** ** ** ** ** ** *\n",
      "***************************\n",
      "***   ***   ***   ***   ***\n",
      "* *   * *   * *   * *   * *\n",
      "***   ***   ***   ***   ***\n",
      "***************************\n",
      "* ** ** ** ** ** ** ** ** *\n",
      "***************************\n"
     ]
    }
   ],
   "source": [
    "# 1, 3, 3*2, 3*3\n",
    "n = int(int(input())**(1/3))\n",
    "l = []\n",
    "for i in range(3**n):\n",
    "    if i % 3 == 1:\n",
    "        l.append([\"*\", \" \", \"*\"]*(3**(n-1)))\n",
    "    else:\n",
    "        l.append(list(\"*\"*(3**n)))\n",
    "    \n",
    "def make_space(arr, n):\n",
    "    # 빈공간 좌표\n",
    "    s_l = [i for i in range(1, len(arr), 3**n)][1:]\n",
    "    b = [[j for j in range(s_l[i], s_l[i+1])] for i in range(0, len(s_l)-1, 2)]\n",
    "    b = sum(b, [])\n",
    "    for i in b:\n",
    "        for j in b:\n",
    "            arr[i-1][j-1]=' '\n",
    "    return arr\n",
    "\n",
    "for i in range(1, n+1):\n",
    "    l = make_space(l, i)\n",
    "for i in range(len(l)):\n",
    "    print(\"\".join(l[i]))"
   ]
  },
  {
   "cell_type": "markdown",
   "id": "bce81dd6",
   "metadata": {},
   "source": [
    "## Solution02. 한줄 씩 print"
   ]
  },
  {
   "cell_type": "markdown",
   "id": "69eb84ae",
   "metadata": {},
   "source": [
    "- 네모를 중점으로"
   ]
  },
  {
   "cell_type": "code",
   "execution_count": 47,
   "id": "0902e03b",
   "metadata": {
    "ExecuteTime": {
     "end_time": "2023-02-15T15:42:00.455932Z",
     "start_time": "2023-02-15T15:41:59.583628Z"
    }
   },
   "outputs": [
    {
     "name": "stdout",
     "output_type": "stream",
     "text": [
      "27\n",
      "a [10, 19]\n",
      "b [10, 11, 12, 13, 14, 15, 16, 17, 18]\n",
      "[[10, 11, 12, 13, 14, 15, 16, 17, 18]]\n",
      "a [4, 7, 10, 13, 16, 19, 22, 25]\n",
      "b [4, 5, 6, 10, 11, 12, 16, 17, 18, 22, 23, 24]\n",
      "***************************\n",
      "* ** ** ** ** ** ** ** ** *\n",
      "***************************\n",
      "****   ***   ***   ***   **\n",
      "* **    **    **    **    *\n",
      "****   ***   ***   ***   **\n",
      "***************************\n",
      "* ** ** ** ** ** ** ** ** *\n",
      "***************************\n",
      "****   ***         ***   **\n",
      "* **    **          **    *\n",
      "****   ***         ***   **\n",
      "**********         ********\n",
      "* ** ** **          ** ** *\n",
      "**********         ********\n",
      "****   ***         ***   **\n",
      "* **    **          **    *\n",
      "****   ***         ***   **\n",
      "***************************\n",
      "* ** ** ** ** ** ** ** ** *\n",
      "***************************\n",
      "****   ***   ***   ***   **\n",
      "* **    **    **    **    *\n",
      "****   ***   ***   ***   **\n",
      "***************************\n",
      "* ** ** ** ** ** ** ** ** *\n",
      "***************************\n"
     ]
    }
   ],
   "source": [
    "def make_line(n, l, k):\n",
    "    a = [i for i in range(1, n, 3**k)][1:]\n",
    "    print('a', a)\n",
    "    b = sum([[j for j in range(a[i], a[i+1])] for i in range(0, len(a)-1, 2)], [])\n",
    "    print('b', b)\n",
    "    l += [b]\n",
    "    if k > 1:\n",
    "        print(l)\n",
    "        make_line(n, l, k-1)\n",
    "    return l\n",
    "\n",
    "n = int(input())\n",
    "l = []\n",
    "l = make_line(n, l, int(n**(1/3))-1)\n",
    "\n",
    "for i in range(1, n+1):\n",
    "    if i % 3 == 2:\n",
    "        r = [\"*\", \" \", \"*\"]*(n//3)\n",
    "    else:\n",
    "        r = [\"*\"]*n\n",
    "    for j in range(1, n+1):\n",
    "        for k in range(len(l)):\n",
    "            if j in l[k] and i in l[k]:\n",
    "                r[j] = ' '\n",
    "    print(''.join(r))"
   ]
  },
  {
   "cell_type": "code",
   "execution_count": 34,
   "id": "b602516e",
   "metadata": {
    "ExecuteTime": {
     "end_time": "2023-02-15T15:34:46.882290Z",
     "start_time": "2023-02-15T15:34:46.854253Z"
    }
   },
   "outputs": [
    {
     "data": {
      "text/plain": [
       "[[10, 11, 12, 13, 14, 15, 16, 17, 18],\n",
       " [4, 5, 6, 10, 11, 12, 16, 17, 18, 22, 23, 24],\n",
       " [2, 4, 6, 8, 10, 12, 14, 16, 18, 20, 22, 24]]"
      ]
     },
     "execution_count": 34,
     "metadata": {},
     "output_type": "execute_result"
    }
   ],
   "source": [
    "n = int(input())\n",
    "\n"
   ]
  },
  {
   "cell_type": "code",
   "execution_count": 9,
   "id": "c0745145",
   "metadata": {
    "ExecuteTime": {
     "end_time": "2023-02-15T15:11:04.275021Z",
     "start_time": "2023-02-15T15:11:04.257046Z"
    }
   },
   "outputs": [
    {
     "name": "stdout",
     "output_type": "stream",
     "text": [
      "* ** ** ** ** ** ** ** ** *\n"
     ]
    }
   ],
   "source": [
    "l = []\n",
    "print(make_line(27, l, 0))"
   ]
  },
  {
   "cell_type": "code",
   "execution_count": null,
   "id": "dd292d04",
   "metadata": {
    "ExecuteTime": {
     "end_time": "2023-02-14T10:44:58.197710Z",
     "start_time": "2023-02-14T10:44:58.197710Z"
    }
   },
   "outputs": [],
   "source": [
    "a = [\"*\", \" \", \"*\"]*5\n",
    "a[1] = \"0\"\n",
    "print(a)"
   ]
  },
  {
   "cell_type": "code",
   "execution_count": 49,
   "id": "bf9b42d3",
   "metadata": {
    "ExecuteTime": {
     "end_time": "2023-02-15T15:43:04.837586Z",
     "start_time": "2023-02-15T15:43:04.817617Z"
    }
   },
   "outputs": [
    {
     "data": {
      "text/plain": [
       "[4, 7, 10, 13, 16, 19, 22, 25]"
      ]
     },
     "execution_count": 49,
     "metadata": {},
     "output_type": "execute_result"
    }
   ],
   "source": [
    "a = [i for i in range(1, 27, 3)][1:]\n",
    "a"
   ]
  },
  {
   "cell_type": "code",
   "execution_count": 97,
   "id": "3cee9012",
   "metadata": {
    "ExecuteTime": {
     "end_time": "2023-02-14T10:14:39.388764Z",
     "start_time": "2023-02-14T10:14:39.353733Z"
    }
   },
   "outputs": [
    {
     "data": {
      "text/plain": [
       "[[8, 10, 12], [14, 16, 18], [20, 22, 24], [26, 28, 30]]"
      ]
     },
     "execution_count": 97,
     "metadata": {},
     "output_type": "execute_result"
    }
   ],
   "source": [
    "b = [[j*2 for j in range(a[i], a[i+1])] for i in range(len(a)//2)]\n",
    "b"
   ]
  },
  {
   "cell_type": "code",
   "execution_count": 12,
   "id": "1d6975f7",
   "metadata": {
    "ExecuteTime": {
     "end_time": "2023-02-15T15:15:20.104837Z",
     "start_time": "2023-02-15T15:15:20.092786Z"
    }
   },
   "outputs": [
    {
     "data": {
      "text/plain": [
       "[4, 5, 6, 10, 11, 12, 16, 17, 18, 22, 23, 24]"
      ]
     },
     "execution_count": 12,
     "metadata": {},
     "output_type": "execute_result"
    }
   ],
   "source": [
    "b = sum([[j for j in range(a[i], a[i+1])] for i in range(0, len(a)-1, 2)], [])\n",
    "b"
   ]
  },
  {
   "cell_type": "code",
   "execution_count": 54,
   "id": "2a0f572a",
   "metadata": {
    "ExecuteTime": {
     "end_time": "2023-02-14T08:20:33.765739Z",
     "start_time": "2023-02-14T08:20:33.750598Z"
    }
   },
   "outputs": [
    {
     "name": "stdout",
     "output_type": "stream",
     "text": [
      "4\n",
      "5\n",
      "6\n",
      "10\n",
      "11\n",
      "12\n",
      "16\n",
      "17\n",
      "18\n",
      "22\n",
      "23\n",
      "24\n"
     ]
    }
   ],
   "source": [
    "for i in range(0, len(a), 2):\n",
    "    for j in range(a[i], a[i+1]):\n",
    "        print(j)"
   ]
  },
  {
   "cell_type": "code",
   "execution_count": 38,
   "id": "cd46b699",
   "metadata": {
    "ExecuteTime": {
     "end_time": "2023-02-14T08:09:23.497544Z",
     "start_time": "2023-02-14T08:09:23.474535Z"
    }
   },
   "outputs": [
    {
     "data": {
      "text/plain": [
       "[5, 6, 7]"
      ]
     },
     "execution_count": 38,
     "metadata": {},
     "output_type": "execute_result"
    }
   ],
   "source": [
    "a = [1, 2, 3, 4, 5, 6, 7, 8, 9, 10]\n",
    "a[4:7]"
   ]
  }
 ],
 "metadata": {
  "kernelspec": {
   "display_name": "Python 3 (ipykernel)",
   "language": "python",
   "name": "python3"
  },
  "language_info": {
   "codemirror_mode": {
    "name": "ipython",
    "version": 3
   },
   "file_extension": ".py",
   "mimetype": "text/x-python",
   "name": "python",
   "nbconvert_exporter": "python",
   "pygments_lexer": "ipython3",
   "version": "3.9.13"
  },
  "toc": {
   "base_numbering": 1,
   "nav_menu": {},
   "number_sections": true,
   "sideBar": true,
   "skip_h1_title": false,
   "title_cell": "Table of Contents",
   "title_sidebar": "Contents",
   "toc_cell": false,
   "toc_position": {},
   "toc_section_display": true,
   "toc_window_display": false
  },
  "varInspector": {
   "cols": {
    "lenName": 16,
    "lenType": 16,
    "lenVar": 40
   },
   "kernels_config": {
    "python": {
     "delete_cmd_postfix": "",
     "delete_cmd_prefix": "del ",
     "library": "var_list.py",
     "varRefreshCmd": "print(var_dic_list())"
    },
    "r": {
     "delete_cmd_postfix": ") ",
     "delete_cmd_prefix": "rm(",
     "library": "var_list.r",
     "varRefreshCmd": "cat(var_dic_list()) "
    }
   },
   "types_to_exclude": [
    "module",
    "function",
    "builtin_function_or_method",
    "instance",
    "_Feature"
   ],
   "window_display": false
  }
 },
 "nbformat": 4,
 "nbformat_minor": 5
}
