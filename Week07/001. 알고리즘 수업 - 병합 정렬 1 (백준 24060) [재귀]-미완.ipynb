{
 "cells": [
  {
   "cell_type": "markdown",
   "id": "48ff2685",
   "metadata": {},
   "source": [
    "## 001. 알고리즘 수업 - 병합 정렬 1\n",
    "- BAEKJOON 24060 https://www.acmicpc.net/problem/24060\n",
    "\n",
    "### 문제\n",
    "- 오늘도 서준이는 병합 정렬 수업 조교를 하고 있다. 아빠가 수업한 내용을 학생들이 잘 이해했는지 문제를 통해서 확인해보자.\n",
    "\n",
    "- N개의 서로 다른 양의 정수가 저장된 배열 A가 있다. 병합 정렬로 배열 A를 오름차순 정렬할 경우 배열 A에 K 번째 저장되는 수를 구해서 우리 서준이를 도와주자.\n",
    "\n",
    "- 크기가 N인 배열에 대한 병합 정렬 의사 코드는 다음과 같다.\n",
    "\n",
    "    ```\n",
    "    merge_sort(A[p..r]) { # A[p..r]을 오름차순 정렬한다.\n",
    "        if (p < r) then {\n",
    "            q <- ⌊(p + r) / 2⌋;       # q는 p, r의 중간 지점\n",
    "            merge_sort(A, p, q);      # 전반부 정렬\n",
    "            merge_sort(A, q + 1, r);  # 후반부 정렬\n",
    "            merge(A, p, q, r);        # 병합\n",
    "        }\n",
    "    }\n",
    "\n",
    "    # A[p..q]와 A[q+1..r]을 병합하여 A[p..r]을 오름차순 정렬된 상태로 만든다.\n",
    "    # A[p..q]와 A[q+1..r]은 이미 오름차순으로 정렬되어 있다.\n",
    "    merge(A[], p, q, r) {\n",
    "        i <- p; j <- q + 1; t <- 1;\n",
    "        while (i ≤ q and j ≤ r) {\n",
    "            if (A[i] ≤ A[j])\n",
    "            then tmp[t++] <- A[i++]; # tmp[t] <- A[i]; t++; i++;\n",
    "            else tmp[t++] <- A[j++]; # tmp[t] <- A[j]; t++; j++;\n",
    "        }\n",
    "        while (i ≤ q)  # 왼쪽 배열 부분이 남은 경우\n",
    "            tmp[t++] <- A[i++];\n",
    "        while (j ≤ r)  # 오른쪽 배열 부분이 남은 경우\n",
    "            tmp[t++] <- A[j++];\n",
    "        i <- p; t <- 1;\n",
    "        while (i ≤ r)  # 결과를 A[p..r]에 저장\n",
    "            A[i++] <- tmp[t++]; \n",
    "    }\n",
    "\n",
    "    ```\n",
    "    \n",
    "### 입력\n",
    "- 첫째 줄에 배열 A의 크기 N(5 ≤ N ≤ 500,000), 저장 횟수 K(1 ≤ K ≤ 108)가 주어진다.\n",
    "\n",
    "- 다음 줄에 서로 다른 배열 A의 원소 A1, A2, ..., AN이 주어진다. (1 ≤ Ai ≤ 109)\n",
    "\n",
    "### 출력\n",
    "- 배열 A에 K 번째 저장 되는 수를 출력한다. 저장 횟수가 K 보다 작으면 -1을 출력한다."
   ]
  },
  {
   "cell_type": "code",
   "execution_count": 1,
   "id": "2cde3c14",
   "metadata": {
    "ExecuteTime": {
     "end_time": "2023-02-25T12:42:56.735059Z",
     "start_time": "2023-02-25T12:42:56.717062Z"
    }
   },
   "outputs": [],
   "source": [
    "def merge_sort(A, p, r):\n",
    "    if p < r and c  <= k:\n",
    "        q = A[len(A)//2]\n",
    "        merge_sort(A, p, q)\n",
    "        merge_sort(A, q + 1, r)\n",
    "        merge(A, p, q, r)\n",
    "    \n",
    "        \n",
    "def merge(A, p, q, r):\n",
    "    global c, k\n",
    "    \n",
    "    i = p\n",
    "    j = q + 1\n",
    "    tmp = []\n",
    "    while (i <= q and j <= r):\n",
    "        if (A[i] <= A[j]):\n",
    "            tmp.append(A[i])\n",
    "            i += 1\n",
    "        else:\n",
    "            tmp.append(A[j+1]) \n",
    "            i += 1\n",
    "            \n",
    "    while i <= q:\n",
    "        tmp.append(A[i])\n",
    "        i += 1\n",
    "\n",
    "    while j <= q:\n",
    "        tmp.append(A[j])\n",
    "        j += 1\n",
    "    i = p\n",
    "    t = 0\n",
    "    while i <= r:\n",
    "        A[i] = tmp[t]\n",
    "        c += 1\n",
    "        if c == k:\n",
    "            return A[i]\n",
    "        i += 1\n",
    "        t += 1\n",
    "\n",
    "# n, k = map(int, input().split())"
   ]
  },
  {
   "cell_type": "code",
   "execution_count": null,
   "id": "fba7aaa8",
   "metadata": {
    "ExecuteTime": {
     "start_time": "2023-02-25T12:42:57.467Z"
    }
   },
   "outputs": [],
   "source": [
    "n = 5\n",
    "k = 7\n",
    "l = [4, 5, 1, 3, 2]\n",
    "\n",
    "c = 0\n",
    "merge_sort([2, 5, 1, 3, 4], 0, 4)"
   ]
  },
  {
   "cell_type": "code",
   "execution_count": null,
   "id": "ab500e72",
   "metadata": {},
   "outputs": [],
   "source": []
  }
 ],
 "metadata": {
  "kernelspec": {
   "display_name": "Python 3 (ipykernel)",
   "language": "python",
   "name": "python3"
  },
  "language_info": {
   "codemirror_mode": {
    "name": "ipython",
    "version": 3
   },
   "file_extension": ".py",
   "mimetype": "text/x-python",
   "name": "python",
   "nbconvert_exporter": "python",
   "pygments_lexer": "ipython3",
   "version": "3.9.13"
  },
  "toc": {
   "base_numbering": 1,
   "nav_menu": {},
   "number_sections": true,
   "sideBar": true,
   "skip_h1_title": false,
   "title_cell": "Table of Contents",
   "title_sidebar": "Contents",
   "toc_cell": false,
   "toc_position": {},
   "toc_section_display": true,
   "toc_window_display": false
  },
  "varInspector": {
   "cols": {
    "lenName": 16,
    "lenType": 16,
    "lenVar": 40
   },
   "kernels_config": {
    "python": {
     "delete_cmd_postfix": "",
     "delete_cmd_prefix": "del ",
     "library": "var_list.py",
     "varRefreshCmd": "print(var_dic_list())"
    },
    "r": {
     "delete_cmd_postfix": ") ",
     "delete_cmd_prefix": "rm(",
     "library": "var_list.r",
     "varRefreshCmd": "cat(var_dic_list()) "
    }
   },
   "types_to_exclude": [
    "module",
    "function",
    "builtin_function_or_method",
    "instance",
    "_Feature"
   ],
   "window_display": false
  }
 },
 "nbformat": 4,
 "nbformat_minor": 5
}
