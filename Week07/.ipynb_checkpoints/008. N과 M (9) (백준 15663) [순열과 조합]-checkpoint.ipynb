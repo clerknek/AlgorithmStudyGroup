{
 "cells": [
  {
   "cell_type": "markdown",
   "id": "0768049d",
   "metadata": {},
   "source": [
    "## 008. N과 M (9)\n",
    "- BAEKJOON 15663 https://www.acmicpc.net/problem/15663\n",
    "\n",
    "### 문제\n",
    "- N개의 자연수와 자연수 M이 주어졌을 때, 아래 조건을 만족하는 길이가 M인 수열을 모두 구하는 프로그램을 작성하시오.\n",
    "\n",
    "    - N개의 자연수 중에서 M개를 고른 수열\n",
    "    \n",
    "### 입력\n",
    "- 첫째 줄에 N과 M이 주어진다. (1 ≤ M ≤ N ≤ 8)\n",
    "\n",
    "- 둘째 줄에 N개의 수가 주어진다. 입력으로 주어지는 수는 10,000보다 작거나 같은 자연수이다.\n",
    "\n",
    "### 출력\n",
    "- 한 줄에 하나씩 문제의 조건을 만족하는 수열을 출력한다. 중복되는 수열을 여러 번 출력하면 안되며, 각 수열은 공백으로 구분해서 출력해야 한다.\n",
    "\n",
    "- 수열은 사전 순으로 증가하는 순서로 출력해야 한다."
   ]
  },
  {
   "cell_type": "code",
   "execution_count": 10,
   "id": "3d278450",
   "metadata": {
    "ExecuteTime": {
     "end_time": "2023-02-20T14:17:45.348206Z",
     "start_time": "2023-02-20T14:17:42.180543Z"
    }
   },
   "outputs": [
    {
     "name": "stdout",
     "output_type": "stream",
     "text": [
      "4 2\n",
      "9 7 9 1\n",
      "1 7 \n",
      "1 9 \n",
      "7 1 \n",
      "7 9 \n",
      "9 1 \n",
      "9 7 \n",
      "9 9 \n"
     ]
    }
   ],
   "source": [
    "import itertools\n",
    "\n",
    "n, m  = map(int, input().split())\n",
    "l = list(map(int, input().split()))\n",
    "\n",
    "# 괄호 안에 있는 값의 순서를 맞추기 위해 sort\n",
    "l.sort()\n",
    "\n",
    "# 순열로 진행\n",
    "r = itertools.permutations(l, m)\n",
    "\n",
    "# 중복된 원소 제거\n",
    "r = list(set(r))\n",
    "\n",
    "# 리스트 안에 있는 원소의 순서를 맞추기 위해 sort\n",
    "r.sort()\n",
    "for i in r:\n",
    "    for j in i:\n",
    "        print(j, end =' ')\n",
    "    print()"
   ]
  }
 ],
 "metadata": {
  "kernelspec": {
   "display_name": "Python 3 (ipykernel)",
   "language": "python",
   "name": "python3"
  },
  "language_info": {
   "codemirror_mode": {
    "name": "ipython",
    "version": 3
   },
   "file_extension": ".py",
   "mimetype": "text/x-python",
   "name": "python",
   "nbconvert_exporter": "python",
   "pygments_lexer": "ipython3",
   "version": "3.9.13"
  },
  "toc": {
   "base_numbering": 1,
   "nav_menu": {},
   "number_sections": true,
   "sideBar": true,
   "skip_h1_title": false,
   "title_cell": "Table of Contents",
   "title_sidebar": "Contents",
   "toc_cell": false,
   "toc_position": {},
   "toc_section_display": true,
   "toc_window_display": false
  },
  "varInspector": {
   "cols": {
    "lenName": 16,
    "lenType": 16,
    "lenVar": 40
   },
   "kernels_config": {
    "python": {
     "delete_cmd_postfix": "",
     "delete_cmd_prefix": "del ",
     "library": "var_list.py",
     "varRefreshCmd": "print(var_dic_list())"
    },
    "r": {
     "delete_cmd_postfix": ") ",
     "delete_cmd_prefix": "rm(",
     "library": "var_list.r",
     "varRefreshCmd": "cat(var_dic_list()) "
    }
   },
   "types_to_exclude": [
    "module",
    "function",
    "builtin_function_or_method",
    "instance",
    "_Feature"
   ],
   "window_display": false
  }
 },
 "nbformat": 4,
 "nbformat_minor": 5
}
