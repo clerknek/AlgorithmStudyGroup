{
 "cells": [
  {
   "cell_type": "markdown",
   "id": "828268ef",
   "metadata": {},
   "source": [
    "## 004. 이진수 변환 \n",
    "- BAEKJOON 10829 https://www.acmicpc.net/problem/10829\n",
    "\n",
    "### 문제\n",
    "- 자연수 N이 주어진다. N을 이진수로 바꿔서 출력하는 프로그램을 작성하시오.\n",
    "\n",
    "### 입력\n",
    "- 첫째 줄에 자연수 N이 주어진다. (1 ≤ N ≤ 100,000,000,000,000)\n",
    "\n",
    "### 출력\n",
    "- N을 이진수로 바꿔서 출력한다. 이진수는 0으로 시작하면 안 된다."
   ]
  },
  {
   "cell_type": "markdown",
   "id": "9e557cd7",
   "metadata": {},
   "source": [
    "### Solution 01. 재귀 안쓰고 풀기"
   ]
  },
  {
   "cell_type": "code",
   "execution_count": 3,
   "id": "b5779f59",
   "metadata": {
    "ExecuteTime": {
     "end_time": "2023-02-20T14:43:35.641262Z",
     "start_time": "2023-02-20T14:43:34.601306Z"
    }
   },
   "outputs": [
    {
     "name": "stdout",
     "output_type": "stream",
     "text": [
      "53\n",
      "110101\n"
     ]
    }
   ],
   "source": [
    "print(bin(int(input()))[2:])"
   ]
  },
  {
   "cell_type": "markdown",
   "id": "79cc118c",
   "metadata": {},
   "source": [
    "### Solution 02. 재귀 쓰고 풀기"
   ]
  },
  {
   "cell_type": "code",
   "execution_count": 18,
   "id": "db8e80ca",
   "metadata": {
    "ExecuteTime": {
     "end_time": "2023-02-20T14:53:14.758980Z",
     "start_time": "2023-02-20T14:53:13.368409Z"
    }
   },
   "outputs": [
    {
     "name": "stdout",
     "output_type": "stream",
     "text": [
      "53\n",
      "110101\n"
     ]
    }
   ],
   "source": [
    "def binary_num(num, l):\n",
    "    # 만약 나머지가 없다면 return\n",
    "    if num == 0:\n",
    "        return l\n",
    "    # 1의 자리부터 append\n",
    "    else:\n",
    "        l.append(str(num%2))\n",
    "        return binary_num(num//2, l)\n",
    "        \n",
    "n = int(input())\n",
    "l =[]\n",
    "l = binary_num(n, l)\n",
    "l.reverse()\n",
    "print(''.join(l))"
   ]
  },
  {
   "cell_type": "code",
   "execution_count": null,
   "id": "f3a89985",
   "metadata": {},
   "outputs": [],
   "source": [
    "def binary_num(n):\n",
    "    if n == 0:\n",
    "        return 1\n",
    "    \n",
    "    x = binary_num(i//2)\n",
    "    "
   ]
  },
  {
   "cell_type": "code",
   "execution_count": 2,
   "id": "66c77487",
   "metadata": {
    "ExecuteTime": {
     "end_time": "2023-02-23T09:57:29.817169Z",
     "start_time": "2023-02-23T09:57:28.176679Z"
    }
   },
   "outputs": [
    {
     "name": "stdout",
     "output_type": "stream",
     "text": [
      "53\n",
      "110101\n"
     ]
    }
   ],
   "source": [
    "def binary_num(num):\n",
    "    # 만약 나머지가 없다면 return\n",
    "    if num == 0:\n",
    "        return l\n",
    "    # 1의 자리부터 append\n",
    "    else:\n",
    "        l.append(str(num%2))\n",
    "        return binary_num(num//2)\n",
    "        \n",
    "n = int(input())\n",
    "l =[]\n",
    "l = binary_num(n)\n",
    "l.reverse()\n",
    "print(''.join(l))"
   ]
  },
  {
   "cell_type": "code",
   "execution_count": null,
   "id": "b1ad6638",
   "metadata": {},
   "outputs": [],
   "source": []
  }
 ],
 "metadata": {
  "kernelspec": {
   "display_name": "Python 3 (ipykernel)",
   "language": "python",
   "name": "python3"
  },
  "language_info": {
   "codemirror_mode": {
    "name": "ipython",
    "version": 3
   },
   "file_extension": ".py",
   "mimetype": "text/x-python",
   "name": "python",
   "nbconvert_exporter": "python",
   "pygments_lexer": "ipython3",
   "version": "3.9.13"
  },
  "toc": {
   "base_numbering": 1,
   "nav_menu": {},
   "number_sections": true,
   "sideBar": true,
   "skip_h1_title": false,
   "title_cell": "Table of Contents",
   "title_sidebar": "Contents",
   "toc_cell": false,
   "toc_position": {},
   "toc_section_display": true,
   "toc_window_display": false
  },
  "varInspector": {
   "cols": {
    "lenName": 16,
    "lenType": 16,
    "lenVar": 40
   },
   "kernels_config": {
    "python": {
     "delete_cmd_postfix": "",
     "delete_cmd_prefix": "del ",
     "library": "var_list.py",
     "varRefreshCmd": "print(var_dic_list())"
    },
    "r": {
     "delete_cmd_postfix": ") ",
     "delete_cmd_prefix": "rm(",
     "library": "var_list.r",
     "varRefreshCmd": "cat(var_dic_list()) "
    }
   },
   "types_to_exclude": [
    "module",
    "function",
    "builtin_function_or_method",
    "instance",
    "_Feature"
   ],
   "window_display": false
  }
 },
 "nbformat": 4,
 "nbformat_minor": 5
}
