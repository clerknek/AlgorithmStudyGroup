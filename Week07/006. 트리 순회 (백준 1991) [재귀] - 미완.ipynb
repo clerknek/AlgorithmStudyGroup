{
 "cells": [
  {
   "attachments": {
    "image.png": {
     "image/png": "[encoded data removed]"
    }
   },
   "cell_type": "markdown",
   "id": "a77b11cd",
   "metadata": {},
   "source": [
    "## 006. 트리 순회\n",
    "- BAEKJOON 1991 https://www.acmicpc.net/problem/1991\n",
    "\n",
    "### 문제\n",
    "- 이진 트리를 입력받아 전위 순회(preorder traversal), 중위 순회(inorder traversal), 후위 순회(postorder traversal)한 결과를 출력하는 프로그램을 작성하시오.\n",
    "\n",
    "![image.png](attachment:image.png)\n",
    "\n",
    "- 예를 들어 위와 같은 이진 트리가 입력되면,\n",
    "\n",
    "    - 전위 순회한 결과 : ABDCEFG // (루트) (왼쪽 자식) (오른쪽 자식)\n",
    "    - 중위 순회한 결과 : DBAECFG // (왼쪽 자식) (루트) (오른쪽 자식)\n",
    "    - 후위 순회한 결과 : DBEGFCA // (왼쪽 자식) (오른쪽 자식) (루트)\n",
    "- 가 된다.\n",
    "\n",
    "### 입력\n",
    "- 첫째 줄에는 이진 트리의 노드의 개수 N(1 ≤ N ≤ 26)이 주어진다. 둘째 줄부터 N개의 줄에 걸쳐 각 노드와 그의 왼쪽 자식 노드, 오른쪽 자식 노드가 주어진다. 노드의 이름은 A부터 차례대로 알파벳 대문자로 매겨지며, 항상 A가 루트 노드가 된다. 자식 노드가 없는 경우에는 .으로 표현한다.\n",
    "\n",
    "### 출력\n",
    "- 첫째 줄에 전위 순회, 둘째 줄에 중위 순회, 셋째 줄에 후위 순회한 결과를 출력한다. 각 줄에 N개의 알파벳을 공백 없이 출력하면 된다."
   ]
  },
  {
   "cell_type": "code",
   "execution_count": 12,
   "id": "6645c08d",
   "metadata": {
    "ExecuteTime": {
     "end_time": "2023-02-21T08:18:57.999079Z",
     "start_time": "2023-02-21T08:18:29.057510Z"
    }
   },
   "outputs": [
    {
     "name": "stdout",
     "output_type": "stream",
     "text": [
      "7\n",
      "A B C\n",
      "B D .\n",
      "C E F\n",
      "E . .\n",
      "F . G\n",
      "D . .\n",
      "G . .\n",
      "{'A': ['B', 'C'], 'B': ['D', '.'], 'C': ['E', 'F'], 'E': ['.', '.'], 'F': ['.', 'G'], 'D': ['.', '.'], 'G': ['.', '.']}\n"
     ]
    }
   ],
   "source": [
    "n = int(input())\n",
    "dic = {}\n",
    "for i in range(n):\n",
    "    a, b, c = input().split()\n",
    "    dic[a] = [b, c]\n",
    "print(dic)"
   ]
  },
  {
   "cell_type": "code",
   "execution_count": 29,
   "id": "e3be1190",
   "metadata": {
    "ExecuteTime": {
     "end_time": "2023-02-21T08:26:11.160499Z",
     "start_time": "2023-02-21T08:26:11.136500Z"
    }
   },
   "outputs": [],
   "source": [
    "dic['A'][0]\n",
    "r = 'A'\n",
    "def front(dic, r, result):\n",
    "    if len(result) == len(dic):\n",
    "        return result\n",
    "    if dic[r][0] == '.':\n",
    "        if dic\n",
    "        return front(dic, dic[r][1], result)\n",
    "    elif dic[r][0] not in result:\n",
    "        result += dic[r][0]\n",
    "        return front(dic, dic[r][0], result)"
   ]
  },
  {
   "cell_type": "code",
   "execution_count": 30,
   "id": "3368c43b",
   "metadata": {
    "ExecuteTime": {
     "end_time": "2023-02-21T08:26:12.139947Z",
     "start_time": "2023-02-21T08:26:12.122949Z"
    }
   },
   "outputs": [
    {
     "data": {
      "text/plain": [
       "'BD'"
      ]
     },
     "execution_count": 30,
     "metadata": {},
     "output_type": "execute_result"
    }
   ],
   "source": [
    "result=''\n",
    "front(dic, r, result)"
   ]
  },
  {
   "cell_type": "code",
   "execution_count": 31,
   "id": "fafa9e74",
   "metadata": {
    "ExecuteTime": {
     "end_time": "2023-02-21T08:27:00.759014Z",
     "start_time": "2023-02-21T08:27:00.750009Z"
    }
   },
   "outputs": [
    {
     "data": {
      "text/plain": [
       "7"
      ]
     },
     "execution_count": 31,
     "metadata": {},
     "output_type": "execute_result"
    }
   ],
   "source": [
    "result = 'A'\n",
    "for i in range(n):\n",
    "    if i == 0:\n",
    "        front(dic, 'A', result)\n",
    "    else:\n",
    "        if dic"
   ]
  },
  {
   "cell_type": "code",
   "execution_count": null,
   "id": "2fa0faf2",
   "metadata": {},
   "outputs": [],
   "source": []
  }
 ],
 "metadata": {
  "kernelspec": {
   "display_name": "Python 3 (ipykernel)",
   "language": "python",
   "name": "python3"
  },
  "language_info": {
   "codemirror_mode": {
    "name": "ipython",
    "version": 3
   },
   "file_extension": ".py",
   "mimetype": "text/x-python",
   "name": "python",
   "nbconvert_exporter": "python",
   "pygments_lexer": "ipython3",
   "version": "3.9.13"
  },
  "toc": {
   "base_numbering": 1,
   "nav_menu": {},
   "number_sections": true,
   "sideBar": true,
   "skip_h1_title": false,
   "title_cell": "Table of Contents",
   "title_sidebar": "Contents",
   "toc_cell": false,
   "toc_position": {},
   "toc_section_display": true,
   "toc_window_display": false
  },
  "varInspector": {
   "cols": {
    "lenName": 16,
    "lenType": 16,
    "lenVar": 40
   },
   "kernels_config": {
    "python": {
     "delete_cmd_postfix": "",
     "delete_cmd_prefix": "del ",
     "library": "var_list.py",
     "varRefreshCmd": "print(var_dic_list())"
    },
    "r": {
     "delete_cmd_postfix": ") ",
     "delete_cmd_prefix": "rm(",
     "library": "var_list.r",
     "varRefreshCmd": "cat(var_dic_list()) "
    }
   },
   "types_to_exclude": [
    "module",
    "function",
    "builtin_function_or_method",
    "instance",
    "_Feature"
   ],
   "window_display": false
  }
 },
 "nbformat": 4,
 "nbformat_minor": 5
}
