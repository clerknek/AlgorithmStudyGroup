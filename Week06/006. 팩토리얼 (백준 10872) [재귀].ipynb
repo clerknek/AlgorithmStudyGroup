{
 "cells": [
  {
   "cell_type": "markdown",
   "id": "82b10e9b",
   "metadata": {},
   "source": [
    "## 팩토리얼\n",
    "- BAEKJOON 10872 https://www.acmicpc.net/problem/10872\n",
    "\n",
    "### 문제\n",
    "- 0보다 크거나 같은 정수 N이 주어진다. 이때, N!을 출력하는 프로그램을 작성하시오.\n",
    "\n",
    "### 입력\n",
    "- 첫째 줄에 정수 N(0 ≤ N ≤ 12)이 주어진다.\n",
    "\n",
    "### 출력\n",
    "- 첫째 줄에 N!을 출력한다."
   ]
  },
  {
   "cell_type": "markdown",
   "id": "d4679ea3",
   "metadata": {},
   "source": [
    "### Solution 01. 재귀함수 사용"
   ]
  },
  {
   "cell_type": "code",
   "execution_count": 4,
   "id": "11982ac1",
   "metadata": {
    "ExecuteTime": {
     "end_time": "2023-02-15T14:15:21.897852Z",
     "start_time": "2023-02-15T14:15:20.923190Z"
    }
   },
   "outputs": [
    {
     "name": "stdout",
     "output_type": "stream",
     "text": [
      "10\n",
      "3628800\n"
     ]
    }
   ],
   "source": [
    "def factorial(n):\n",
    "    r = 1\n",
    "    if n > 0:\n",
    "        r = n*factorial(n-1)\n",
    "    return r\n",
    "n = int(input())\n",
    "print(factorial(n))"
   ]
  },
  {
   "cell_type": "markdown",
   "id": "44d8ea63",
   "metadata": {},
   "source": [
    "### Solution 02. for을 이용"
   ]
  },
  {
   "cell_type": "code",
   "execution_count": 4,
   "id": "4641c798",
   "metadata": {
    "ExecuteTime": {
     "end_time": "2023-02-14T04:42:38.107926Z",
     "start_time": "2023-02-14T04:42:37.038781Z"
    }
   },
   "outputs": [
    {
     "name": "stdout",
     "output_type": "stream",
     "text": [
      "10\n",
      "3628800\n"
     ]
    }
   ],
   "source": [
    "n = int(input())\n",
    "r = 1\n",
    "for i in range(1, n+1):\n",
    "    r *= i\n",
    "print(r)"
   ]
  },
  {
   "cell_type": "markdown",
   "id": "8753faa7",
   "metadata": {},
   "source": [
    "### Solution 03. math를 이용"
   ]
  },
  {
   "cell_type": "code",
   "execution_count": 5,
   "id": "ed134853",
   "metadata": {
    "ExecuteTime": {
     "end_time": "2023-02-14T04:43:01.803172Z",
     "start_time": "2023-02-14T04:43:00.936875Z"
    }
   },
   "outputs": [
    {
     "name": "stdout",
     "output_type": "stream",
     "text": [
      "10\n",
      "3628800\n"
     ]
    }
   ],
   "source": [
    "import math\n",
    "print(math.factorial(int(input())))"
   ]
  }
 ],
 "metadata": {
  "kernelspec": {
   "display_name": "Python 3 (ipykernel)",
   "language": "python",
   "name": "python3"
  },
  "language_info": {
   "codemirror_mode": {
    "name": "ipython",
    "version": 3
   },
   "file_extension": ".py",
   "mimetype": "text/x-python",
   "name": "python",
   "nbconvert_exporter": "python",
   "pygments_lexer": "ipython3",
   "version": "3.9.15"
  },
  "toc": {
   "base_numbering": 1,
   "nav_menu": {},
   "number_sections": true,
   "sideBar": true,
   "skip_h1_title": false,
   "title_cell": "Table of Contents",
   "title_sidebar": "Contents",
   "toc_cell": false,
   "toc_position": {},
   "toc_section_display": true,
   "toc_window_display": false
  },
  "varInspector": {
   "cols": {
    "lenName": 16,
    "lenType": 16,
    "lenVar": 40
   },
   "kernels_config": {
    "python": {
     "delete_cmd_postfix": "",
     "delete_cmd_prefix": "del ",
     "library": "var_list.py",
     "varRefreshCmd": "print(var_dic_list())"
    },
    "r": {
     "delete_cmd_postfix": ") ",
     "delete_cmd_prefix": "rm(",
     "library": "var_list.r",
     "varRefreshCmd": "cat(var_dic_list()) "
    }
   },
   "types_to_exclude": [
    "module",
    "function",
    "builtin_function_or_method",
    "instance",
    "_Feature"
   ],
   "window_display": false
  }
 },
 "nbformat": 4,
 "nbformat_minor": 5
}
