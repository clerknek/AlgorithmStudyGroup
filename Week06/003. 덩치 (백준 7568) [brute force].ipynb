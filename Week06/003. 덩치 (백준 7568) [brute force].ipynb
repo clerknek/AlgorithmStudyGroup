{
 "cells": [
  {
   "attachments": {
    "image.png": {
     "image/png": "[encoded data removed]"
    }
   },
   "cell_type": "markdown",
   "id": "d74d3e05",
   "metadata": {},
   "source": [
    "## 003. 덩치\n",
    "- BAEKJOON 7568 https://www.acmicpc.net/problem/7568\n",
    "\n",
    "### 문제\n",
    "- 우리는 사람의 덩치를 키와 몸무게, 이 두 개의 값으로 표현하여 그 등수를 매겨보려고 한다. 어떤 사람의 몸무게가 x kg이고 키가 y cm라면 이 사람의 덩치는 (x, y)로 표시된다. 두 사람 A 와 B의 덩치가 각각 (x, y), (p, q)라고 할 때 x > p 그리고 y > q 이라면 우리는 A의 덩치가 B의 덩치보다 \"더 크다\"고 말한다. 예를 들어 어떤 A, B 두 사람의 덩치가 각각 (56, 177), (45, 165) 라고 한다면 A의 덩치가 B보다 큰 셈이 된다. 그런데 서로 다른 덩치끼리 크기를 정할 수 없는 경우도 있다. 예를 들어 두 사람 C와 D의 덩치가 각각 (45, 181), (55, 173)이라면 몸무게는 D가 C보다 더 무겁고, 키는 C가 더 크므로, \"덩치\"로만 볼 때 C와 D는 누구도 상대방보다 더 크다고 말할 수 없다.\n",
    "\n",
    "- N명의 집단에서 각 사람의 덩치 등수는 자신보다 더 \"큰 덩치\"의 사람의 수로 정해진다. 만일 자신보다 더 큰 덩치의 사람이 k명이라면 그 사람의 덩치 등수는 k+1이 된다. 이렇게 등수를 결정하면 같은 덩치 등수를 가진 사람은 여러 명도 가능하다. 아래는 5명으로 이루어진 집단에서 각 사람의 덩치와 그 등수가 표시된 표이다.\n",
    "\n",
    "![image.png](attachment:image.png)\n",
    "\n",
    "- 위 표에서 C보다 더 큰 덩치의 사람이 없으므로 C는 1등이 된다. 그리고 A, B, D 각각의 덩치보다 큰 사람은 C뿐이므로 이들은 모두 2등이 된다. 그리고 E보다 큰 덩치는 A, B, C, D 이렇게 4명이므로 E의 덩치는 5등이 된다. 위 경우에 3등과 4등은 존재하지 않는다. 여러분은 학생 N명의 몸무게와 키가 담긴 입력을 읽어서 각 사람의 덩치 등수를 계산하여 출력해야 한다.\n",
    "\n",
    "### 입력\n",
    "- 첫 줄에는 전체 사람의 수 N이 주어진다. 그리고 이어지는 N개의 줄에는 각 사람의 몸무게와 키를 나타내는 양의 정수 x와 y가 하나의 공백을 두고 각각 나타난다.\n",
    "\n",
    "### 출력\n",
    "- 여러분은 입력에 나열된 사람의 덩치 등수를 구해서 그 순서대로 첫 줄에 출력해야 한다. 단, 각 덩치 등수는 공백문자로 분리되어야 한다."
   ]
  },
  {
   "cell_type": "markdown",
   "id": "acb28934",
   "metadata": {},
   "source": [
    "### Solution 01. 키와 몸무게를 각자 비교해서 나열 후 곱한 값으로 비교하는 방식 &rarr; 실패 (너무 복잡하게 생각함)"
   ]
  },
  {
   "cell_type": "code",
   "execution_count": 57,
   "id": "88ce21dd",
   "metadata": {
    "ExecuteTime": {
     "end_time": "2023-02-13T11:37:13.715022Z",
     "start_time": "2023-02-13T11:36:58.055058Z"
    }
   },
   "outputs": [
    {
     "name": "stdout",
     "output_type": "stream",
     "text": [
      "5\n",
      "55 185\n",
      "58 183\n",
      "88 186\n",
      "60 175\n",
      "46 155\n",
      "3 4 2 3 5\n"
     ]
    }
   ],
   "source": [
    "n = int(input())\n",
    "a_list = []\n",
    "b_list = []\n",
    "for i in range(n):\n",
    "    a, b = map(int, input().split())\n",
    "    a_list.append(a)\n",
    "    b_list.append(b)\n",
    "a_slist = sorted(set(a_list), reverse=True)\n",
    "b_slist = sorted(set(b_list), reverse=True)\n",
    "a_int = 0\n",
    "b_int = 0\n",
    "\n",
    "\n",
    "while a_int <= len(a_slist)-1:\n",
    "    for i in range(n):\n",
    "        if a_list[i] == a_slist[a_int]:\n",
    "            a_list[i] = - a_int-1\n",
    "    a_int += 1\n",
    "    \n",
    "while b_int <= len(b_slist)-1:\n",
    "    for i in range(n):\n",
    "        if b_list[i] == b_slist[b_int]:\n",
    "            b_list[i] = -b_int-1\n",
    "    b_int += 1\n",
    "\n",
    "s_list = []\n",
    "for i in range(n):\n",
    "    s_list.append(a_list[i]*b_list[i])\n",
    "    \n",
    "s_slist = sorted(set(s_list), reverse=True)\n",
    "\n",
    "result = n\n",
    "r_list = [0]*n\n",
    "while s_list != [0]*n:\n",
    "    max_s = max(s_list)\n",
    "    for i in range(len(s_list)):\n",
    "        if s_list[i] == max_s:\n",
    "            r_list[i] = result\n",
    "            s_list[i] = 0\n",
    "    result -= 1\n",
    "\n",
    "for i in range(n-1):\n",
    "    print(r_list[i], end=' ')\n",
    "print(r_list[n-1])"
   ]
  },
  {
   "cell_type": "markdown",
   "id": "ec73e395",
   "metadata": {},
   "source": [
    "### Solution 02. 키 몸무게를 같이 비교하기"
   ]
  },
  {
   "cell_type": "code",
   "execution_count": 22,
   "id": "906589be",
   "metadata": {
    "ExecuteTime": {
     "end_time": "2023-02-15T14:58:57.336872Z",
     "start_time": "2023-02-15T14:58:35.391076Z"
    }
   },
   "outputs": [
    {
     "name": "stdout",
     "output_type": "stream",
     "text": [
      "5\n",
      "55 185\n",
      "58 183\n",
      "88 186\n",
      "60 175\n",
      "46 155\n",
      "2 2 1 2 5\n"
     ]
    }
   ],
   "source": [
    "n = int(input())\n",
    "\n",
    "l = []\n",
    "rank = []\n",
    "\n",
    "for i in range(n):\n",
    "    x, y = map(int, input().split())\n",
    "    l.append((x, y))\n",
    "\n",
    "for i in range(n):\n",
    "    k = 0\n",
    "    # 자신보다 덩치가 더 큰 사람을 구하기\n",
    "    for j in range(n):\n",
    "        if l[i][0] < l[j][0] and l[i][1] < l[j][1]:\n",
    "            k += 1\n",
    "    rank.append(str(k+1))\n",
    "\n",
    "print(' '.join(rank))"
   ]
  }
 ],
 "metadata": {
  "kernelspec": {
   "display_name": "Python 3 (ipykernel)",
   "language": "python",
   "name": "python3"
  },
  "language_info": {
   "codemirror_mode": {
    "name": "ipython",
    "version": 3
   },
   "file_extension": ".py",
   "mimetype": "text/x-python",
   "name": "python",
   "nbconvert_exporter": "python",
   "pygments_lexer": "ipython3",
   "version": "3.9.13"
  },
  "toc": {
   "base_numbering": 1,
   "nav_menu": {},
   "number_sections": true,
   "sideBar": true,
   "skip_h1_title": false,
   "title_cell": "Table of Contents",
   "title_sidebar": "Contents",
   "toc_cell": false,
   "toc_position": {},
   "toc_section_display": true,
   "toc_window_display": false
  },
  "varInspector": {
   "cols": {
    "lenName": 16,
    "lenType": 16,
    "lenVar": 40
   },
   "kernels_config": {
    "python": {
     "delete_cmd_postfix": "",
     "delete_cmd_prefix": "del ",
     "library": "var_list.py",
     "varRefreshCmd": "print(var_dic_list())"
    },
    "r": {
     "delete_cmd_postfix": ") ",
     "delete_cmd_prefix": "rm(",
     "library": "var_list.r",
     "varRefreshCmd": "cat(var_dic_list()) "
    }
   },
   "types_to_exclude": [
    "module",
    "function",
    "builtin_function_or_method",
    "instance",
    "_Feature"
   ],
   "window_display": false
  }
 },
 "nbformat": 4,
 "nbformat_minor": 5
}
