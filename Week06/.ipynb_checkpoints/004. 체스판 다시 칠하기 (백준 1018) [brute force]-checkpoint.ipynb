{
 "cells": [
  {
   "cell_type": "markdown",
   "id": "f898c9db",
   "metadata": {},
   "source": [
    "## 체스판 다시 칠하기\n",
    "- BAEKJOON 1018 https://www.acmicpc.net/problem/1018\n",
    "\n",
    "### 문제\n",
    "- 지민이는 자신의 저택에서 MN개의 단위 정사각형으로 나누어져 있는 M×N 크기의 보드를 찾았다. 어떤 정사각형은 검은색으로 칠해져 있고, 나머지는 흰색으로 칠해져 있다. 지민이는 이 보드를 잘라서 8×8 크기의 체스판으로 만들려고 한다.\n",
    "\n",
    "- 체스판은 검은색과 흰색이 번갈아서 칠해져 있어야 한다. 구체적으로, 각 칸이 검은색과 흰색 중 하나로 색칠되어 있고, 변을 공유하는 두 개의 사각형은 다른 색으로 칠해져 있어야 한다. 따라서 이 정의를 따르면 체스판을 색칠하는 경우는 두 가지뿐이다. 하나는 맨 왼쪽 위 칸이 흰색인 경우, 하나는 검은색인 경우이다.\n",
    "\n",
    "- 보드가 체스판처럼 칠해져 있다는 보장이 없어서, 지민이는 8×8 크기의 체스판으로 잘라낸 후에 몇 개의 정사각형을 다시 칠해야겠다고 생각했다. 당연히 8*8 크기는 아무데서나 골라도 된다. 지민이가 다시 칠해야 하는 정사각형의 최소 개수를 구하는 프로그램을 작성하시오.\n",
    "\n",
    "### 입력\n",
    "- 첫째 줄에 N과 M이 주어진다. N과 M은 8보다 크거나 같고, 50보다 작거나 같은 자연수이다. 둘째 줄부터 N개의 줄에는 보드의 각 행의 상태가 주어진다. B는 검은색이며, W는 흰색이다.\n",
    "\n",
    "### 출력\n",
    "- 첫째 줄에 지민이가 다시 칠해야 하는 정사각형 개수의 최솟값을 출력한다."
   ]
  },
  {
   "cell_type": "code",
   "execution_count": 7,
   "id": "59b22772",
   "metadata": {
    "ExecuteTime": {
     "end_time": "2023-02-15T17:55:55.915992Z",
     "start_time": "2023-02-15T17:55:55.900439Z"
    }
   },
   "outputs": [],
   "source": [
    "# sample\n",
    "m = 11\n",
    "n = 12\n",
    "l = ['BWWBWWBWWBWW',\n",
    " 'BWWBWBBWWBWW',\n",
    " 'WBWWBWBBWWBW',\n",
    " 'BWWBWBBWWBWW',\n",
    " 'WBWWBWBBWWBW',\n",
    " 'BWWBWBBWWBWW',\n",
    " 'WBWWBWBBWWBW',\n",
    " 'BWWBWBWWWBWW',\n",
    " 'WBWWBWBBWWBW',\n",
    " 'BWWBWBBWWBWW',\n",
    " 'WBWWBWBBWWBW']"
   ]
  },
  {
   "cell_type": "code",
   "execution_count": 8,
   "id": "e178044e",
   "metadata": {
    "ExecuteTime": {
     "end_time": "2023-02-15T17:56:02.991992Z",
     "start_time": "2023-02-15T17:56:02.963951Z"
    },
    "scrolled": false
   },
   "outputs": [
    {
     "name": "stdout",
     "output_type": "stream",
     "text": [
      "15\n"
     ]
    }
   ],
   "source": [
    "# m, n = map(int, input().split())\n",
    "# l = []\n",
    "# for i in range(m):\n",
    "#     l.append(input())\n",
    "\n",
    "def cal_count(l):\n",
    "    b_c = 0\n",
    "    w_c = 0\n",
    "    for i in range(8):\n",
    "        for j in range(8):\n",
    "            if (j % 2 == 0 and i % 2 == 0) or (j % 2 == 1 and i % 2 == 1):\n",
    "                if l[i][j] == 'B':\n",
    "                    w_c += 1\n",
    "                else:\n",
    "                    b_c += 1\n",
    "            else:\n",
    "                if l[i][j] == 'B':\n",
    "                    b_c += 1\n",
    "                else:\n",
    "                    w_c += 1\n",
    "    return min(b_c, w_c)\n",
    "\n",
    "c_count = -1\n",
    "c = 0\n",
    "for i in range(m-7):\n",
    "    for j in range(n-7):\n",
    "        a=[]\n",
    "        for k in range(8):\n",
    "            a.append(l[i+k][j:j+8])\n",
    "        c += 1\n",
    "        if (c_count == -1) or (c_count > cal_count(a)):\n",
    "            c_count = cal_count(a)\n",
    "print(c_count)"
   ]
  }
 ],
 "metadata": {
  "kernelspec": {
   "display_name": "Python 3 (ipykernel)",
   "language": "python",
   "name": "python3"
  },
  "language_info": {
   "codemirror_mode": {
    "name": "ipython",
    "version": 3
   },
   "file_extension": ".py",
   "mimetype": "text/x-python",
   "name": "python",
   "nbconvert_exporter": "python",
   "pygments_lexer": "ipython3",
   "version": "3.9.13"
  },
  "toc": {
   "base_numbering": 1,
   "nav_menu": {},
   "number_sections": true,
   "sideBar": true,
   "skip_h1_title": false,
   "title_cell": "Table of Contents",
   "title_sidebar": "Contents",
   "toc_cell": false,
   "toc_position": {},
   "toc_section_display": true,
   "toc_window_display": false
  },
  "varInspector": {
   "cols": {
    "lenName": 16,
    "lenType": 16,
    "lenVar": 40
   },
   "kernels_config": {
    "python": {
     "delete_cmd_postfix": "",
     "delete_cmd_prefix": "del ",
     "library": "var_list.py",
     "varRefreshCmd": "print(var_dic_list())"
    },
    "r": {
     "delete_cmd_postfix": ") ",
     "delete_cmd_prefix": "rm(",
     "library": "var_list.r",
     "varRefreshCmd": "cat(var_dic_list()) "
    }
   },
   "types_to_exclude": [
    "module",
    "function",
    "builtin_function_or_method",
    "instance",
    "_Feature"
   ],
   "window_display": false
  }
 },
 "nbformat": 4,
 "nbformat_minor": 5
}
