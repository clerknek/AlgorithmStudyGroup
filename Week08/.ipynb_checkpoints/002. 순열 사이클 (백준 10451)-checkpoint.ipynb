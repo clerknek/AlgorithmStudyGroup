{
 "cells": [
  {
   "attachments": {
    "image.png": {
     "image/png": "[encoded data removed]"
    }
   },
   "cell_type": "markdown",
   "id": "0ce278ef",
   "metadata": {},
   "source": [
    "## 002. 순열 사이클\n",
    "- BAEKJOON 10451 https://www.acmicpc.net/problem/10451\n",
    "\n",
    "### 문제\n",
    "\n",
    "\n",
    "![image.png](attachment:image.png)\n",
    "\n",
    "1부터 N까지 정수 N개로 이루어진 순열을 나타내는 방법은 여러 가지가 있다. 예를 들어, 8개의 수로 이루어진 순열 (3, 2, 7, 8, 1, 4, 5, 6)을 배열을 이용해 표현하면  \n",
    " \n",
    "\\(\\begin{pmatrix} 1 & 2 &3&4&5&6&7&8 \\\\  3& 2&7&8&1&4&5&6 \\end{pmatrix}\\) 와 같다. 또는, Figure 1과 같이 방향 그래프로 나타낼 수도 있다.\n",
    "\n",
    "순열을 배열을 이용해  \n",
    " \n",
    "\\(\\begin{pmatrix} 1 & \\dots & i & \\dots &n \\\\  \\pi_1& \\dots& \\pi_i & \\dots & \\pi_n \\end{pmatrix}\\) 로 나타냈다면, i에서 πi로 간선을 이어 그래프로 만들 수 있다.\n",
    "\n",
    "Figure 1에 나와있는 것 처럼, 순열 그래프 (3, 2, 7, 8, 1, 4, 5, 6) 에는 총 3개의 사이클이 있다. 이러한 사이클을 \"순열 사이클\" 이라고 한다.\n",
    "\n",
    "N개의 정수로 이루어진 순열이 주어졌을 때, 순열 사이클의 개수를 구하는 프로그램을 작성하시오.\n",
    "\n",
    "### 입력\n",
    "첫째 줄에 테스트 케이스의 개수 T가 주어진다. 각 테스트 케이스의 첫째 줄에는 순열의 크기 N (2 ≤ N ≤ 1,000)이 주어진다. 둘째 줄에는 순열이 주어지며, 각 정수는 공백으로 구분되어 있다.\n",
    "\n",
    "### 출력\n",
    "각 테스트 케이스마다, 입력으로 주어진 순열에 존재하는 순열 사이클의 개수를 출력한다."
   ]
  },
  {
   "cell_type": "markdown",
   "id": "41c95cee",
   "metadata": {},
   "source": [
    "### Solution 1 pypy3로 해결 -> python 3로 하면 시간 초과"
   ]
  },
  {
   "cell_type": "code",
   "execution_count": 14,
   "id": "2892859f",
   "metadata": {
    "ExecuteTime": {
     "end_time": "2023-03-01T11:11:08.219857Z",
     "start_time": "2023-03-01T11:10:53.164334Z"
    }
   },
   "outputs": [
    {
     "name": "stdout",
     "output_type": "stream",
     "text": [
      "2\n",
      "8\n",
      "3 2 7 8 1 4 5 6\n",
      "3\n",
      "10\n",
      "2 1 3 4 5 6 7 9 10 8\n",
      "7\n"
     ]
    }
   ],
   "source": [
    "def dfs(array, node, visited):\n",
    "    visited[node] = 1\n",
    "    # stack 형으로 노드 순서 확인\n",
    "    for i in range(1, n+1):\n",
    "        if array[node][i] == 1 and visited[i] == 0:\n",
    "            dfs(array, i, visited)\n",
    "\n",
    "t = int(input())\n",
    "for _ in range(t):\n",
    "    n = int(input())\n",
    "    l = list(map(int, input().split()))\n",
    "    arraylist = [[0]*(n+1) for i in range(n+1)]\n",
    "    for i in range(n):\n",
    "        arraylist[i+1][l[i]] = 1\n",
    "        arraylist[l[i]][i+1] = 1\n",
    "    \n",
    "    visited = [0] * (n+1)\n",
    "    a = 0\n",
    "    for i in range(n):\n",
    "        if visited[i+1] == 0:\n",
    "            dfs(arraylist, i+1, visited)\n",
    "            a += 1\n",
    "    print(a)"
   ]
  }
 ],
 "metadata": {
  "kernelspec": {
   "display_name": "Python 3 (ipykernel)",
   "language": "python",
   "name": "python3"
  },
  "language_info": {
   "codemirror_mode": {
    "name": "ipython",
    "version": 3
   },
   "file_extension": ".py",
   "mimetype": "text/x-python",
   "name": "python",
   "nbconvert_exporter": "python",
   "pygments_lexer": "ipython3",
   "version": "3.9.13"
  },
  "toc": {
   "base_numbering": 1,
   "nav_menu": {},
   "number_sections": true,
   "sideBar": true,
   "skip_h1_title": false,
   "title_cell": "Table of Contents",
   "title_sidebar": "Contents",
   "toc_cell": false,
   "toc_position": {},
   "toc_section_display": true,
   "toc_window_display": false
  },
  "varInspector": {
   "cols": {
    "lenName": 16,
    "lenType": 16,
    "lenVar": 40
   },
   "kernels_config": {
    "python": {
     "delete_cmd_postfix": "",
     "delete_cmd_prefix": "del ",
     "library": "var_list.py",
     "varRefreshCmd": "print(var_dic_list())"
    },
    "r": {
     "delete_cmd_postfix": ") ",
     "delete_cmd_prefix": "rm(",
     "library": "var_list.r",
     "varRefreshCmd": "cat(var_dic_list()) "
    }
   },
   "types_to_exclude": [
    "module",
    "function",
    "builtin_function_or_method",
    "instance",
    "_Feature"
   ],
   "window_display": false
  }
 },
 "nbformat": 4,
 "nbformat_minor": 5
}
