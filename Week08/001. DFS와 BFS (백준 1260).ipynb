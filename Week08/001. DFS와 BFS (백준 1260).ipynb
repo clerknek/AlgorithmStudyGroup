{
 "cells": [
  {
   "cell_type": "markdown",
   "id": "238836cd",
   "metadata": {},
   "source": [
    "## 001. DFS와 BFS\n",
    "- BAEKJOON 1260 https://www.acmicpc.net/problem/1260\n",
    "\n",
    "### 문제\n",
    "- 그래프를 DFS로 탐색한 결과와 BFS로 탐색한 결과를 출력하는 프로그램을 작성하시오. 단, 방문할 수 있는 정점이 여러 개인 경우에는 정점 번호가 작은 것을 먼저 방문하고, 더 이상 방문할 수 있는 점이 없는 경우 종료한다. 정점 번호는 1번부터 N번까지이다.\n",
    "\n",
    "### 입력\n",
    "- 첫째 줄에 정점의 개수 N(1 ≤ N ≤ 1,000), 간선의 개수 M(1 ≤ M ≤ 10,000), 탐색을 시작할 정점의 번호 V가 주어진다. 다음 M개의 줄에는 간선이 연결하는 두 정점의 번호가 주어진다. 어떤 두 정점 사이에 여러 개의 간선이 있을 수 있다. 입력으로 주어지는 간선은 양방향이다.\n",
    "\n",
    "### 출력\n",
    "- 첫째 줄에 DFS를 수행한 결과를, 그 다음 줄에는 BFS를 수행한 결과를 출력한다. V부터 방문된 점을 순서대로 출력하면 된다."
   ]
  },
  {
   "cell_type": "markdown",
   "id": "b78175ac",
   "metadata": {},
   "source": [
    "### Solution 01. 인접 행렬로 풀기"
   ]
  },
  {
   "cell_type": "code",
   "execution_count": 5,
   "id": "953544f7",
   "metadata": {
    "ExecuteTime": {
     "end_time": "2023-02-27T14:51:21.454087Z",
     "start_time": "2023-02-27T14:51:14.395673Z"
    }
   },
   "outputs": [
    {
     "name": "stdout",
     "output_type": "stream",
     "text": [
      "1000 1 1000\n",
      "999 1000\n",
      "1000 999 \n",
      "1000 999 "
     ]
    }
   ],
   "source": [
    "n, m, v = map(int, input().split())\n",
    "arraylist = [[0]*(n+1) for i in range(n+1)]\n",
    "for i in range(m):\n",
    "    a, b = map(int, input().split())\n",
    "    arraylist[a][b] = 1\n",
    "    arraylist[b][a] = 1\n",
    "    \n",
    "def dfs(array, node, visited):\n",
    "    visited[node] = 1\n",
    "    print(node, end=' ')\n",
    "    # stack 형으로 노드 순서 확인\n",
    "    for i in range(1, n+1):\n",
    "        if array[node][i] == 1 and visited[i] == 0:\n",
    "            dfs(array, i, visited)\n",
    "            \n",
    "def bfs(array, node, visited):\n",
    "    queue = [node]\n",
    "    \n",
    "    visited[node] = 1\n",
    "    # queue 형식으로 주위에 있는 노드 넣기\n",
    "    while queue:\n",
    "        node = queue.pop(0)\n",
    "        print(node, end=' ')\n",
    "        for i in range(1, n+1):\n",
    "            if array[node][i] == 1 and visited[i] == 0:\n",
    "                queue.append(i)\n",
    "                visited[i] = 1\n",
    "    \n",
    "visited = [0] * (n+1) \n",
    "dfs(arraylist, v, visited)\n",
    "print()\n",
    "visited = [0] * (n+1) \n",
    "bfs(arraylist, v, visited)"
   ]
  }
 ],
 "metadata": {
  "kernelspec": {
   "display_name": "Python 3 (ipykernel)",
   "language": "python",
   "name": "python3"
  },
  "language_info": {
   "codemirror_mode": {
    "name": "ipython",
    "version": 3
   },
   "file_extension": ".py",
   "mimetype": "text/x-python",
   "name": "python",
   "nbconvert_exporter": "python",
   "pygments_lexer": "ipython3",
   "version": "3.9.13"
  },
  "toc": {
   "base_numbering": 1,
   "nav_menu": {},
   "number_sections": true,
   "sideBar": true,
   "skip_h1_title": false,
   "title_cell": "Table of Contents",
   "title_sidebar": "Contents",
   "toc_cell": false,
   "toc_position": {},
   "toc_section_display": true,
   "toc_window_display": false
  },
  "varInspector": {
   "cols": {
    "lenName": 16,
    "lenType": 16,
    "lenVar": 40
   },
   "kernels_config": {
    "python": {
     "delete_cmd_postfix": "",
     "delete_cmd_prefix": "del ",
     "library": "var_list.py",
     "varRefreshCmd": "print(var_dic_list())"
    },
    "r": {
     "delete_cmd_postfix": ") ",
     "delete_cmd_prefix": "rm(",
     "library": "var_list.r",
     "varRefreshCmd": "cat(var_dic_list()) "
    }
   },
   "types_to_exclude": [
    "module",
    "function",
    "builtin_function_or_method",
    "instance",
    "_Feature"
   ],
   "window_display": false
  }
 },
 "nbformat": 4,
 "nbformat_minor": 5
}
