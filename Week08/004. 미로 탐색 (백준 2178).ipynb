{
 "cells": [
  {
   "cell_type": "markdown",
   "id": "e7d89280",
   "metadata": {},
   "source": [
    "## 미로\n",
    "- BAEKJOON 2178 https://www.acmicpc.net/problem/2178\n",
    "\n",
    "### 문제\n",
    "N×M크기의 배열로 표현되는 미로가 있다.\n",
    "```\n",
    "1\t0\t1\t1\t1\t1\n",
    "1\t0\t1\t0\t1\t0\n",
    "1\t0\t1\t0\t1\t1\n",
    "1\t1\t1\t0\t1\t1\n",
    "```\n",
    "미로에서 1은 이동할 수 있는 칸을 나타내고, 0은 이동할 수 없는 칸을 나타낸다. 이러한 미로가 주어졌을 때, (1, 1)에서 출발하여 (N, M)의 위치로 이동할 때 지나야 하는 최소의 칸 수를 구하는 프로그램을 작성하시오. 한 칸에서 다른 칸으로 이동할 때, 서로 인접한 칸으로만 이동할 수 있다.\n",
    "\n",
    "위의 예에서는 15칸을 지나야 (N, M)의 위치로 이동할 수 있다. 칸을 셀 때에는 시작 위치와 도착 위치도 포함한다.\n",
    "\n",
    "### 입력\n",
    "첫째 줄에 두 정수 N, M(2 ≤ N, M ≤ 100)이 주어진다. 다음 N개의 줄에는 M개의 정수로 미로가 주어진다. 각각의 수들은 붙어서 입력으로 주어진다.\n",
    "\n",
    "### 출력\n",
    "첫째 줄에 지나야 하는 최소의 칸 수를 출력한다. 항상 도착위치로 이동할 수 있는 경우만 입력으로 주어진다."
   ]
  },
  {
   "cell_type": "code",
   "execution_count": 2,
   "id": "f2706a95",
   "metadata": {
    "ExecuteTime": {
     "end_time": "2023-03-01T16:31:16.366322Z",
     "start_time": "2023-03-01T16:31:00.428054Z"
    }
   },
   "outputs": [
    {
     "name": "stdout",
     "output_type": "stream",
     "text": [
      "4 6\n",
      "101111\n",
      "101010\n",
      "101011\n",
      "111011\n",
      "deque([(0, 0)])\n",
      "deque([(1, 0)])\n",
      "deque([(0, 0), (2, 0)])\n",
      "deque([(2, 0)])\n",
      "deque([(3, 0)])\n",
      "deque([(3, 1)])\n",
      "deque([(3, 2)])\n",
      "deque([(2, 2)])\n",
      "deque([(1, 2)])\n",
      "deque([(0, 2)])\n",
      "deque([(0, 3)])\n",
      "deque([(0, 4)])\n",
      "deque([(1, 4), (0, 5)])\n",
      "deque([(0, 5), (2, 4)])\n",
      "deque([(2, 4)])\n",
      "deque([(3, 4), (2, 5)])\n",
      "deque([(2, 5), (3, 5)])\n",
      "deque([(3, 5)])\n",
      "15\n"
     ]
    }
   ],
   "source": [
    "from collections import deque\n",
    "\n",
    "# 좌표 방향으로 행렬 값 바꾸기\n",
    "def matrix_change(coord, direct, queue):\n",
    "    x, y = coord\n",
    "    next_x = x + direct[0]\n",
    "    next_y = y + direct[1]\n",
    "    # 만약 다음 좌표가 범위에서 벗어나지 않고\n",
    "    if next_x < n and next_y < m and next_x >= 0 and next_y >= 0:\n",
    "        if arraylist[next_x][next_y] == 1:\n",
    "            # 1이라면 현재 좌표에서 1 더한 값 넣어주기 -> 나중에 max를 통해 시간을 계산하려고\n",
    "            queue.append((next_x, next_y))\n",
    "            arraylist[next_x][next_y] = arraylist[x][y] + 1\n",
    "            \n",
    "def bfs(node):\n",
    "    queue = deque([(node[0], node[1])])\n",
    "    visited = []\n",
    "    while queue:\n",
    "#         print(queue)\n",
    "        xy = queue.popleft()\n",
    "        matrix_change(xy, (-1, 0), queue) # 상\n",
    "        matrix_change(xy, (1, 0), queue)  # 하\n",
    "        matrix_change(xy, (0, -1), queue) # 좌\n",
    "        matrix_change(xy, (0, 1), queue)  # 우\n",
    "    # 목적지 반환\n",
    "    return arraylist[n-1][m-1]            \n",
    "\n",
    "\n",
    "n, m = map(int, input().split())\n",
    "arraylist = [list(map(int, input())) for i in range(n)]\n",
    "\n",
    "print(bfs((0, 0)))\n",
    "    "
   ]
  }
 ],
 "metadata": {
  "kernelspec": {
   "display_name": "Python 3 (ipykernel)",
   "language": "python",
   "name": "python3"
  },
  "language_info": {
   "codemirror_mode": {
    "name": "ipython",
    "version": 3
   },
   "file_extension": ".py",
   "mimetype": "text/x-python",
   "name": "python",
   "nbconvert_exporter": "python",
   "pygments_lexer": "ipython3",
   "version": "3.9.13"
  },
  "toc": {
   "base_numbering": 1,
   "nav_menu": {},
   "number_sections": true,
   "sideBar": true,
   "skip_h1_title": false,
   "title_cell": "Table of Contents",
   "title_sidebar": "Contents",
   "toc_cell": false,
   "toc_position": {},
   "toc_section_display": true,
   "toc_window_display": false
  },
  "varInspector": {
   "cols": {
    "lenName": 16,
    "lenType": 16,
    "lenVar": 40
   },
   "kernels_config": {
    "python": {
     "delete_cmd_postfix": "",
     "delete_cmd_prefix": "del ",
     "library": "var_list.py",
     "varRefreshCmd": "print(var_dic_list())"
    },
    "r": {
     "delete_cmd_postfix": ") ",
     "delete_cmd_prefix": "rm(",
     "library": "var_list.r",
     "varRefreshCmd": "cat(var_dic_list()) "
    }
   },
   "types_to_exclude": [
    "module",
    "function",
    "builtin_function_or_method",
    "instance",
    "_Feature"
   ],
   "window_display": false
  }
 },
 "nbformat": 4,
 "nbformat_minor": 5
}
