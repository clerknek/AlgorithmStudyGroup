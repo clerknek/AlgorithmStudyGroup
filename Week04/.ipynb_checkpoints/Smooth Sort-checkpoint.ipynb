{
 "cells": [
  {
   "cell_type": "code",
   "execution_count": 3,
   "id": "6240f76c",
   "metadata": {
    "ExecuteTime": {
     "end_time": "2023-02-02T00:35:29.008404Z",
     "start_time": "2023-02-02T00:35:28.987415Z"
    }
   },
   "outputs": [],
   "source": [
    "def LeonardoNumber(size):\n",
    "    numbers = [1, 1]\n",
    "    next_num = numbers[-1] + numbers[-2] + 1\n",
    "    while len(numbers) >= 2 and size > next_num:\n",
    "        numbers.append(next_num)\n",
    "        next_num = numbers[-1] + numbers[-2] + 1\n",
    "    numbers.reverse()\n",
    "    return numbers"
   ]
  },
  {
   "cell_type": "code",
   "execution_count": 4,
   "id": "8ede8e29",
   "metadata": {
    "ExecuteTime": {
     "end_time": "2023-02-02T00:35:29.480479Z",
     "start_time": "2023-02-02T00:35:29.464481Z"
    }
   },
   "outputs": [
    {
     "data": {
      "text/plain": [
       "[3193, 1973, 1219, 753, 465, 287, 177, 109, 67, 41, 25, 15, 9, 5, 3, 1, 1]"
      ]
     },
     "execution_count": 4,
     "metadata": {},
     "output_type": "execute_result"
    }
   ],
   "source": [
    "LeonardoNumber(5000)"
   ]
  },
  {
   "cell_type": "code",
   "execution_count": 48,
   "id": "59b0a7c7",
   "metadata": {
    "ExecuteTime": {
     "end_time": "2023-02-02T01:17:12.380442Z",
     "start_time": "2023-02-02T01:17:12.364470Z"
    }
   },
   "outputs": [],
   "source": [
    "heapq?"
   ]
  },
  {
   "cell_type": "markdown",
   "id": "0d34d023",
   "metadata": {},
   "source": [
    "## heapq 모듈\n",
    "\n",
    "- heap = []            # 빈 힙을 생성합니다\n",
    "- heappush(heap, item) # 새로운 아이템을 더미 위에 밀어 넣는다\n",
    "- item = heappop(heap) # 힙에서 가장 작은 항목을 팝합니다\n",
    "- item = heap[0]       # 힙에 있는 가장 작은 아이템을 터뜨리지 않고\n",
    "- heapify(x)           # 선형 시간 내에 목록을 힙으로 변환합니다\n",
    "- item = heapreplace(heap, item) # 가장 작은 항목을 팝업하고 반환하며 추가합니다 # 새 항목; 힙 크기가 변경되지 않음"
   ]
  },
  {
   "cell_type": "code",
   "execution_count": 44,
   "id": "4bef3ca2",
   "metadata": {
    "ExecuteTime": {
     "end_time": "2023-02-02T01:15:07.760802Z",
     "start_time": "2023-02-02T01:15:07.725804Z"
    }
   },
   "outputs": [],
   "source": [
    "import heapq\n",
    "\n",
    "\n",
    "def numbersLeonardo(size):\n",
    "    numbers = [1, 1]\n",
    "    nextNumber = numbers[-1] + numbers[-2] + 1\n",
    "    while len(numbers) >= 2 and size > nextNumber:\n",
    "        numbers.append(nextNumber)\n",
    "        nextNumber = numbers[-1] + numbers[-2] + 1\n",
    "    numbers.reverse()\n",
    "    return numbers\n",
    "    \n",
    "    \n",
    "def arrToHeap(data):  # 배열을 받으면 heap 구조로 바꿈\n",
    "    leonardoNumbers = numbersLeonardo(len(data))\n",
    "    listHeaps = []\n",
    "    m = 0\n",
    "    for i in leonardoNumbers:\n",
    "        # 아직 할당 안된 배열이 다음 레오나르도 수보다 크거나 같으면\n",
    "        if len(data) - m >= i:\n",
    "            listHeaps.append(data[m: m+i])\n",
    "            # 할당 안된 부분으로 이동\n",
    "            m += i\n",
    "    # 힙 성질 맞추기\n",
    "    for i in listHeaps:\n",
    "        heapq.heapify(i)\n",
    "    # heap은 non-decreasing이기 때문에 뒤집기\n",
    "    listHeaps.reverse()\n",
    "    print(\"----- listHeaps\", listHeaps)\n",
    "    return listHeaps\n",
    "\n",
    "\n",
    "def countIndexes(i, indexes):\n",
    "    indexes.append(2*indexes[i]+1)\n",
    "    indexes.append(2*indexes[i]+2)\n",
    "#     print(\"indexes:\", indexes)\n",
    "\n",
    "    return indexes\n",
    "\n",
    "\n",
    "def getList(indexPart, heap):\n",
    "    heapPart = []\n",
    "    for i in indexPart:\n",
    "        if i < len(heap):\n",
    "            heapPart.append(heap[i])\n",
    "\n",
    "    return heapPart\n",
    "\n",
    "\n",
    "def heapDivision(heap):\n",
    "    heapleft = []\n",
    "    heapright = []\n",
    "    index = 0\n",
    "    indexesLeft = [1]\n",
    "    indexesRight = [2]\n",
    "    while indexesLeft[-1] < len(heap):\n",
    "\n",
    "        indexesLeft = countIndexes(index, indexesLeft)\n",
    "\n",
    "        indexesRight = countIndexes(index, indexesRight)\n",
    "\n",
    "        index += 1\n",
    "\n",
    "    heapleft = getList(indexesLeft, heap)\n",
    "    heapright = getList(indexesRight, heap)\n",
    "\n",
    "    return heapleft, heapright\n",
    "\n",
    "# Time Complexity O(n) | O(nlogn) | O(nlogn)\n",
    "# Space Complexity AUX : O(1), Total : O(n)\n",
    "def smoothSort(array):\n",
    "    listHeaps = arrToHeap(array)\n",
    "    result = []\n",
    "    heapLeft, heapRight = 0, 0\n",
    "\n",
    "    while (listHeaps):\n",
    "        flag = 0\n",
    "        minIndex = listHeaps.index(min(listHeaps))\n",
    "        currentRoot = listHeaps[0][0]\n",
    "        currentMin = listHeaps[minIndex][0]\n",
    "        heapq.heapreplace(listHeaps[0], currentMin)\n",
    "        heapq.heapreplace(listHeaps[minIndex], currentRoot)\n",
    "        if len(listHeaps[0]) > 1:\n",
    "            heapLeft, heapRight = heapDivision(listHeaps[0])\n",
    "            flag = 1\n",
    "        minimum = heapq.heappop(listHeaps[0])\n",
    "        result.append(minimum)\n",
    "        listHeaps.pop(0)\n",
    "        if flag == 1:\n",
    "            listHeaps.insert(0, heapLeft)\n",
    "            listHeaps.insert(0, heapRight)\n",
    "        print(\"minimum:\", minimum)\n",
    "        print(\"listHeaps\", listHeaps)\n",
    "        print(\"result\", result)\n",
    "        print(\"=\"*50)\n",
    "    return result"
   ]
  },
  {
   "cell_type": "code",
   "execution_count": 45,
   "id": "ddeedbce",
   "metadata": {
    "ExecuteTime": {
     "end_time": "2023-02-02T01:15:08.264999Z",
     "start_time": "2023-02-02T01:15:08.234999Z"
    }
   },
   "outputs": [
    {
     "name": "stdout",
     "output_type": "stream",
     "text": [
      "[9, 1, 6, 8, 2, 10, 5, 4, 3, 7]\n",
      "----- listHeaps [[7], [1, 2, 5, 3, 9, 10, 6, 4, 8]]\n",
      "minimum: 1\n",
      "listHeaps [[2, 3, 5, 4, 9, 10, 6, 7, 8]]\n",
      "result [1]\n",
      "==================================================\n",
      "minimum: 2\n",
      "listHeaps [[5, 10, 6], [3, 4, 9, 7, 8]]\n",
      "result [1, 2]\n",
      "==================================================\n",
      "minimum: 3\n",
      "listHeaps [[6], [10], [4, 5, 9, 7, 8]]\n",
      "result [1, 2, 3]\n",
      "==================================================\n",
      "minimum: 4\n",
      "listHeaps [[10], [5, 6, 9, 7, 8]]\n",
      "result [1, 2, 3, 4]\n",
      "==================================================\n",
      "minimum: 5\n",
      "listHeaps [[6, 7, 9, 10, 8]]\n",
      "result [1, 2, 3, 4, 5]\n",
      "==================================================\n",
      "minimum: 6\n",
      "listHeaps [[9], [7, 10, 8]]\n",
      "result [1, 2, 3, 4, 5, 6]\n",
      "==================================================\n",
      "minimum: 7\n",
      "listHeaps [[8, 10, 9]]\n",
      "result [1, 2, 3, 4, 5, 6, 7]\n",
      "==================================================\n",
      "minimum: 8\n",
      "listHeaps [[9], [10]]\n",
      "result [1, 2, 3, 4, 5, 6, 7, 8]\n",
      "==================================================\n",
      "minimum: 9\n",
      "listHeaps [[10]]\n",
      "result [1, 2, 3, 4, 5, 6, 7, 8, 9]\n",
      "==================================================\n",
      "minimum: 10\n",
      "listHeaps []\n",
      "result [1, 2, 3, 4, 5, 6, 7, 8, 9, 10]\n",
      "==================================================\n"
     ]
    },
    {
     "data": {
      "text/plain": [
       "[1, 2, 3, 4, 5, 6, 7, 8, 9, 10]"
      ]
     },
     "execution_count": 45,
     "metadata": {},
     "output_type": "execute_result"
    }
   ],
   "source": [
    "import random\n",
    "l = [1, 2, 3, 4, 5, 6, 7, 8, 9, 10]\n",
    "random.shuffle(l)\n",
    "print(l)\n",
    "smoothSort(l)"
   ]
  },
  {
   "cell_type": "code",
   "execution_count": 46,
   "id": "6c9d3ff7",
   "metadata": {
    "ExecuteTime": {
     "end_time": "2023-02-02T01:15:09.053906Z",
     "start_time": "2023-02-02T01:15:09.028903Z"
    }
   },
   "outputs": [
    {
     "name": "stdout",
     "output_type": "stream",
     "text": [
      "----- listHeaps [[10], [1, 2, 3, 4, 5, 6, 7, 8, 9]]\n",
      "minimum: 1\n",
      "listHeaps [[2, 4, 3, 8, 5, 6, 7, 10, 9]]\n",
      "result [1]\n",
      "==================================================\n",
      "minimum: 2\n",
      "listHeaps [[3, 6, 7], [4, 8, 5, 10, 9]]\n",
      "result [1, 2]\n",
      "==================================================\n",
      "minimum: 3\n",
      "listHeaps [[7], [6], [4, 8, 5, 10, 9]]\n",
      "result [1, 2, 3]\n",
      "==================================================\n",
      "minimum: 4\n",
      "listHeaps [[6], [5, 8, 7, 10, 9]]\n",
      "result [1, 2, 3, 4]\n",
      "==================================================\n",
      "minimum: 5\n",
      "listHeaps [[6, 8, 7, 10, 9]]\n",
      "result [1, 2, 3, 4, 5]\n",
      "==================================================\n",
      "minimum: 6\n",
      "listHeaps [[7], [8, 10, 9]]\n",
      "result [1, 2, 3, 4, 5, 6]\n",
      "==================================================\n",
      "minimum: 7\n",
      "listHeaps [[8, 10, 9]]\n",
      "result [1, 2, 3, 4, 5, 6, 7]\n",
      "==================================================\n",
      "minimum: 8\n",
      "listHeaps [[9], [10]]\n",
      "result [1, 2, 3, 4, 5, 6, 7, 8]\n",
      "==================================================\n",
      "minimum: 9\n",
      "listHeaps [[10]]\n",
      "result [1, 2, 3, 4, 5, 6, 7, 8, 9]\n",
      "==================================================\n",
      "minimum: 10\n",
      "listHeaps []\n",
      "result [1, 2, 3, 4, 5, 6, 7, 8, 9, 10]\n",
      "==================================================\n"
     ]
    },
    {
     "data": {
      "text/plain": [
       "[1, 2, 3, 4, 5, 6, 7, 8, 9, 10]"
      ]
     },
     "execution_count": 46,
     "metadata": {},
     "output_type": "execute_result"
    }
   ],
   "source": [
    "l = [1, 2, 3, 4, 5, 6, 7, 8, 9, 10]\n",
    "smoothSort(l)"
   ]
  },
  {
   "cell_type": "code",
   "execution_count": 3,
   "id": "b81c203c",
   "metadata": {
    "ExecuteTime": {
     "end_time": "2023-02-02T08:12:07.400685Z",
     "start_time": "2023-02-02T08:12:07.374446Z"
    }
   },
   "outputs": [],
   "source": [
    "def siftdown(arr, start, end):\n",
    "    root = start\n",
    "    while True:\n",
    "        child = root * 2 + 1\n",
    "        if child > end:\n",
    "            break\n",
    "        if child + 1 <= end and arr[child] < arr[child + 1]:\n",
    "            child += 1\n",
    "        if arr[root] < arr[child]:\n",
    "            arr[root], arr[child] = arr[child], arr[root]\n",
    "            root = child\n",
    "        else:\n",
    "            break\n",
    "\n",
    "def smoothsort(arr):\n",
    "    length = len(arr)\n",
    "    lefthalf = int((length - 1) / 2)\n",
    "    for i in range(lefthalf, -1, -1):\n",
    "        siftdown(arr, i, length - 1)\n",
    "    for i in range(length - 1, 0, -1):\n",
    "        arr[i], arr[0] = arr[0], arr[i]\n",
    "        siftdown(arr, 0, i - 1)\n",
    "        print(arr)\n",
    "    return arr"
   ]
  },
  {
   "cell_type": "code",
   "execution_count": 4,
   "id": "9a42d54c",
   "metadata": {
    "ExecuteTime": {
     "end_time": "2023-02-02T08:12:07.902746Z",
     "start_time": "2023-02-02T08:12:07.876168Z"
    }
   },
   "outputs": [
    {
     "name": "stdout",
     "output_type": "stream",
     "text": [
      "[3, 2, 9, 5, 10, 7, 6, 8, 1, 4]\n",
      "[9, 8, 7, 5, 4, 2, 6, 3, 1, 10]\n",
      "[8, 5, 7, 3, 4, 2, 6, 1, 9, 10]\n",
      "[7, 5, 6, 3, 4, 2, 1, 8, 9, 10]\n",
      "[6, 5, 2, 3, 4, 1, 7, 8, 9, 10]\n",
      "[5, 4, 2, 3, 1, 6, 7, 8, 9, 10]\n",
      "[4, 3, 2, 1, 5, 6, 7, 8, 9, 10]\n",
      "[3, 1, 2, 4, 5, 6, 7, 8, 9, 10]\n",
      "[2, 1, 3, 4, 5, 6, 7, 8, 9, 10]\n",
      "[1, 2, 3, 4, 5, 6, 7, 8, 9, 10]\n"
     ]
    },
    {
     "data": {
      "text/plain": [
       "[1, 2, 3, 4, 5, 6, 7, 8, 9, 10]"
      ]
     },
     "execution_count": 4,
     "metadata": {},
     "output_type": "execute_result"
    }
   ],
   "source": [
    "import random\n",
    "l = [1, 2, 3, 4, 5, 6, 7, 8, 9, 10]\n",
    "random.shuffle(l)\n",
    "print(l)\n",
    "smoothsort(l)"
   ]
  }
 ],
 "metadata": {
  "kernelspec": {
   "display_name": "Python 3 (ipykernel)",
   "language": "python",
   "name": "python3"
  },
  "language_info": {
   "codemirror_mode": {
    "name": "ipython",
    "version": 3
   },
   "file_extension": ".py",
   "mimetype": "text/x-python",
   "name": "python",
   "nbconvert_exporter": "python",
   "pygments_lexer": "ipython3",
   "version": "3.9.13"
  },
  "toc": {
   "base_numbering": 1,
   "nav_menu": {},
   "number_sections": true,
   "sideBar": true,
   "skip_h1_title": false,
   "title_cell": "Table of Contents",
   "title_sidebar": "Contents",
   "toc_cell": false,
   "toc_position": {},
   "toc_section_display": true,
   "toc_window_display": false
  },
  "varInspector": {
   "cols": {
    "lenName": 16,
    "lenType": 16,
    "lenVar": 40
   },
   "kernels_config": {
    "python": {
     "delete_cmd_postfix": "",
     "delete_cmd_prefix": "del ",
     "library": "var_list.py",
     "varRefreshCmd": "print(var_dic_list())"
    },
    "r": {
     "delete_cmd_postfix": ") ",
     "delete_cmd_prefix": "rm(",
     "library": "var_list.r",
     "varRefreshCmd": "cat(var_dic_list()) "
    }
   },
   "types_to_exclude": [
    "module",
    "function",
    "builtin_function_or_method",
    "instance",
    "_Feature"
   ],
   "window_display": false
  }
 },
 "nbformat": 4,
 "nbformat_minor": 5
}
