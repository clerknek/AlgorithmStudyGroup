{
 "cells": [
  {
   "cell_type": "code",
   "execution_count": 1,
   "id": "6240f76c",
   "metadata": {
    "ExecuteTime": {
     "end_time": "2023-02-01T11:07:32.574943Z",
     "start_time": "2023-02-01T11:07:32.550981Z"
    }
   },
   "outputs": [],
   "source": [
    "def LeonardoNumber(size):\n",
    "    numbers = [1, 1]\n",
    "    next_num = numbers[-1] + numbers[-2] + 1\n",
    "    while len(numbers) >= 2 and size > next_num:\n",
    "        numbers.append(next_num)\n",
    "        next_num = numbers[-1] + numbers[-2] + 1\n",
    "    numbers.reverse()\n",
    "    return numbers"
   ]
  },
  {
   "cell_type": "code",
   "execution_count": 5,
   "id": "8ede8e29",
   "metadata": {
    "ExecuteTime": {
     "end_time": "2023-02-01T12:00:08.587801Z",
     "start_time": "2023-02-01T12:00:08.566760Z"
    }
   },
   "outputs": [
    {
     "data": {
      "text/plain": [
       "[3193, 1973, 1219, 753, 465, 287, 177, 109, 67, 41, 25, 15, 9, 5, 3, 1, 1]"
      ]
     },
     "execution_count": 5,
     "metadata": {},
     "output_type": "execute_result"
    }
   ],
   "source": [
    "LeonardoNumber(5000)"
   ]
  },
  {
   "cell_type": "code",
   "execution_count": 3,
   "id": "4bef3ca2",
   "metadata": {
    "ExecuteTime": {
     "end_time": "2023-02-01T11:07:34.550433Z",
     "start_time": "2023-02-01T11:07:34.503895Z"
    }
   },
   "outputs": [],
   "source": [
    "import heapq\n",
    "\n",
    "\n",
    "def numbersLeonardo(size):\n",
    "    numbers = [1, 1]\n",
    "    nextNumber = numbers[-1] + numbers[-2] + 1\n",
    "    while len(numbers) >= 2 and size > nextNumber:\n",
    "        numbers.append(nextNumber)\n",
    "        nextNumber = numbers[-1] + numbers[-2] + 1\n",
    "    numbers.reverse()\n",
    "    return numbers\n",
    "    \n",
    "    \n",
    "def arrToHeap(data):  # 배열을 받으면 heap 구조로 바꿈\n",
    "    leonardoNumbers = numbersLeonardo(len(data))\n",
    "    listHeaps = []\n",
    "    m = 0\n",
    "    for i in leonardoNumbers:\n",
    "        # 아직 할당 안된 배열이 다음 레오나르도 수보다 크거나 같으면\n",
    "        if len(data) - m >= i:\n",
    "            listHeaps.append(data[m: m+i])\n",
    "            # 할당 안된 부분으로 이동\n",
    "            m += i\n",
    "    # 힙 성질 맞추기\n",
    "    for i in listHeaps:\n",
    "        heapq.heapify(i)\n",
    "    # heap은 non-decreasing이기 때문에 뒤집기\n",
    "    listHeaps.reverse()\n",
    "    return listHeaps\n",
    "\n",
    "\n",
    "def countIndexes(i, indexes):\n",
    "    indexes.append(2*indexes[i]+1)\n",
    "    indexes.append(2*indexes[i]+2)\n",
    "\n",
    "    return indexes\n",
    "\n",
    "\n",
    "def getList(indexPart, heap):\n",
    "    heapPart = []\n",
    "    for i in indexPart:\n",
    "        if i < len(heap):\n",
    "            heapPart.append(heap[i])\n",
    "\n",
    "    return heapPart\n",
    "\n",
    "\n",
    "def heapDivision(heap):\n",
    "    heapleft = []\n",
    "    heapright = []\n",
    "    index = 0\n",
    "    indexesLeft = [1]\n",
    "    indexesRight = [2]\n",
    "    while indexesLeft[-1] < len(heap):\n",
    "\n",
    "        indexesLeft = countIndexes(index, indexesLeft)\n",
    "\n",
    "        indexesRight = countIndexes(index, indexesRight)\n",
    "\n",
    "        index += 1\n",
    "\n",
    "    heapleft = getList(indexesLeft, heap)\n",
    "    heapright = getList(indexesRight, heap)\n",
    "\n",
    "    return heapleft, heapright\n",
    "\n",
    "# Time Complexity O(n) | O(nlogn) | O(nlogn)\n",
    "# Space Complexity AUX : O(1), Total : O(n)\n",
    "def smoothSort(array):\n",
    "    listHeaps = arrToHeap(array)\n",
    "    result = []\n",
    "    heapLeft, heapRight = 0, 0\n",
    "\n",
    "    while (listHeaps):\n",
    "        flag = 0\n",
    "        minIndex = listHeaps.index(min(listHeaps))\n",
    "        currentRoot = listHeaps[0][0]\n",
    "        currentMin = listHeaps[minIndex][0]\n",
    "        heapq.heapreplace(listHeaps[0], currentMin)\n",
    "        heapq.heapreplace(listHeaps[minIndex], currentRoot)\n",
    "        if len(listHeaps[0]) > 1:\n",
    "            heapLeft, heapRight = heapDivision(listHeaps[0])\n",
    "            flag = 1\n",
    "        minimum = heapq.heappop(listHeaps[0])\n",
    "        result.append(minimum)\n",
    "        listHeaps.pop(0)\n",
    "        if flag == 1:\n",
    "            listHeaps.insert(0, heapLeft)\n",
    "            listHeaps.insert(0, heapRight)\n",
    "    return result"
   ]
  },
  {
   "cell_type": "code",
   "execution_count": 4,
   "id": "ddeedbce",
   "metadata": {
    "ExecuteTime": {
     "end_time": "2023-02-01T11:07:35.527415Z",
     "start_time": "2023-02-01T11:07:35.500889Z"
    }
   },
   "outputs": [
    {
     "data": {
      "text/plain": [
       "[1, 2, 3, 4, 5]"
      ]
     },
     "execution_count": 4,
     "metadata": {},
     "output_type": "execute_result"
    }
   ],
   "source": [
    "smoothSort([5, 4, 3, 2, 1])"
   ]
  },
  {
   "cell_type": "code",
   "execution_count": null,
   "id": "6c9d3ff7",
   "metadata": {},
   "outputs": [],
   "source": []
  }
 ],
 "metadata": {
  "kernelspec": {
   "display_name": "Python 3 (ipykernel)",
   "language": "python",
   "name": "python3"
  },
  "language_info": {
   "codemirror_mode": {
    "name": "ipython",
    "version": 3
   },
   "file_extension": ".py",
   "mimetype": "text/x-python",
   "name": "python",
   "nbconvert_exporter": "python",
   "pygments_lexer": "ipython3",
   "version": "3.9.13"
  },
  "toc": {
   "base_numbering": 1,
   "nav_menu": {},
   "number_sections": true,
   "sideBar": true,
   "skip_h1_title": false,
   "title_cell": "Table of Contents",
   "title_sidebar": "Contents",
   "toc_cell": false,
   "toc_position": {},
   "toc_section_display": true,
   "toc_window_display": false
  },
  "varInspector": {
   "cols": {
    "lenName": 16,
    "lenType": 16,
    "lenVar": 40
   },
   "kernels_config": {
    "python": {
     "delete_cmd_postfix": "",
     "delete_cmd_prefix": "del ",
     "library": "var_list.py",
     "varRefreshCmd": "print(var_dic_list())"
    },
    "r": {
     "delete_cmd_postfix": ") ",
     "delete_cmd_prefix": "rm(",
     "library": "var_list.r",
     "varRefreshCmd": "cat(var_dic_list()) "
    }
   },
   "types_to_exclude": [
    "module",
    "function",
    "builtin_function_or_method",
    "instance",
    "_Feature"
   ],
   "window_display": false
  }
 },
 "nbformat": 4,
 "nbformat_minor": 5
}
