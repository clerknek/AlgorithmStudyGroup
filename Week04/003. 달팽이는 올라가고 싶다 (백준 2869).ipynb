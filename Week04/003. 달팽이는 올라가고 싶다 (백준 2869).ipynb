{
 "cells": [
  {
   "cell_type": "markdown",
   "id": "e49d43b1",
   "metadata": {},
   "source": [
    "## 003. 달팽이는 올라가고 싶다\n",
    "- BAEKJOON 2869 https://www.acmicpc.net/problem/2869\n",
    "\n",
    "### 문제\n",
    "- 땅 위에 달팽이가 있다. 이 달팽이는 높이가 V미터인 나무 막대를 올라갈 것이다.\n",
    "\n",
    "- 달팽이는 낮에 A미터 올라갈 수 있다. 하지만, 밤에 잠을 자는 동안 B미터 미끄러진다. 또, 정상에 올라간 후에는 미끄러지지 않는다.\n",
    "\n",
    "- 달팽이가 나무 막대를 모두 올라가려면, 며칠이 걸리는지 구하는 프로그램을 작성하시오.\n",
    "\n",
    "### 입력\n",
    "- 첫째 줄에 세 정수 A, B, V가 공백으로 구분되어서 주어진다. (1 ≤ B < A ≤ V ≤ 1,000,000,000)\n",
    "\n",
    "### 출력\n",
    "- 첫째 줄에 달팽이가 나무 막대를 모두 올라가는데 며칠이 걸리는지 출력한다."
   ]
  },
  {
   "cell_type": "code",
   "execution_count": 10,
   "id": "393dc454",
   "metadata": {
    "ExecuteTime": {
     "end_time": "2023-01-30T10:44:50.006487Z",
     "start_time": "2023-01-30T10:44:44.300471Z"
    }
   },
   "outputs": [
    {
     "name": "stdout",
     "output_type": "stream",
     "text": [
      "100 99 1000000000\n",
      "999999901\n"
     ]
    }
   ],
   "source": [
    "a, b, v = map(int, input().split(' '))\n",
    "d1, d2 = v - b, a - b\n",
    "if d1%d2 == 0:\n",
    "    print(d1//d2)\n",
    "else:\n",
    "    print(d1//d2+1)"
   ]
  },
  {
   "cell_type": "code",
   "execution_count": 9,
   "id": "6c7f66da",
   "metadata": {
    "ExecuteTime": {
     "end_time": "2023-01-30T10:39:20.369823Z",
     "start_time": "2023-01-30T10:39:14.475300Z"
    }
   },
   "outputs": [
    {
     "name": "stdout",
     "output_type": "stream",
     "text": [
      "100 99 1000000000\n",
      "999999901\n"
     ]
    }
   ],
   "source": [
    "a, b, v = map(int, input().split(' '))\n",
    "d = (v-b)//(a-b)  # v = a*d - a*(d-1)\n",
    "print(d if (v-b)%(a-b)==0 else d+1)"
   ]
  },
  {
   "cell_type": "code",
   "execution_count": null,
   "id": "6f8c3bb1",
   "metadata": {},
   "outputs": [],
   "source": [
    "import sys\n",
    "a, b, v = map(int, sys.stdin.readline().split())\n",
    "d = (v-b)//(a-b)\n",
    "print(d if (v-b)%(a-b)==0 else d+1)"
   ]
  }
 ],
 "metadata": {
  "kernelspec": {
   "display_name": "Python 3 (ipykernel)",
   "language": "python",
   "name": "python3"
  },
  "language_info": {
   "codemirror_mode": {
    "name": "ipython",
    "version": 3
   },
   "file_extension": ".py",
   "mimetype": "text/x-python",
   "name": "python",
   "nbconvert_exporter": "python",
   "pygments_lexer": "ipython3",
   "version": "3.9.13"
  },
  "toc": {
   "base_numbering": 1,
   "nav_menu": {},
   "number_sections": true,
   "sideBar": true,
   "skip_h1_title": false,
   "title_cell": "Table of Contents",
   "title_sidebar": "Contents",
   "toc_cell": false,
   "toc_position": {},
   "toc_section_display": true,
   "toc_window_display": false
  },
  "varInspector": {
   "cols": {
    "lenName": 16,
    "lenType": 16,
    "lenVar": 40
   },
   "kernels_config": {
    "python": {
     "delete_cmd_postfix": "",
     "delete_cmd_prefix": "del ",
     "library": "var_list.py",
     "varRefreshCmd": "print(var_dic_list())"
    },
    "r": {
     "delete_cmd_postfix": ") ",
     "delete_cmd_prefix": "rm(",
     "library": "var_list.r",
     "varRefreshCmd": "cat(var_dic_list()) "
    }
   },
   "types_to_exclude": [
    "module",
    "function",
    "builtin_function_or_method",
    "instance",
    "_Feature"
   ],
   "window_display": false
  }
 },
 "nbformat": 4,
 "nbformat_minor": 5
}
