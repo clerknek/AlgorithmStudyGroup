{
 "cells": [
  {
   "cell_type": "markdown",
   "id": "726aaa89",
   "metadata": {},
   "source": [
    "## 008. AC\n",
    "- BAEKJOON 5430 https://www.acmicpc.net/problem/5430\n",
    "\n",
    "### 문제\n",
    "- 선영이는 주말에 할 일이 없어서 새로운 언어 AC를 만들었다. AC는 정수 배열에 연산을 하기 위해 만든 언어이다. 이 언어에는 두 가지 함수 R(뒤집기)과 D(버리기)가 있다.\n",
    "\n",
    "- 함수 R은 배열에 있는 수의 순서를 뒤집는 함수이고, D는 첫 번째 수를 버리는 함수이다. 배열이 비어있는데 D를 사용한 경우에는 에러가 발생한다.\n",
    "\n",
    "- 함수는 조합해서 한 번에 사용할 수 있다. 예를 들어, \"AB\"는 A를 수행한 다음에 바로 이어서 B를 수행하는 함수이다. 예를 들어, \"RDD\"는 배열을 뒤집은 다음 처음 두 수를 버리는 함수이다.\n",
    "\n",
    "- 배열의 초기값과 수행할 함수가 주어졌을 때, 최종 결과를 구하는 프로그램을 작성하시오.\n",
    "\n",
    "### 입력\n",
    "- 첫째 줄에 테스트 케이스의 개수 T가 주어진다. T는 최대 100이다.\n",
    "\n",
    "- 각 테스트 케이스의 첫째 줄에는 수행할 함수 p가 주어진다. p의 길이는 1보다 크거나 같고, 100,000보다 작거나 같다.\n",
    "\n",
    "- 다음 줄에는 배열에 들어있는 수의 개수 n이 주어진다. (0 ≤ n ≤ 100,000)\n",
    "\n",
    "- 다음 줄에는 [x1,...,xn]과 같은 형태로 배열에 들어있는 정수가 주어진다. (1 ≤ xi ≤ 100)\n",
    "\n",
    "- 전체 테스트 케이스에 주어지는 p의 길이의 합과 n의 합은 70만을 넘지 않는다.\n",
    "\n",
    "### 출력\n",
    "- 각 테스트 케이스에 대해서, 입력으로 주어진 정수 배열에 함수를 수행한 결과를 출력한다. 만약, 에러가 발생한 경우에는 error를 출력한다."
   ]
  },
  {
   "cell_type": "markdown",
   "id": "ea6f93f1",
   "metadata": {},
   "source": [
    "### Solution 01. Queue를 class 함수를 만들어서 풀이 &rarr; 시간 초과\n",
    "\n",
    "#### 생각한 해결책\n",
    "1. collections에서 직접 queue를 불러온다.\n",
    "2. 'RR'과 같이 쓸모 없는 내용을 제거 한후 진행 한다."
   ]
  },
  {
   "cell_type": "code",
   "execution_count": 79,
   "id": "5c37bbb3",
   "metadata": {
    "ExecuteTime": {
     "end_time": "2023-02-07T05:05:43.525289Z",
     "start_time": "2023-02-07T05:05:19.485545Z"
    },
    "scrolled": false
   },
   "outputs": [
    {
     "name": "stdout",
     "output_type": "stream",
     "text": [
      "3\n",
      "RDD\n",
      "4\n",
      "[1,2,3,4]\n",
      "[2,1]\n",
      "DD\n",
      "1\n",
      "[42]\n",
      "error\n",
      "RRD\n",
      "6\n",
      "[1,1,2,3,5,8]\n",
      "[1,2,3,5,8]\n"
     ]
    }
   ],
   "source": [
    "class Queue(list):\n",
    "    def R(self):\n",
    "        return self[::-1]\n",
    "    def D(self):\n",
    "        if self == []:\n",
    "            self ='error'\n",
    "        else:\n",
    "            self.pop(0)\n",
    "            return self\n",
    "        \n",
    "    \n",
    "t = int(input())\n",
    "\n",
    "for _ in range(t):\n",
    "    p = input()\n",
    "    n = int(input())\n",
    "    a = input()\n",
    "    if a == '[]':\n",
    "        queue =  Queue([])\n",
    "    else:\n",
    "        queue = Queue(a[1:-1].split(','))\n",
    "    if len(queue) != n:\n",
    "        print('error')\n",
    "        break\n",
    "    for pp in p:\n",
    "        if pp == 'R':\n",
    "            queue = Queue(queue.R())\n",
    "        elif pp == 'D':\n",
    "            if queue == []:\n",
    "                queue = 'error'\n",
    "                break\n",
    "            else:\n",
    "                queue.D()\n",
    "    if queue != 'error': \n",
    "        print(f\"[{','.join(q)}]\")\n",
    "    else:\n",
    "        print(queue)"
   ]
  },
  {
   "cell_type": "code",
   "execution_count": 58,
   "id": "69f8aa6f",
   "metadata": {
    "ExecuteTime": {
     "end_time": "2023-02-07T01:11:07.392979Z",
     "start_time": "2023-02-07T01:11:03.207053Z"
    },
    "collapsed": true
   },
   "outputs": [
    {
     "ename": "KeyboardInterrupt",
     "evalue": "Interrupted by user",
     "output_type": "error",
     "traceback": [
      "\u001b[1;31m---------------------------------------------------------------------------\u001b[0m",
      "\u001b[1;31mKeyboardInterrupt\u001b[0m                         Traceback (most recent call last)",
      "\u001b[1;32m~\\AppData\\Local\\Temp\\ipykernel_18268\\3426448870.py\u001b[0m in \u001b[0;36m<module>\u001b[1;34m\u001b[0m\n\u001b[0;32m     13\u001b[0m \u001b[1;33m\u001b[0m\u001b[0m\n\u001b[0;32m     14\u001b[0m \u001b[1;33m\u001b[0m\u001b[0m\n\u001b[1;32m---> 15\u001b[1;33m \u001b[0mt\u001b[0m \u001b[1;33m=\u001b[0m \u001b[0mint\u001b[0m\u001b[1;33m(\u001b[0m\u001b[0minput\u001b[0m\u001b[1;33m(\u001b[0m\u001b[1;33m)\u001b[0m\u001b[1;33m)\u001b[0m\u001b[1;33m\u001b[0m\u001b[1;33m\u001b[0m\u001b[0m\n\u001b[0m\u001b[0;32m     16\u001b[0m \u001b[1;33m\u001b[0m\u001b[0m\n\u001b[0;32m     17\u001b[0m \u001b[1;32mfor\u001b[0m \u001b[0m_\u001b[0m \u001b[1;32min\u001b[0m \u001b[0mrange\u001b[0m\u001b[1;33m(\u001b[0m\u001b[0mt\u001b[0m\u001b[1;33m)\u001b[0m\u001b[1;33m:\u001b[0m\u001b[1;33m\u001b[0m\u001b[1;33m\u001b[0m\u001b[0m\n",
      "\u001b[1;32m~\\anaconda3\\lib\\site-packages\\ipykernel\\kernelbase.py\u001b[0m in \u001b[0;36mraw_input\u001b[1;34m(self, prompt)\u001b[0m\n\u001b[0;32m   1175\u001b[0m                 \u001b[1;34m\"raw_input was called, but this frontend does not support input requests.\"\u001b[0m\u001b[1;33m\u001b[0m\u001b[1;33m\u001b[0m\u001b[0m\n\u001b[0;32m   1176\u001b[0m             )\n\u001b[1;32m-> 1177\u001b[1;33m         return self._input_request(\n\u001b[0m\u001b[0;32m   1178\u001b[0m             \u001b[0mstr\u001b[0m\u001b[1;33m(\u001b[0m\u001b[0mprompt\u001b[0m\u001b[1;33m)\u001b[0m\u001b[1;33m,\u001b[0m\u001b[1;33m\u001b[0m\u001b[1;33m\u001b[0m\u001b[0m\n\u001b[0;32m   1179\u001b[0m             \u001b[0mself\u001b[0m\u001b[1;33m.\u001b[0m\u001b[0m_parent_ident\u001b[0m\u001b[1;33m[\u001b[0m\u001b[1;34m\"shell\"\u001b[0m\u001b[1;33m]\u001b[0m\u001b[1;33m,\u001b[0m\u001b[1;33m\u001b[0m\u001b[1;33m\u001b[0m\u001b[0m\n",
      "\u001b[1;32m~\\anaconda3\\lib\\site-packages\\ipykernel\\kernelbase.py\u001b[0m in \u001b[0;36m_input_request\u001b[1;34m(self, prompt, ident, parent, password)\u001b[0m\n\u001b[0;32m   1217\u001b[0m             \u001b[1;32mexcept\u001b[0m \u001b[0mKeyboardInterrupt\u001b[0m\u001b[1;33m:\u001b[0m\u001b[1;33m\u001b[0m\u001b[1;33m\u001b[0m\u001b[0m\n\u001b[0;32m   1218\u001b[0m                 \u001b[1;31m# re-raise KeyboardInterrupt, to truncate traceback\u001b[0m\u001b[1;33m\u001b[0m\u001b[1;33m\u001b[0m\u001b[0m\n\u001b[1;32m-> 1219\u001b[1;33m                 \u001b[1;32mraise\u001b[0m \u001b[0mKeyboardInterrupt\u001b[0m\u001b[1;33m(\u001b[0m\u001b[1;34m\"Interrupted by user\"\u001b[0m\u001b[1;33m)\u001b[0m \u001b[1;32mfrom\u001b[0m \u001b[1;32mNone\u001b[0m\u001b[1;33m\u001b[0m\u001b[1;33m\u001b[0m\u001b[0m\n\u001b[0m\u001b[0;32m   1220\u001b[0m             \u001b[1;32mexcept\u001b[0m \u001b[0mException\u001b[0m\u001b[1;33m:\u001b[0m\u001b[1;33m\u001b[0m\u001b[1;33m\u001b[0m\u001b[0m\n\u001b[0;32m   1221\u001b[0m                 \u001b[0mself\u001b[0m\u001b[1;33m.\u001b[0m\u001b[0mlog\u001b[0m\u001b[1;33m.\u001b[0m\u001b[0mwarning\u001b[0m\u001b[1;33m(\u001b[0m\u001b[1;34m\"Invalid Message:\"\u001b[0m\u001b[1;33m,\u001b[0m \u001b[0mexc_info\u001b[0m\u001b[1;33m=\u001b[0m\u001b[1;32mTrue\u001b[0m\u001b[1;33m)\u001b[0m\u001b[1;33m\u001b[0m\u001b[1;33m\u001b[0m\u001b[0m\n",
      "\u001b[1;31mKeyboardInterrupt\u001b[0m: Interrupted by user"
     ]
    }
   ],
   "source": [
    "import sys\n",
    "\n",
    "class Queue(list):\n",
    "    def R(self):\n",
    "        return self[::-1]\n",
    "    def D(self):\n",
    "        if self == []:\n",
    "            self ='error'\n",
    "        else:\n",
    "            self.pop(0)\n",
    "            return self\n",
    "        \n",
    "    \n",
    "t = int(input())\n",
    "\n",
    "for _ in range(t):\n",
    "    p = sys.stdin.readline()\n",
    "    n = int(sys.stdin.readline())\n",
    "    a = sys.stdin.readline()\n",
    "    if a == '[]':\n",
    "        queue =  Queue([])\n",
    "    else:\n",
    "        queue = Queue(a[1:-1].split(','))\n",
    "        \n",
    "    for pp in p:\n",
    "        if pp == 'R':\n",
    "            queue = Queue(queue.R())\n",
    "        elif pp == 'D':\n",
    "            if queue == []:\n",
    "                queue = 'error'\n",
    "                break\n",
    "            else:\n",
    "                queue.D()\n",
    "    if queue != 'error': \n",
    "        print(f\"[{','.join(q)}]\")\n",
    "    else:\n",
    "        print(queue)"
   ]
  },
  {
   "cell_type": "markdown",
   "id": "64aab340",
   "metadata": {},
   "source": [
    "### Solution 02. collections에서 직접 queue를 불러온다."
   ]
  },
  {
   "cell_type": "code",
   "execution_count": 17,
   "id": "d509f063",
   "metadata": {
    "ExecuteTime": {
     "end_time": "2023-02-07T09:35:22.155435Z",
     "start_time": "2023-02-07T09:35:12.196816Z"
    }
   },
   "outputs": [
    {
     "name": "stdout",
     "output_type": "stream",
     "text": [
      "1\n",
      "RDD\n",
      "4\n",
      "[1,2,3,4]\n",
      "[2,1]\n"
     ]
    }
   ],
   "source": [
    "from collections import deque\n",
    "\n",
    "t = int(input())\n",
    "\n",
    "for _ in range(t):\n",
    "    p = input()\n",
    "    n = int(input())\n",
    "    a = input()\n",
    "    q = []\n",
    "    if a == '[]':\n",
    "        q = deque([])\n",
    "    else:\n",
    "        q = deque(a[1:-1].split(','))\n",
    "    if len(q) != n:\n",
    "        print('error')\n",
    "        break\n",
    "    for pp in p:\n",
    "        if pp == 'R':\n",
    "            q.reverse()\n",
    "        elif pp == 'D':\n",
    "            if q == deque([]):\n",
    "                q = 'error'\n",
    "                break\n",
    "            else:\n",
    "                q.popleft()\n",
    "    if q != 'error': \n",
    "        print(f\"[{','.join(q)}]\")\n",
    "    else:\n",
    "        print(q)"
   ]
  },
  {
   "cell_type": "markdown",
   "id": "104ebac6",
   "metadata": {},
   "source": [
    "### Solution 03. Front Pointer를 사용한 풀이(deque 함수 사용) - Attribute Error"
   ]
  },
  {
   "cell_type": "code",
   "execution_count": 20,
   "id": "397a1808",
   "metadata": {
    "ExecuteTime": {
     "end_time": "2023-02-07T09:40:26.164265Z",
     "start_time": "2023-02-07T09:40:03.296562Z"
    }
   },
   "outputs": [
    {
     "name": "stdout",
     "output_type": "stream",
     "text": [
      "4\n",
      "RDD\n",
      "4\n",
      "[1,2,3,4]\n",
      "[2,1]\n",
      "DD\n",
      "1\n",
      "[42]\n",
      "error\n",
      "RRD\n",
      "6\n",
      "[1,1,2,3,5,8]\n",
      "[1,2,3,5,8]\n",
      "D\n",
      "0\n",
      "[]\n",
      "error\n"
     ]
    }
   ],
   "source": [
    "from collections import deque\n",
    "\n",
    "t = int(input())\n",
    "\n",
    "for _ in range(t):\n",
    "    p = input()\n",
    "    n = int(input())\n",
    "    a = input()\n",
    "    if a == '[]':\n",
    "        q = deque([])\n",
    "    else:\n",
    "        q = deque(a[1:-1].split(','))\n",
    "    if len(q) != n:\n",
    "        print('error')\n",
    "        break\n",
    "    point = 0\n",
    "    for pp in p:\n",
    "        if pp == 'R':\n",
    "            point += 1\n",
    "        elif pp == 'D':\n",
    "            if q == deque([]):\n",
    "                q = 0\n",
    "                break\n",
    "            else:\n",
    "                if point%2 == 0:\n",
    "                    q.popleft()\n",
    "                else:\n",
    "                    q.pop()\n",
    "    if point%2 == 1:\n",
    "        q.reverse()\n",
    "    if q != 0: \n",
    "        print(f\"[{','.join(q)}]\")\n",
    "    else:\n",
    "        print('error')"
   ]
  },
  {
   "cell_type": "markdown",
   "id": "24e673e3",
   "metadata": {},
   "source": [
    "### Solution 04. 03번에서 Deque 함수 안쓴 풀이 - 정답"
   ]
  },
  {
   "cell_type": "code",
   "execution_count": 24,
   "id": "b7b95c47",
   "metadata": {
    "ExecuteTime": {
     "end_time": "2023-02-07T09:50:20.055965Z",
     "start_time": "2023-02-07T09:49:49.158503Z"
    }
   },
   "outputs": [
    {
     "name": "stdout",
     "output_type": "stream",
     "text": [
      "4\n",
      "RDD\n",
      "4\n",
      "[1,2,3,4]\n",
      "[2,1]\n",
      "DD\n",
      "1\n",
      "[42]\n",
      "error\n",
      "RRD\n",
      "6\n",
      "[1,1,2,3,5,8]\n",
      "[1,2,3,5,8]\n",
      "D\n",
      "0\n",
      "[]\n",
      "error\n"
     ]
    }
   ],
   "source": [
    "t = int(input())\n",
    "\n",
    "for _ in range(t):\n",
    "    p = input()\n",
    "    n = int(input())\n",
    "    a = input()\n",
    "    if a == '[]':\n",
    "        q = []\n",
    "    else:\n",
    "        q = a[1:-1].split(',')\n",
    "    if len(q) != n:\n",
    "        print('error')\n",
    "        break\n",
    "    point = 0\n",
    "    exception = 0\n",
    "    for pp in p:\n",
    "        if pp == 'R':\n",
    "            point += 1\n",
    "        elif pp == 'D':\n",
    "            if q == []:\n",
    "                exception = 1\n",
    "                break\n",
    "            else:\n",
    "                if point%2 == 0:\n",
    "                    q.pop(0)\n",
    "                else:\n",
    "                    q.pop()\n",
    "    if point%2 == 1:\n",
    "        q.reverse()\n",
    "    if exception != 1: \n",
    "        print(f\"[{','.join(q)}]\")\n",
    "    else:\n",
    "        print('error')"
   ]
  }
 ],
 "metadata": {
  "kernelspec": {
   "display_name": "Python 3 (ipykernel)",
   "language": "python",
   "name": "python3"
  },
  "language_info": {
   "codemirror_mode": {
    "name": "ipython",
    "version": 3
   },
   "file_extension": ".py",
   "mimetype": "text/x-python",
   "name": "python",
   "nbconvert_exporter": "python",
   "pygments_lexer": "ipython3",
   "version": "3.9.13"
  },
  "toc": {
   "base_numbering": 1,
   "nav_menu": {},
   "number_sections": true,
   "sideBar": true,
   "skip_h1_title": false,
   "title_cell": "Table of Contents",
   "title_sidebar": "Contents",
   "toc_cell": false,
   "toc_position": {},
   "toc_section_display": true,
   "toc_window_display": false
  },
  "varInspector": {
   "cols": {
    "lenName": 16,
    "lenType": 16,
    "lenVar": 40
   },
   "kernels_config": {
    "python": {
     "delete_cmd_postfix": "",
     "delete_cmd_prefix": "del ",
     "library": "var_list.py",
     "varRefreshCmd": "print(var_dic_list())"
    },
    "r": {
     "delete_cmd_postfix": ") ",
     "delete_cmd_prefix": "rm(",
     "library": "var_list.r",
     "varRefreshCmd": "cat(var_dic_list()) "
    }
   },
   "types_to_exclude": [
    "module",
    "function",
    "builtin_function_or_method",
    "instance",
    "_Feature"
   ],
   "window_display": false
  }
 },
 "nbformat": 4,
 "nbformat_minor": 5
}
