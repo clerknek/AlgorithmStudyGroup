{
 "cells": [
  {
   "cell_type": "markdown",
   "id": "836dff17",
   "metadata": {},
   "source": [
    "## 009. 카드 2\n",
    "- BAEKJOON 2164 https://www.acmicpc.net/problem/2164\n",
    "\n",
    "### 문제\n",
    "- N장의 카드가 있다. 각각의 카드는 차례로 1부터 N까지의 번호가 붙어 있으며, 1번 카드가 제일 위에, N번 카드가 제일 아래인 상태로 순서대로 카드가 놓여 있다.\n",
    "\n",
    "- 이제 다음과 같은 동작을 카드가 한 장 남을 때까지 반복하게 된다. 우선, 제일 위에 있는 카드를 바닥에 버린다. 그 다음, 제일 위에 있는 카드를 제일 아래에 있는 카드 밑으로 옮긴다.\n",
    "\n",
    "- 예를 들어 N=4인 경우를 생각해 보자. 카드는 제일 위에서부터 1234 의 순서로 놓여있다. 1을 버리면 234가 남는다. 여기서 2를 제일 아래로 옮기면 342가 된다. 3을 버리면 42가 되고, 4를 밑으로 옮기면 24가 된다. 마지막으로 2를 버리고 나면, 남는 카드는 4가 된다.\n",
    "\n",
    "- N이 주어졌을 때, 제일 마지막에 남게 되는 카드를 구하는 프로그램을 작성하시오.\n",
    "\n",
    "### 입력\n",
    "- 첫째 줄에 정수 N(1 ≤ N ≤ 500,000)이 주어진다.\n",
    "\n",
    "### 출력\n",
    "- 첫째 줄에 남게 되는 카드의 번호를 출력한다."
   ]
  },
  {
   "cell_type": "markdown",
   "id": "9dad63ef",
   "metadata": {},
   "source": [
    "### Solution 01. Queue 사용 X"
   ]
  },
  {
   "cell_type": "code",
   "execution_count": 51,
   "id": "48b7ce78",
   "metadata": {
    "ExecuteTime": {
     "end_time": "2023-02-07T03:30:43.047726Z",
     "start_time": "2023-02-07T03:30:42.100936Z"
    },
    "scrolled": true
   },
   "outputs": [
    {
     "name": "stdout",
     "output_type": "stream",
     "text": [
      "6\n",
      "4\n"
     ]
    }
   ],
   "source": [
    "n = int(input())\n",
    "i = 1\n",
    "while i*2 < n:\n",
    "    i *= 2\n",
    "print(1 if n==1 else (n - i)*2)"
   ]
  },
  {
   "cell_type": "code",
   "execution_count": 20,
   "id": "7d163c2f",
   "metadata": {
    "ExecuteTime": {
     "end_time": "2023-02-07T03:04:06.300733Z",
     "start_time": "2023-02-07T03:04:06.277735Z"
    },
    "scrolled": true
   },
   "outputs": [
    {
     "name": "stdout",
     "output_type": "stream",
     "text": [
      "1 1\n",
      "2 2\n",
      "3 2\n",
      "4 4\n",
      "5 2\n",
      "6 4\n",
      "7 6\n",
      "8 8\n",
      "9 2\n",
      "10 4\n",
      "11 6\n",
      "12 8\n",
      "13 10\n",
      "14 12\n",
      "15 14\n",
      "16 16\n",
      "17 2\n",
      "18 4\n",
      "19 6\n",
      "20 8\n",
      "21 10\n",
      "22 12\n",
      "23 14\n",
      "24 16\n",
      "25 18\n",
      "26 20\n",
      "27 22\n",
      "28 24\n",
      "29 26\n",
      "30 28\n",
      "31 30\n",
      "32 32\n",
      "33 2\n",
      "34 4\n",
      "35 6\n",
      "36 8\n",
      "37 10\n",
      "38 12\n",
      "39 14\n",
      "40 16\n",
      "41 18\n",
      "42 20\n",
      "43 22\n",
      "44 24\n",
      "45 26\n",
      "46 28\n",
      "47 30\n",
      "48 32\n",
      "49 34\n"
     ]
    }
   ],
   "source": [
    "class Queue(list):\n",
    "    def get(self):\n",
    "        self.pop(0)\n",
    "    def put_under(self):\n",
    "        self.append(self.pop(0))\n",
    "\n",
    "# n = int(input())\n",
    "for n in range(1, 50):\n",
    "    queue = Queue([i+1 for i in range(n)])\n",
    "\n",
    "    i = 1\n",
    "    while True:\n",
    "        if len(queue) == 1:\n",
    "            break\n",
    "        if i == 1:\n",
    "            queue.get()\n",
    "            i = 0\n",
    "        else:\n",
    "            queue.put_under()\n",
    "            i = 1\n",
    "    print(n, queue[0])"
   ]
  },
  {
   "cell_type": "markdown",
   "id": "fe8b870c",
   "metadata": {},
   "source": [
    "### Solution 02. Queue 사용 O -> 시간초과"
   ]
  },
  {
   "cell_type": "code",
   "execution_count": 62,
   "id": "65e835d9",
   "metadata": {
    "ExecuteTime": {
     "end_time": "2023-02-07T04:51:29.925807Z",
     "start_time": "2023-02-07T04:51:29.399581Z"
    }
   },
   "outputs": [
    {
     "name": "stdout",
     "output_type": "stream",
     "text": [
      "6\n",
      "4\n"
     ]
    }
   ],
   "source": [
    "class Queue(list):\n",
    "    def get(self):\n",
    "        self.pop(0)\n",
    "    def put_under(self):\n",
    "        self.append(self.pop(0))\n",
    "\n",
    "n = int(input())\n",
    "queue = Queue([i+1 for i in range(n)])\n",
    "\n",
    "i = 1\n",
    "while True:\n",
    "    if len(queue) == 1:\n",
    "        break\n",
    "    if i == 1:\n",
    "        queue.get()\n",
    "        i = 0\n",
    "    else:\n",
    "        queue.put_under()\n",
    "        i = 1\n",
    "print(queue[0])"
   ]
  },
  {
   "cell_type": "code",
   "execution_count": 60,
   "id": "0b07c5a2",
   "metadata": {
    "ExecuteTime": {
     "end_time": "2023-02-07T04:51:24.520815Z",
     "start_time": "2023-02-07T04:51:23.596611Z"
    }
   },
   "outputs": [
    {
     "name": "stdout",
     "output_type": "stream",
     "text": [
      "6\n",
      "4\n"
     ]
    }
   ],
   "source": [
    "from collections import deque\n",
    "\n",
    "n = int(input())\n",
    "deque = deque([i+1 for i in range(n)])\n",
    "\n",
    "i = 1\n",
    "while True:\n",
    "    if len(deque) == 1:\n",
    "        break\n",
    "    if i == 1:\n",
    "        deque.popleft()\n",
    "        i = 0\n",
    "    else:\n",
    "        deque.append(deque.popleft())\n",
    "        i = 1\n",
    "print(deque[0])"
   ]
  }
 ],
 "metadata": {
  "kernelspec": {
   "display_name": "Python 3 (ipykernel)",
   "language": "python",
   "name": "python3"
  },
  "language_info": {
   "codemirror_mode": {
    "name": "ipython",
    "version": 3
   },
   "file_extension": ".py",
   "mimetype": "text/x-python",
   "name": "python",
   "nbconvert_exporter": "python",
   "pygments_lexer": "ipython3",
   "version": "3.9.13"
  },
  "toc": {
   "base_numbering": 1,
   "nav_menu": {},
   "number_sections": true,
   "sideBar": true,
   "skip_h1_title": false,
   "title_cell": "Table of Contents",
   "title_sidebar": "Contents",
   "toc_cell": false,
   "toc_position": {},
   "toc_section_display": true,
   "toc_window_display": false
  },
  "varInspector": {
   "cols": {
    "lenName": 16,
    "lenType": 16,
    "lenVar": 40
   },
   "kernels_config": {
    "python": {
     "delete_cmd_postfix": "",
     "delete_cmd_prefix": "del ",
     "library": "var_list.py",
     "varRefreshCmd": "print(var_dic_list())"
    },
    "r": {
     "delete_cmd_postfix": ") ",
     "delete_cmd_prefix": "rm(",
     "library": "var_list.r",
     "varRefreshCmd": "cat(var_dic_list()) "
    }
   },
   "types_to_exclude": [
    "module",
    "function",
    "builtin_function_or_method",
    "instance",
    "_Feature"
   ],
   "window_display": false
  }
 },
 "nbformat": 4,
 "nbformat_minor": 5
}
