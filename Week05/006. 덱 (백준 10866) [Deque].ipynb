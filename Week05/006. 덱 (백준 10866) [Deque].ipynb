{
 "cells": [
  {
   "cell_type": "markdown",
   "id": "1c279a9a",
   "metadata": {},
   "source": [
    "## 006. 덱\n",
    "- BAEKJOON 10866 https://www.acmicpc.net/problem/10866\n",
    "\n",
    "### 문제\n",
    "- 정수를 저장하는 덱(Deque)를 구현한 다음, 입력으로 주어지는 명령을 처리하는 프로그램을 작성하시오.\n",
    "\n",
    "- 명령은 총 여덟 가지이다.\n",
    "\n",
    "    - push_front X: 정수 X를 덱의 앞에 넣는다.\n",
    "    - push_back X: 정수 X를 덱의 뒤에 넣는다.\n",
    "    - pop_front: 덱의 가장 앞에 있는 수를 빼고, 그 수를 출력한다. 만약, 덱에 들어있는 정수가 없는 경우에는 -1을 출력한다.\n",
    "    - pop_back: 덱의 가장 뒤에 있는 수를 빼고, 그 수를 출력한다. 만약, 덱에 들어있는 정수가 없는 경우에는 -1을 출력한다.\n",
    "    - size: 덱에 들어있는 정수의 개수를 출력한다.\n",
    "    - empty: 덱이 비어있으면 1을, 아니면 0을 출력한다.\n",
    "    - front: 덱의 가장 앞에 있는 정수를 출력한다. 만약 덱에 들어있는 정수가 없는 경우에는 -1을 출력한다.\n",
    "    - back: 덱의 가장 뒤에 있는 정수를 출력한다. 만약 덱에 들어있는 정수가 없는 경우에는 -1을 출력한다.\n",
    "\n",
    "### 입력\n",
    "- 첫째 줄에 주어지는 명령의 수 N (1 ≤ N ≤ 10,000)이 주어진다. 둘째 줄부터 N개의 줄에는 명령이 하나씩 주어진다. 주어지는 정수는 1보다 크거나 같고, 100,000보다 작거나 같다. 문제에 나와있지 않은 명령이 주어지는 경우는 없다.\n",
    "\n",
    "### 출력\n",
    "- 출력해야하는 명령이 주어질 때마다, 한 줄에 하나씩 출력한다."
   ]
  },
  {
   "cell_type": "code",
   "execution_count": 51,
   "id": "3b7e495b",
   "metadata": {
    "ExecuteTime": {
     "end_time": "2023-02-06T05:24:50.255309Z",
     "start_time": "2023-02-06T05:23:39.717684Z"
    }
   },
   "outputs": [
    {
     "name": "stdout",
     "output_type": "stream",
     "text": [
      "22\n",
      "front\n",
      "-1\n",
      "back\n",
      "-1\n",
      "pop_front\n",
      "-1\n",
      "pop_back\n",
      "-1\n",
      "push_front 1\n",
      "front\n",
      "1\n",
      "pop_back\n",
      "1\n",
      "push_back 2\n",
      "back\n",
      "2\n",
      "pop_front\n",
      "2\n",
      "push_front 10\n",
      "push_front 333\n",
      "front\n",
      "333\n",
      "back\n",
      "10\n",
      "pop_back\n",
      "10\n",
      "pop_back\n",
      "333\n",
      "push_back 20\n",
      "push_back 1234\n",
      "front\n",
      "20\n",
      "back\n",
      "1234\n",
      "pop_back\n",
      "1234\n",
      "pop_back\n",
      "20\n"
     ]
    }
   ],
   "source": [
    "def push_front(list, X):\n",
    "    list.insert(0, int(X))\n",
    "def push_back(list, X):\n",
    "    list.append(int(X))\n",
    "def pop_front(list):\n",
    "    if list == []:\n",
    "        print(-1)\n",
    "    else:\n",
    "        print(list.pop(0))\n",
    "def pop_back(list):\n",
    "    if list == []:\n",
    "        print(-1)\n",
    "    else:\n",
    "        print(list.pop())\n",
    "def size(list):\n",
    "    print(len(list))\n",
    "def empty(list):\n",
    "    if list == []:\n",
    "        print(1)\n",
    "    else:\n",
    "        print(0)\n",
    "def front(list):\n",
    "    if list == []:\n",
    "        print(-1)\n",
    "    else:\n",
    "        print(list[0])\n",
    "def back(list):\n",
    "    if list ==[]:\n",
    "        print(-1)\n",
    "    else:\n",
    "        print(list[-1])\n",
    "\n",
    "n = int(input())\n",
    "l = []\n",
    "\n",
    "for i in range(n):\n",
    "    s = input().split(' ')\n",
    "    if len(s) == 1:\n",
    "        locals()[s[0]](l)  # locals() 함수를 통해 input 값을 함수 이름 받기\n",
    "    elif len(s) == 2:\n",
    "        locals()[s[0]](l, s[1])"
   ]
  },
  {
   "cell_type": "markdown",
   "id": "453bcf51",
   "metadata": {},
   "source": [
    "### 백준용"
   ]
  },
  {
   "cell_type": "code",
   "execution_count": null,
   "id": "48b93880",
   "metadata": {},
   "outputs": [],
   "source": [
    "import sys\n",
    "def push_front(list, X):\n",
    "    list.insert(0, int(X))\n",
    "def push_back(list, X):\n",
    "    list.append(int(X))\n",
    "def pop_front(list):\n",
    "    if list == []:\n",
    "        print(-1)\n",
    "    else:\n",
    "        print(list.pop(0))\n",
    "def pop_back(list):\n",
    "    if list == []:\n",
    "        print(-1)\n",
    "    else:\n",
    "        print(list.pop())\n",
    "def size(list):\n",
    "    print(len(list))\n",
    "def empty(list):\n",
    "    if list == []:\n",
    "        print(1)\n",
    "    else:\n",
    "        print(0)\n",
    "def front(list):\n",
    "    if list == []:\n",
    "        print(-1)\n",
    "    else:\n",
    "        print(list[0])\n",
    "def back(list):\n",
    "    if list ==[]:\n",
    "        print(-1)\n",
    "    else:\n",
    "        print(list[-1])\n",
    "\n",
    "n = int(input())\n",
    "l = []\n",
    "\n",
    "for i in range(n):\n",
    "    s = sys.stdin.readline().split()\n",
    "    if len(s) == 1:\n",
    "        locals()[s[0]](l)\n",
    "    elif len(s) == 2:\n",
    "        locals()[s[0]](l, s[1])"
   ]
  }
 ],
 "metadata": {
  "kernelspec": {
   "display_name": "Python 3 (ipykernel)",
   "language": "python",
   "name": "python3"
  },
  "language_info": {
   "codemirror_mode": {
    "name": "ipython",
    "version": 3
   },
   "file_extension": ".py",
   "mimetype": "text/x-python",
   "name": "python",
   "nbconvert_exporter": "python",
   "pygments_lexer": "ipython3",
   "version": "3.9.13"
  },
  "toc": {
   "base_numbering": 1,
   "nav_menu": {},
   "number_sections": true,
   "sideBar": true,
   "skip_h1_title": false,
   "title_cell": "Table of Contents",
   "title_sidebar": "Contents",
   "toc_cell": false,
   "toc_position": {},
   "toc_section_display": true,
   "toc_window_display": false
  },
  "varInspector": {
   "cols": {
    "lenName": 16,
    "lenType": 16,
    "lenVar": 40
   },
   "kernels_config": {
    "python": {
     "delete_cmd_postfix": "",
     "delete_cmd_prefix": "del ",
     "library": "var_list.py",
     "varRefreshCmd": "print(var_dic_list())"
    },
    "r": {
     "delete_cmd_postfix": ") ",
     "delete_cmd_prefix": "rm(",
     "library": "var_list.r",
     "varRefreshCmd": "cat(var_dic_list()) "
    }
   },
   "types_to_exclude": [
    "module",
    "function",
    "builtin_function_or_method",
    "instance",
    "_Feature"
   ],
   "window_display": false
  }
 },
 "nbformat": 4,
 "nbformat_minor": 5
}
