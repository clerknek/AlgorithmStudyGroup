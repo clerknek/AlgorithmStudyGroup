{
 "cells": [
  {
   "cell_type": "markdown",
   "id": "61252b86",
   "metadata": {},
   "source": [
    "## 001. 균형잡힌 세상\n",
    "- BAEKJOON 4949 https://www.acmicpc.net/problem/4949\n",
    "\n",
    "### 문제\n",
    "- 세계는 균형이 잘 잡혀있어야 한다. 양과 음, 빛과 어둠 그리고 왼쪽 괄호와 오른쪽 괄호처럼 말이다.\n",
    "\n",
    "- 정민이의 임무는 어떤 문자열이 주어졌을 때, 괄호들의 균형이 잘 맞춰져 있는지 판단하는 프로그램을 짜는 것이다.\n",
    "\n",
    "- 문자열에 포함되는 괄호는 소괄호(\"()\") 와 대괄호(\"[]\")로 2종류이고, 문자열이 균형을 이루는 조건은 아래와 같다.\n",
    "\n",
    "    - 모든 왼쪽 소괄호(\"(\")는 오른쪽 소괄호(\")\")와만 짝을 이뤄야 한다.\n",
    "    - 모든 왼쪽 대괄호(\"[\")는 오른쪽 대괄호(\"]\")와만 짝을 이뤄야 한다.\n",
    "    - 모든 오른쪽 괄호들은 자신과 짝을 이룰 수 있는 왼쪽 괄호가 존재한다.\n",
    "    - 모든 괄호들의 짝은 1:1 매칭만 가능하다. 즉, 괄호 하나가 둘 이상의 괄호와 짝지어지지 않는다.\n",
    "    - 짝을 이루는 두 괄호가 있을 때, 그 사이에 있는 문자열도 균형이 잡혀야 한다.\n",
    "- 정민이를 도와 문자열이 주어졌을 때 균형잡힌 문자열인지 아닌지를 판단해보자.\n",
    "\n",
    "### 입력\n",
    "- 하나 또는 여러줄에 걸쳐서 문자열이 주어진다. 각 문자열은 영문 알파벳, 공백, 소괄호(\"( )\") 대괄호(\"[ ]\")등으로 이루어져 있으며, 길이는 100글자보다 작거나 같다. 각 줄은 마침표(\".\")로 끝난다.\n",
    "\n",
    "- 입력의 종료조건으로 맨 마지막에 점 하나(\".\")가 들어온다.\n",
    "\n",
    "### 출력\n",
    "- 각 줄마다 해당 문자열이 균형을 이루고 있으면 \"yes\"를, 아니면 \"no\"를 출력한다."
   ]
  },
  {
   "cell_type": "code",
   "execution_count": 49,
   "id": "2368dece",
   "metadata": {
    "ExecuteTime": {
     "end_time": "2023-02-05T09:13:21.068908Z",
     "start_time": "2023-02-05T09:12:49.257768Z"
    },
    "scrolled": false
   },
   "outputs": [
    {
     "name": "stdout",
     "output_type": "stream",
     "text": [
      "So when I die (the [first] I will see in (heaven) is a score list).\n",
      "yes\n",
      "[ first in ] ( first out ).\n",
      "yes\n",
      "Half Moon tonight (At least it is better than no Moon at all].\n",
      "no\n",
      "A rope may form )( a trail in a maze.\n",
      "no\n",
      "Help( I[m being held prisoner in a fortune cookie factory)].\n",
      "no\n",
      "([ (([( [ ] ) ( ) (( ))] )) ]).\n",
      "yes\n",
      " .\n",
      "yes\n",
      ".\n"
     ]
    }
   ],
   "source": [
    "# stack 클래스 구현\n",
    "class Stack(list):\n",
    "    push = list.append\n",
    "    def peek(self):\n",
    "        return self[-1]\n",
    "\n",
    "while True:\n",
    "    input_s = input()\n",
    "    \n",
    "    # 입력값이 '.' 일때 종료\n",
    "    if input_s == '.':\n",
    "        break\n",
    "    stack = Stack()\n",
    "    \n",
    "    # 만약 앞에 괄호가 쳐저 있지 않을 경우를 대비해 exception 변수 생성\n",
    "    # ex) '].' or ').'\n",
    "    exception = 0\n",
    "    for s in input_s:\n",
    "            \n",
    "        # 앞 괄호가 있을 경우 stack에 쌓기\n",
    "        if s == '(' or s == '[':\n",
    "            stack.push(s)\n",
    "        \n",
    "        # 만약 Stack에 값이 존재 할 때 가장 위에 있는 값과 비교\n",
    "        elif s == ']' or s == ')':\n",
    "            if s == ')':\n",
    "                if stack == [] or stack.peek() == '[':\n",
    "                    exception = 1\n",
    "                    break\n",
    "                elif (stack.peek()=='('):\n",
    "                    stack.pop()\n",
    "            elif s == ']':\n",
    "                if stack == [] or stack.peek() == '(':\n",
    "                    exception = 1\n",
    "                    break\n",
    "                elif (stack.peek()=='['):\n",
    "                    stack.pop()\n",
    "                \n",
    "    if exception == 0 and stack == []:\n",
    "        print(\"yes\")\n",
    "    else:\n",
    "        print(\"no\")"
   ]
  }
 ],
 "metadata": {
  "kernelspec": {
   "display_name": "Python 3 (ipykernel)",
   "language": "python",
   "name": "python3"
  },
  "language_info": {
   "codemirror_mode": {
    "name": "ipython",
    "version": 3
   },
   "file_extension": ".py",
   "mimetype": "text/x-python",
   "name": "python",
   "nbconvert_exporter": "python",
   "pygments_lexer": "ipython3",
   "version": "3.9.13"
  },
  "toc": {
   "base_numbering": 1,
   "nav_menu": {},
   "number_sections": true,
   "sideBar": true,
   "skip_h1_title": false,
   "title_cell": "Table of Contents",
   "title_sidebar": "Contents",
   "toc_cell": false,
   "toc_position": {},
   "toc_section_display": true,
   "toc_window_display": false
  },
  "varInspector": {
   "cols": {
    "lenName": 16,
    "lenType": 16,
    "lenVar": 40
   },
   "kernels_config": {
    "python": {
     "delete_cmd_postfix": "",
     "delete_cmd_prefix": "del ",
     "library": "var_list.py",
     "varRefreshCmd": "print(var_dic_list())"
    },
    "r": {
     "delete_cmd_postfix": ") ",
     "delete_cmd_prefix": "rm(",
     "library": "var_list.r",
     "varRefreshCmd": "cat(var_dic_list()) "
    }
   },
   "types_to_exclude": [
    "module",
    "function",
    "builtin_function_or_method",
    "instance",
    "_Feature"
   ],
   "window_display": false
  }
 },
 "nbformat": 4,
 "nbformat_minor": 5
}
