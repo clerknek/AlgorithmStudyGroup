{
 "cells": [
  {
   "cell_type": "markdown",
   "id": "193fb63a",
   "metadata": {},
   "source": [
    "## 007. 회전하는 큐\n",
    "- BAEKJOON 1021 https://www.acmicpc.net/problem/1021\n",
    "\n",
    "### 문제\n",
    "- 지민이는 N개의 원소를 포함하고 있는 양방향 순환 큐를 가지고 있다. 지민이는 이 큐에서 몇 개의 원소를 뽑아내려고 한다.\n",
    "\n",
    "- 지민이는 이 큐에서 다음과 같은 3가지 연산을 수행할 수 있다.\n",
    "\n",
    "- 첫 번째 원소를 뽑아낸다. 이 연산을 수행하면, 원래 큐의 원소가 a1, ..., ak이었던 것이 a2, ..., ak와 같이 된다.\n",
    "- 왼쪽으로 한 칸 이동시킨다. 이 연산을 수행하면, a1, ..., ak가 a2, ..., ak, a1이 된다.\n",
    "- 오른쪽으로 한 칸 이동시킨다. 이 연산을 수행하면, a1, ..., ak가 ak, a1, ..., ak-1이 된다.\n",
    "- 큐에 처음에 포함되어 있던 수 N이 주어진다. 그리고 지민이가 뽑아내려고 하는 원소의 위치가 주어진다. (이 위치는 가장 처음 큐에서의 위치이다.) 이때, 그 원소를 주어진 순서대로 뽑아내는데 드는 2번, 3번 연산의 최솟값을 출력하는 프로그램을 작성하시오.\n",
    "\n",
    "### 입력\n",
    "- 첫째 줄에 큐의 크기 N과 뽑아내려고 하는 수의 개수 M이 주어진다. N은 50보다 작거나 같은 자연수이고, M은 N보다 작거나 같은 자연수이다. 둘째 줄에는 지민이가 뽑아내려고 하는 수의 위치가 순서대로 주어진다. 위치는 1보다 크거나 같고, N보다 작거나 같은 자연수이다.\n",
    "\n",
    "### 출력\n",
    "- 첫째 줄에 문제의 정답을 출력한다."
   ]
  },
  {
   "cell_type": "code",
   "execution_count": 81,
   "id": "5e42f236",
   "metadata": {
    "ExecuteTime": {
     "end_time": "2023-02-06T10:04:18.914371Z",
     "start_time": "2023-02-06T10:04:09.860166Z"
    }
   },
   "outputs": [
    {
     "name": "stdout",
     "output_type": "stream",
     "text": [
      "10 10\n",
      "1 6 3 2 7 9 8 4 10 5\n",
      "14\n"
     ]
    }
   ],
   "source": [
    "class CircleQueue(list):\n",
    "    def get(self):\n",
    "        return self.pop(0)\n",
    "    def right(self):\n",
    "        self.append(self.pop(0))\n",
    "    def left(self):\n",
    "        self.insert(0, self.pop())\n",
    "    def first(self):\n",
    "        return self[0]\n",
    "    def last(self):\n",
    "        return self[-1]\n",
    "\n",
    "n, m = map(int, input().split(' '))\n",
    "cq = CircleQueue([i+1 for i in range(n)])\n",
    "l = list(map(int, input().split(' ')))\n",
    "move = 0\n",
    "for i in range(m):\n",
    "    if cq.index(l[i]) <= len(cq)//2:\n",
    "        while True:\n",
    "            if cq.first() == l[i]:\n",
    "                cq.get()\n",
    "                break\n",
    "            else:\n",
    "                cq.right()\n",
    "                move += 1\n",
    "    else:\n",
    "        while True:\n",
    "            if cq.first() == l[i]:\n",
    "                cq.get()\n",
    "                break\n",
    "            else:\n",
    "                cq.left()\n",
    "                move += 1\n",
    "print(move)"
   ]
  }
 ],
 "metadata": {
  "kernelspec": {
   "display_name": "Python 3 (ipykernel)",
   "language": "python",
   "name": "python3"
  },
  "language_info": {
   "codemirror_mode": {
    "name": "ipython",
    "version": 3
   },
   "file_extension": ".py",
   "mimetype": "text/x-python",
   "name": "python",
   "nbconvert_exporter": "python",
   "pygments_lexer": "ipython3",
   "version": "3.9.13"
  },
  "toc": {
   "base_numbering": 1,
   "nav_menu": {},
   "number_sections": true,
   "sideBar": true,
   "skip_h1_title": false,
   "title_cell": "Table of Contents",
   "title_sidebar": "Contents",
   "toc_cell": false,
   "toc_position": {},
   "toc_section_display": true,
   "toc_window_display": false
  },
  "varInspector": {
   "cols": {
    "lenName": 16,
    "lenType": 16,
    "lenVar": 40
   },
   "kernels_config": {
    "python": {
     "delete_cmd_postfix": "",
     "delete_cmd_prefix": "del ",
     "library": "var_list.py",
     "varRefreshCmd": "print(var_dic_list())"
    },
    "r": {
     "delete_cmd_postfix": ") ",
     "delete_cmd_prefix": "rm(",
     "library": "var_list.r",
     "varRefreshCmd": "cat(var_dic_list()) "
    }
   },
   "types_to_exclude": [
    "module",
    "function",
    "builtin_function_or_method",
    "instance",
    "_Feature"
   ],
   "window_display": false
  }
 },
 "nbformat": 4,
 "nbformat_minor": 5
}
