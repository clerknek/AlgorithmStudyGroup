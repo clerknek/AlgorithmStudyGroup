{
 "cells": [
  {
   "cell_type": "markdown",
   "id": "190da353",
   "metadata": {},
   "source": [
    "## 005. 요세푸스 문제 0\n",
    "- BAEKJOON 11866 https://www.acmicpc.net/problem/11866\n",
    "\n",
    "### 문제\n",
    "- 요세푸스 문제는 다음과 같다.\n",
    "\n",
    "- 1번부터 N번까지 N명의 사람이 원을 이루면서 앉아있고, 양의 정수 K(≤ N)가 주어진다. 이제 순서대로 K번째 사람을 제거한다. 한 사람이 제거되면 남은 사람들로 이루어진 원을 따라 이 과정을 계속해 나간다. 이 과정은 N명의 사람이 모두 제거될 때까지 계속된다. 원에서 사람들이 제거되는 순서를 (N, K)-요세푸스 순열이라고 한다. 예를 들어 (7, 3)-요세푸스 순열은 <3, 6, 2, 7, 5, 1, 4>이다.\n",
    "\n",
    "- N과 K가 주어지면 (N, K)-요세푸스 순열을 구하는 프로그램을 작성하시오.\n",
    "\n",
    "### 입력\n",
    "- 첫째 줄에 N과 K가 빈 칸을 사이에 두고 순서대로 주어진다. (1 ≤ K ≤ N ≤ 1,000)\n",
    "\n",
    "### 출력\n",
    "- 예제와 같이 요세푸스 순열을 출력한다."
   ]
  },
  {
   "cell_type": "code",
   "execution_count": 21,
   "id": "6a68568f",
   "metadata": {
    "ExecuteTime": {
     "end_time": "2023-02-05T15:03:11.239471Z",
     "start_time": "2023-02-05T15:03:07.931558Z"
    }
   },
   "outputs": [
    {
     "name": "stdout",
     "output_type": "stream",
     "text": [
      "7 3\n",
      "<3, 6, 2, 7, 5, 1, 4>\n"
     ]
    }
   ],
   "source": [
    "class Queue(list):\n",
    "    put = list.append\n",
    "    def peek(self):\n",
    "        return self[0]\n",
    "    def get(self):\n",
    "        return self.pop(0)\n",
    "\n",
    "n, k = map(int, input().split(\" \"))\n",
    "queue = Queue([str(i+1) for i in range(n)])\n",
    "result = []\n",
    "i = 1\n",
    "while len(queue) > 0:\n",
    "    if i != k:\n",
    "        queue.put(queue.get())\n",
    "        i += 1\n",
    "    else:\n",
    "        result.append(queue.get())\n",
    "        i = 1\n",
    "print(f\"<{', '.join(result)}>\")"
   ]
  }
 ],
 "metadata": {
  "kernelspec": {
   "display_name": "Python 3 (ipykernel)",
   "language": "python",
   "name": "python3"
  },
  "language_info": {
   "codemirror_mode": {
    "name": "ipython",
    "version": 3
   },
   "file_extension": ".py",
   "mimetype": "text/x-python",
   "name": "python",
   "nbconvert_exporter": "python",
   "pygments_lexer": "ipython3",
   "version": "3.9.13"
  },
  "toc": {
   "base_numbering": 1,
   "nav_menu": {},
   "number_sections": true,
   "sideBar": true,
   "skip_h1_title": false,
   "title_cell": "Table of Contents",
   "title_sidebar": "Contents",
   "toc_cell": false,
   "toc_position": {},
   "toc_section_display": true,
   "toc_window_display": false
  },
  "varInspector": {
   "cols": {
    "lenName": 16,
    "lenType": 16,
    "lenVar": 40
   },
   "kernels_config": {
    "python": {
     "delete_cmd_postfix": "",
     "delete_cmd_prefix": "del ",
     "library": "var_list.py",
     "varRefreshCmd": "print(var_dic_list())"
    },
    "r": {
     "delete_cmd_postfix": ") ",
     "delete_cmd_prefix": "rm(",
     "library": "var_list.r",
     "varRefreshCmd": "cat(var_dic_list()) "
    }
   },
   "types_to_exclude": [
    "module",
    "function",
    "builtin_function_or_method",
    "instance",
    "_Feature"
   ],
   "window_display": false
  }
 },
 "nbformat": 4,
 "nbformat_minor": 5
}
