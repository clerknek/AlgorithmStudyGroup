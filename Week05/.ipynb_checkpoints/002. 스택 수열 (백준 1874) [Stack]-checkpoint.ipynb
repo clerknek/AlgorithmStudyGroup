{
 "cells": [
  {
   "cell_type": "markdown",
   "id": "43f5f4d6",
   "metadata": {},
   "source": [
    "## 002. 스택 수열\n",
    "- BAEKJOON 1874 https://www.acmicpc.net/problem/1874\n",
    "\n",
    "### 문제\n",
    "- 스택 (stack)은 기본적인 자료구조 중 하나로, 컴퓨터 프로그램을 작성할 때 자주 이용되는 개념이다. 스택은 자료를 넣는 (push) 입구와 자료를 뽑는 (pop) 입구가 같아 제일 나중에 들어간 자료가 제일 먼저 나오는 (LIFO, Last in First out) 특성을 가지고 있다.\n",
    "\n",
    "- 1부터 n까지의 수를 스택에 넣었다가 뽑아 늘어놓음으로써, 하나의 수열을 만들 수 있다. 이때, 스택에 push하는 순서는 반드시 오름차순을 지키도록 한다고 하자. 임의의 수열이 주어졌을 때 스택을 이용해 그 수열을 만들 수 있는지 없는지, 있다면 어떤 순서로 push와 pop 연산을 수행해야 하는지를 알아낼 수 있다. 이를 계산하는 프로그램을 작성하라.\n",
    "\n",
    "### 입력\n",
    "- 첫 줄에 n (1 ≤ n ≤ 100,000)이 주어진다. 둘째 줄부터 n개의 줄에는 수열을 이루는 1이상 n이하의 정수가 하나씩 순서대로 주어진다. 물론 같은 정수가 두 번 나오는 일은 없다.\n",
    "\n",
    "### 출력\n",
    "- 입력된 수열을 만들기 위해 필요한 연산을 한 줄에 한 개씩 출력한다. push연산은 +로, pop 연산은 -로 표현하도록 한다. 불가능한 경우 NO를 출력한다."
   ]
  },
  {
   "cell_type": "code",
   "execution_count": 47,
   "id": "d52fc594",
   "metadata": {
    "ExecuteTime": {
     "end_time": "2023-02-06T15:08:47.693187Z",
     "start_time": "2023-02-06T15:08:44.170787Z"
    }
   },
   "outputs": [
    {
     "name": "stdout",
     "output_type": "stream",
     "text": [
      "5\n",
      "1\n",
      "2\n",
      "5\n",
      "3\n",
      "NO\n"
     ]
    }
   ],
   "source": [
    "class Stack(list):\n",
    "    def s_push(self, item):\n",
    "        self.append(item)\n",
    "        l.append(\"+\")\n",
    "    def s_peek(self):\n",
    "        return self[-1]\n",
    "    \n",
    "    def s_pop(self):\n",
    "        l.append(\"-\")\n",
    "        return self.pop(-1)\n",
    "\n",
    "n = int(input())\n",
    "stack = Stack()\n",
    "c = 1 # stack에 집어 넣을 수\n",
    "l = [] # 결과 리스트\n",
    "for i in range(n):\n",
    "    int_n = int(input())\n",
    "    while c <= int_n:\n",
    "        stack.s_push(c)\n",
    "        c += 1\n",
    "    if stack.s_peek() == int_n: # 만약 stack 가장 위에 있는 수가 입력한 수와 같다면 pop()\n",
    "        stack.s_pop()\n",
    "    else:           # 만약 남아있는 stack에 집어 넣을 수가 없다면 NO를 return\n",
    "        l = 'NO'\n",
    "        break\n",
    "\n",
    "if l != 'NO':\n",
    "    [print(i) for i in l]\n",
    "else:\n",
    "    print(l)"
   ]
  },
  {
   "cell_type": "markdown",
   "id": "cf2d3058",
   "metadata": {},
   "source": [
    "- 반대부터 빼는 형식"
   ]
  }
 ],
 "metadata": {
  "kernelspec": {
   "display_name": "Python 3 (ipykernel)",
   "language": "python",
   "name": "python3"
  },
  "language_info": {
   "codemirror_mode": {
    "name": "ipython",
    "version": 3
   },
   "file_extension": ".py",
   "mimetype": "text/x-python",
   "name": "python",
   "nbconvert_exporter": "python",
   "pygments_lexer": "ipython3",
   "version": "3.9.13"
  },
  "toc": {
   "base_numbering": 1,
   "nav_menu": {},
   "number_sections": true,
   "sideBar": true,
   "skip_h1_title": false,
   "title_cell": "Table of Contents",
   "title_sidebar": "Contents",
   "toc_cell": false,
   "toc_position": {},
   "toc_section_display": true,
   "toc_window_display": false
  },
  "varInspector": {
   "cols": {
    "lenName": 16,
    "lenType": 16,
    "lenVar": 40
   },
   "kernels_config": {
    "python": {
     "delete_cmd_postfix": "",
     "delete_cmd_prefix": "del ",
     "library": "var_list.py",
     "varRefreshCmd": "print(var_dic_list())"
    },
    "r": {
     "delete_cmd_postfix": ") ",
     "delete_cmd_prefix": "rm(",
     "library": "var_list.r",
     "varRefreshCmd": "cat(var_dic_list()) "
    }
   },
   "types_to_exclude": [
    "module",
    "function",
    "builtin_function_or_method",
    "instance",
    "_Feature"
   ],
   "window_display": false
  }
 },
 "nbformat": 4,
 "nbformat_minor": 5
}
