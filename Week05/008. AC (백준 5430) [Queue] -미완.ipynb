{
 "cells": [
  {
   "cell_type": "markdown",
   "id": "d3079fc1",
   "metadata": {},
   "source": [
    "## 008. AC\n",
    "- BAEKJOON 5430 https://www.acmicpc.net/problem/5430\n",
    "\n",
    "### 문제\n",
    "- 선영이는 주말에 할 일이 없어서 새로운 언어 AC를 만들었다. AC는 정수 배열에 연산을 하기 위해 만든 언어이다. 이 언어에는 두 가지 함수 R(뒤집기)과 D(버리기)가 있다.\n",
    "\n",
    "- 함수 R은 배열에 있는 수의 순서를 뒤집는 함수이고, D는 첫 번째 수를 버리는 함수이다. 배열이 비어있는데 D를 사용한 경우에는 에러가 발생한다.\n",
    "\n",
    "- 함수는 조합해서 한 번에 사용할 수 있다. 예를 들어, \"AB\"는 A를 수행한 다음에 바로 이어서 B를 수행하는 함수이다. 예를 들어, \"RDD\"는 배열을 뒤집은 다음 처음 두 수를 버리는 함수이다.\n",
    "\n",
    "- 배열의 초기값과 수행할 함수가 주어졌을 때, 최종 결과를 구하는 프로그램을 작성하시오.\n",
    "\n",
    "### 입력\n",
    "- 첫째 줄에 테스트 케이스의 개수 T가 주어진다. T는 최대 100이다.\n",
    "\n",
    "- 각 테스트 케이스의 첫째 줄에는 수행할 함수 p가 주어진다. p의 길이는 1보다 크거나 같고, 100,000보다 작거나 같다.\n",
    "\n",
    "- 다음 줄에는 배열에 들어있는 수의 개수 n이 주어진다. (0 ≤ n ≤ 100,000)\n",
    "\n",
    "- 다음 줄에는 [x1,...,xn]과 같은 형태로 배열에 들어있는 정수가 주어진다. (1 ≤ xi ≤ 100)\n",
    "\n",
    "- 전체 테스트 케이스에 주어지는 p의 길이의 합과 n의 합은 70만을 넘지 않는다.\n",
    "\n",
    "### 출력\n",
    "- 각 테스트 케이스에 대해서, 입력으로 주어진 정수 배열에 함수를 수행한 결과를 출력한다. 만약, 에러가 발생한 경우에는 error를 출력한다."
   ]
  },
  {
   "cell_type": "markdown",
   "id": "e40aa135",
   "metadata": {},
   "source": [
    "### Solution 01. Queue를 class 함수를 만들어서 풀이 &rarr; 시간 초과\n",
    "\n",
    "#### 생각한 해결책\n",
    "1. collections에서 직접 queue를 불러온다.\n",
    "2. 'RR'과 같이 쓸모 없는 내용을 제거 한후 진행 한다."
   ]
  },
  {
   "cell_type": "code",
   "execution_count": 79,
   "id": "d1906a9f",
   "metadata": {
    "ExecuteTime": {
     "end_time": "2023-02-07T05:05:43.525289Z",
     "start_time": "2023-02-07T05:05:19.485545Z"
    },
    "scrolled": false
   },
   "outputs": [
    {
     "name": "stdout",
     "output_type": "stream",
     "text": [
      "3\n",
      "RDD\n",
      "4\n",
      "[1,2,3,4]\n",
      "[2,1]\n",
      "DD\n",
      "1\n",
      "[42]\n",
      "error\n",
      "RRD\n",
      "6\n",
      "[1,1,2,3,5,8]\n",
      "[1,2,3,5,8]\n"
     ]
    }
   ],
   "source": [
    "class Queue(list):\n",
    "    def R(self):\n",
    "        return self[::-1]\n",
    "    def D(self):\n",
    "        if self == []:\n",
    "            self ='error'\n",
    "        else:\n",
    "            self.pop(0)\n",
    "            return self\n",
    "        \n",
    "    \n",
    "t = int(input())\n",
    "\n",
    "for _ in range(t):\n",
    "    p = input()\n",
    "    n = int(input())\n",
    "    a = input()\n",
    "    if a == '[]':\n",
    "        queue =  Queue([])\n",
    "    else:\n",
    "        queue = Queue(a[1:-1].split(','))\n",
    "    if len(queue) != n:\n",
    "        print('error')\n",
    "        break\n",
    "    for pp in p:\n",
    "        if pp == 'R':\n",
    "            queue = Queue(queue.R())\n",
    "        elif pp == 'D':\n",
    "            if queue == []:\n",
    "                queue = 'error'\n",
    "                break\n",
    "            else:\n",
    "                queue.D()\n",
    "    if queue != 'error':   \n",
    "        print('[', end='')\n",
    "        for i in range(len(queue)):\n",
    "            if i != len(queue)-1:\n",
    "                print(queue[i], end=',')\n",
    "            else:\n",
    "                print(queue[i], end='')\n",
    "        print(']')\n",
    "    else:\n",
    "        print(queue)"
   ]
  },
  {
   "cell_type": "code",
   "execution_count": 58,
   "id": "5a8fe6dd",
   "metadata": {
    "ExecuteTime": {
     "end_time": "2023-02-07T01:11:07.392979Z",
     "start_time": "2023-02-07T01:11:03.207053Z"
    },
    "collapsed": true
   },
   "outputs": [
    {
     "ename": "KeyboardInterrupt",
     "evalue": "Interrupted by user",
     "output_type": "error",
     "traceback": [
      "\u001b[1;31m---------------------------------------------------------------------------\u001b[0m",
      "\u001b[1;31mKeyboardInterrupt\u001b[0m                         Traceback (most recent call last)",
      "\u001b[1;32m~\\AppData\\Local\\Temp\\ipykernel_18268\\3426448870.py\u001b[0m in \u001b[0;36m<module>\u001b[1;34m\u001b[0m\n\u001b[0;32m     13\u001b[0m \u001b[1;33m\u001b[0m\u001b[0m\n\u001b[0;32m     14\u001b[0m \u001b[1;33m\u001b[0m\u001b[0m\n\u001b[1;32m---> 15\u001b[1;33m \u001b[0mt\u001b[0m \u001b[1;33m=\u001b[0m \u001b[0mint\u001b[0m\u001b[1;33m(\u001b[0m\u001b[0minput\u001b[0m\u001b[1;33m(\u001b[0m\u001b[1;33m)\u001b[0m\u001b[1;33m)\u001b[0m\u001b[1;33m\u001b[0m\u001b[1;33m\u001b[0m\u001b[0m\n\u001b[0m\u001b[0;32m     16\u001b[0m \u001b[1;33m\u001b[0m\u001b[0m\n\u001b[0;32m     17\u001b[0m \u001b[1;32mfor\u001b[0m \u001b[0m_\u001b[0m \u001b[1;32min\u001b[0m \u001b[0mrange\u001b[0m\u001b[1;33m(\u001b[0m\u001b[0mt\u001b[0m\u001b[1;33m)\u001b[0m\u001b[1;33m:\u001b[0m\u001b[1;33m\u001b[0m\u001b[1;33m\u001b[0m\u001b[0m\n",
      "\u001b[1;32m~\\anaconda3\\lib\\site-packages\\ipykernel\\kernelbase.py\u001b[0m in \u001b[0;36mraw_input\u001b[1;34m(self, prompt)\u001b[0m\n\u001b[0;32m   1175\u001b[0m                 \u001b[1;34m\"raw_input was called, but this frontend does not support input requests.\"\u001b[0m\u001b[1;33m\u001b[0m\u001b[1;33m\u001b[0m\u001b[0m\n\u001b[0;32m   1176\u001b[0m             )\n\u001b[1;32m-> 1177\u001b[1;33m         return self._input_request(\n\u001b[0m\u001b[0;32m   1178\u001b[0m             \u001b[0mstr\u001b[0m\u001b[1;33m(\u001b[0m\u001b[0mprompt\u001b[0m\u001b[1;33m)\u001b[0m\u001b[1;33m,\u001b[0m\u001b[1;33m\u001b[0m\u001b[1;33m\u001b[0m\u001b[0m\n\u001b[0;32m   1179\u001b[0m             \u001b[0mself\u001b[0m\u001b[1;33m.\u001b[0m\u001b[0m_parent_ident\u001b[0m\u001b[1;33m[\u001b[0m\u001b[1;34m\"shell\"\u001b[0m\u001b[1;33m]\u001b[0m\u001b[1;33m,\u001b[0m\u001b[1;33m\u001b[0m\u001b[1;33m\u001b[0m\u001b[0m\n",
      "\u001b[1;32m~\\anaconda3\\lib\\site-packages\\ipykernel\\kernelbase.py\u001b[0m in \u001b[0;36m_input_request\u001b[1;34m(self, prompt, ident, parent, password)\u001b[0m\n\u001b[0;32m   1217\u001b[0m             \u001b[1;32mexcept\u001b[0m \u001b[0mKeyboardInterrupt\u001b[0m\u001b[1;33m:\u001b[0m\u001b[1;33m\u001b[0m\u001b[1;33m\u001b[0m\u001b[0m\n\u001b[0;32m   1218\u001b[0m                 \u001b[1;31m# re-raise KeyboardInterrupt, to truncate traceback\u001b[0m\u001b[1;33m\u001b[0m\u001b[1;33m\u001b[0m\u001b[0m\n\u001b[1;32m-> 1219\u001b[1;33m                 \u001b[1;32mraise\u001b[0m \u001b[0mKeyboardInterrupt\u001b[0m\u001b[1;33m(\u001b[0m\u001b[1;34m\"Interrupted by user\"\u001b[0m\u001b[1;33m)\u001b[0m \u001b[1;32mfrom\u001b[0m \u001b[1;32mNone\u001b[0m\u001b[1;33m\u001b[0m\u001b[1;33m\u001b[0m\u001b[0m\n\u001b[0m\u001b[0;32m   1220\u001b[0m             \u001b[1;32mexcept\u001b[0m \u001b[0mException\u001b[0m\u001b[1;33m:\u001b[0m\u001b[1;33m\u001b[0m\u001b[1;33m\u001b[0m\u001b[0m\n\u001b[0;32m   1221\u001b[0m                 \u001b[0mself\u001b[0m\u001b[1;33m.\u001b[0m\u001b[0mlog\u001b[0m\u001b[1;33m.\u001b[0m\u001b[0mwarning\u001b[0m\u001b[1;33m(\u001b[0m\u001b[1;34m\"Invalid Message:\"\u001b[0m\u001b[1;33m,\u001b[0m \u001b[0mexc_info\u001b[0m\u001b[1;33m=\u001b[0m\u001b[1;32mTrue\u001b[0m\u001b[1;33m)\u001b[0m\u001b[1;33m\u001b[0m\u001b[1;33m\u001b[0m\u001b[0m\n",
      "\u001b[1;31mKeyboardInterrupt\u001b[0m: Interrupted by user"
     ]
    }
   ],
   "source": [
    "import sys\n",
    "\n",
    "class Queue(list):\n",
    "    def R(self):\n",
    "        return self[::-1]\n",
    "    def D(self):\n",
    "        if self == []:\n",
    "            self ='error'\n",
    "        else:\n",
    "            self.pop(0)\n",
    "            return self\n",
    "        \n",
    "    \n",
    "t = int(input())\n",
    "\n",
    "for _ in range(t):\n",
    "    p = sys.stdin.readline()\n",
    "    n = int(sys.stdin.readline())\n",
    "    a = sys.stdin.readline()\n",
    "    if a == '[]':\n",
    "        queue =  Queue([])\n",
    "    else:\n",
    "        queue = Queue(a[1:-1].split(','))\n",
    "        \n",
    "    for pp in p:\n",
    "        if pp == 'R':\n",
    "            queue = Queue(queue.R())\n",
    "        elif pp == 'D':\n",
    "            if queue == []:\n",
    "                queue = 'error'\n",
    "                break\n",
    "            else:\n",
    "                queue.D()\n",
    "    if queue != 'error':   \n",
    "        print('[', end='')\n",
    "        for i in range(len(queue)):\n",
    "            if i != len(queue)-1:\n",
    "                print(queue[i], end=',')\n",
    "            else:\n",
    "                print(queue[i], end='')\n",
    "        print(']')\n",
    "    else:\n",
    "        print(queue)"
   ]
  },
  {
   "cell_type": "markdown",
   "id": "2dadb655",
   "metadata": {},
   "source": [
    "#### Solution 02. collections에서 직접 queue를 불러온다."
   ]
  },
  {
   "cell_type": "code",
   "execution_count": 12,
   "id": "2f94b29d",
   "metadata": {
    "ExecuteTime": {
     "end_time": "2023-02-07T07:16:29.564447Z",
     "start_time": "2023-02-07T07:15:56.141558Z"
    }
   },
   "outputs": [
    {
     "name": "stdout",
     "output_type": "stream",
     "text": [
      "4\n",
      "RDD\n",
      "4\n",
      "[1,2,3,4]\n",
      "[2,1]\n",
      "DD\n",
      "1\n",
      "[42]\n",
      "error\n",
      "RRD\n",
      "6\n",
      "[1,1,2,3,5,8]\n",
      "[1,2,3,5,8]\n",
      "D\n",
      "0\n",
      "[]\n",
      "error\n"
     ]
    }
   ],
   "source": [
    "from collections import deque\n",
    "\n",
    "t = int(input())\n",
    "\n",
    "for _ in range(t):\n",
    "    p = input()\n",
    "    n = int(input())\n",
    "    a = input()\n",
    "    q = []\n",
    "    if a == '[]':\n",
    "        q = deque([])\n",
    "    else:\n",
    "        q = deque(a[1:-1].split(','))\n",
    "    if len(q) != n:\n",
    "        print('error')\n",
    "        break\n",
    "    for pp in p:\n",
    "        if pp == 'R':\n",
    "            q.reverse()\n",
    "        elif pp == 'D':\n",
    "            if q == deque([]):\n",
    "                q = 'error'\n",
    "                break\n",
    "            else:\n",
    "                q.popleft()\n",
    "    if q != 'error':   \n",
    "        print('[', end='')\n",
    "        for i in range(len(q)):\n",
    "            if i != len(q)-1:\n",
    "                print(q[i], end=',')\n",
    "            else:\n",
    "                print(q[i], end='')\n",
    "        print(']')\n",
    "    else:\n",
    "        print(q)"
   ]
  },
  {
   "cell_type": "code",
   "execution_count": 39,
   "id": "f284d3fd",
   "metadata": {
    "ExecuteTime": {
     "end_time": "2023-02-07T00:47:14.342083Z",
     "start_time": "2023-02-07T00:47:14.316048Z"
    }
   },
   "outputs": [],
   "source": [
    "class Queue(list):\n",
    "    put = list.append\n",
    "    def R(self):\n",
    "        return self.reverse()\n",
    "    def D(self):\n",
    "        if self == []:\n",
    "            return 'error'\n",
    "        else:\n",
    "            self.\n",
    "            pop(0)\n",
    "            return self\n",
    "a = Queue([])"
   ]
  },
  {
   "cell_type": "code",
   "execution_count": 99,
   "id": "2e3e524f",
   "metadata": {
    "ExecuteTime": {
     "end_time": "2023-02-07T06:09:19.310916Z",
     "start_time": "2023-02-07T06:09:19.301943Z"
    }
   },
   "outputs": [
    {
     "name": "stdout",
     "output_type": "stream",
     "text": [
      "True\n"
     ]
    }
   ],
   "source": [
    "from collections import deque\n",
    "\n",
    "d = deque([1])\n",
    "d.reverse()\n",
    "d.popleft()\n",
    "print(d == deque([]))"
   ]
  },
  {
   "cell_type": "code",
   "execution_count": 38,
   "id": "fbad237b",
   "metadata": {
    "ExecuteTime": {
     "end_time": "2023-02-07T00:46:57.074397Z",
     "start_time": "2023-02-07T00:46:57.057358Z"
    }
   },
   "outputs": [
    {
     "data": {
      "text/plain": [
       "[]"
      ]
     },
     "execution_count": 38,
     "metadata": {},
     "output_type": "execute_result"
    }
   ],
   "source": [
    "a"
   ]
  },
  {
   "cell_type": "code",
   "execution_count": 26,
   "id": "11467a5f",
   "metadata": {
    "ExecuteTime": {
     "end_time": "2023-02-07T00:39:56.835611Z",
     "start_time": "2023-02-07T00:39:56.813574Z"
    }
   },
   "outputs": [],
   "source": [
    "class Queue(list):\n",
    "    put = list.append\n",
    "    def R(self):\n",
    "        return self.reverse()\n",
    "    def D(self):\n",
    "        if self == []:\n",
    "            return 'error'\n",
    "        else:\n",
    "            return self.pop(0)"
   ]
  },
  {
   "cell_type": "code",
   "execution_count": 27,
   "id": "d2b620e4",
   "metadata": {
    "ExecuteTime": {
     "end_time": "2023-02-07T00:39:59.350321Z",
     "start_time": "2023-02-07T00:39:57.184837Z"
    }
   },
   "outputs": [
    {
     "name": "stdout",
     "output_type": "stream",
     "text": [
      "[1,1,2,3,5,8]\n"
     ]
    }
   ],
   "source": [
    "l = Queue(map(int, input()[1:-1].split(',')))"
   ]
  },
  {
   "cell_type": "code",
   "execution_count": 28,
   "id": "5d0173b4",
   "metadata": {
    "ExecuteTime": {
     "end_time": "2023-02-07T00:40:00.010129Z",
     "start_time": "2023-02-07T00:39:59.994162Z"
    }
   },
   "outputs": [
    {
     "data": {
      "text/plain": [
       "1"
      ]
     },
     "execution_count": 28,
     "metadata": {},
     "output_type": "execute_result"
    }
   ],
   "source": [
    "l.D()"
   ]
  },
  {
   "cell_type": "code",
   "execution_count": 7,
   "id": "f0135df1",
   "metadata": {
    "ExecuteTime": {
     "end_time": "2023-02-07T00:24:43.626984Z",
     "start_time": "2023-02-07T00:24:43.610952Z"
    },
    "scrolled": true
   },
   "outputs": [
    {
     "ename": "SyntaxError",
     "evalue": "invalid syntax (2858852316.py, line 1)",
     "output_type": "error",
     "traceback": [
      "\u001b[1;36m  File \u001b[1;32m\"C:\\Users\\jeonj\\AppData\\Local\\Temp\\ipykernel_18268\\2858852316.py\"\u001b[1;36m, line \u001b[1;32m1\u001b[0m\n\u001b[1;33m    l = [for i in input() int(i) if i != '[' or ']', or ',']\u001b[0m\n\u001b[1;37m         ^\u001b[0m\n\u001b[1;31mSyntaxError\u001b[0m\u001b[1;31m:\u001b[0m invalid syntax\n"
     ]
    }
   ],
   "source": [
    "l = for i in input[1:-1]"
   ]
  },
  {
   "cell_type": "code",
   "execution_count": 20,
   "id": "e0b4ce27",
   "metadata": {
    "ExecuteTime": {
     "end_time": "2023-02-07T00:33:47.807326Z",
     "start_time": "2023-02-07T00:33:45.510692Z"
    }
   },
   "outputs": [
    {
     "name": "stdout",
     "output_type": "stream",
     "text": [
      "[1,1,2,3,5,8]\n"
     ]
    },
    {
     "data": {
      "text/plain": [
       "[8, 5, 3, 2, 1, 1]"
      ]
     },
     "execution_count": 20,
     "metadata": {},
     "output_type": "execute_result"
    }
   ],
   "source": [
    "l = Queue(map(int, input()[1:-1].split(',')))\n",
    "l.q_reverse()\n",
    "l"
   ]
  },
  {
   "cell_type": "code",
   "execution_count": 10,
   "id": "1f1c0a6b",
   "metadata": {
    "ExecuteTime": {
     "end_time": "2023-02-07T00:26:46.323364Z",
     "start_time": "2023-02-07T00:26:46.300325Z"
    }
   },
   "outputs": [
    {
     "data": {
      "text/plain": [
       "['[', '1', '0', ',', '2', '0', ',', '3', '0', ',', '4', '0', ']']"
      ]
     },
     "execution_count": 10,
     "metadata": {},
     "output_type": "execute_result"
    }
   ],
   "source": [
    "l"
   ]
  },
  {
   "cell_type": "code",
   "execution_count": null,
   "id": "6322613f",
   "metadata": {},
   "outputs": [],
   "source": []
  }
 ],
 "metadata": {
  "kernelspec": {
   "display_name": "Python 3 (ipykernel)",
   "language": "python",
   "name": "python3"
  },
  "language_info": {
   "codemirror_mode": {
    "name": "ipython",
    "version": 3
   },
   "file_extension": ".py",
   "mimetype": "text/x-python",
   "name": "python",
   "nbconvert_exporter": "python",
   "pygments_lexer": "ipython3",
   "version": "3.9.13"
  },
  "toc": {
   "base_numbering": 1,
   "nav_menu": {},
   "number_sections": true,
   "sideBar": true,
   "skip_h1_title": false,
   "title_cell": "Table of Contents",
   "title_sidebar": "Contents",
   "toc_cell": false,
   "toc_position": {},
   "toc_section_display": true,
   "toc_window_display": false
  },
  "varInspector": {
   "cols": {
    "lenName": 16,
    "lenType": 16,
    "lenVar": 40
   },
   "kernels_config": {
    "python": {
     "delete_cmd_postfix": "",
     "delete_cmd_prefix": "del ",
     "library": "var_list.py",
     "varRefreshCmd": "print(var_dic_list())"
    },
    "r": {
     "delete_cmd_postfix": ") ",
     "delete_cmd_prefix": "rm(",
     "library": "var_list.r",
     "varRefreshCmd": "cat(var_dic_list()) "
    }
   },
   "types_to_exclude": [
    "module",
    "function",
    "builtin_function_or_method",
    "instance",
    "_Feature"
   ],
   "window_display": false
  }
 },
 "nbformat": 4,
 "nbformat_minor": 5
}
