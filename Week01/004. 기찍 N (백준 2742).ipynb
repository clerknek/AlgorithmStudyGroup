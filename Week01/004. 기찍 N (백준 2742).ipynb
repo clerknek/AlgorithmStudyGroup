{
 "cells": [
  {
   "cell_type": "markdown",
   "id": "8d77d9de",
   "metadata": {},
   "source": [
    "## 004. 기찍 N\n",
    "- BAEKJOON 2742 https://www.acmicpc.net/problem/2742\n",
    "\n",
    "### 문제\n",
    "- 자연수 N이 주어졌을 때, N부터 1까지 한 줄에 하나씩 출력하는 프로그램을 작성하시오.\n",
    "\n",
    "### 입력\n",
    "- 첫째 줄에 100,000보다 작거나 같은 자연수 N이 주어진다.\n",
    "\n",
    "### 출력\n",
    "- 첫째 줄부터 N번째 줄 까지 차례대로 출력한다."
   ]
  },
  {
   "cell_type": "markdown",
   "id": "5c69d08d",
   "metadata": {},
   "source": [
    "## Solution 01. for 문을 이용한 풀이"
   ]
  },
  {
   "cell_type": "code",
   "execution_count": 1,
   "id": "cfe7cac3",
   "metadata": {
    "ExecuteTime": {
     "end_time": "2023-01-28T13:52:30.255153Z",
     "start_time": "2023-01-28T13:52:26.719023Z"
    }
   },
   "outputs": [
    {
     "name": "stdout",
     "output_type": "stream",
     "text": [
      "5\n",
      "5\n",
      "4\n",
      "3\n",
      "2\n",
      "1\n"
     ]
    }
   ],
   "source": [
    "n = int(input())\n",
    "for i in range(n):\n",
    "  print(n-i)"
   ]
  },
  {
   "cell_type": "markdown",
   "id": "a82673ac",
   "metadata": {},
   "source": [
    "## Solution 02. while 문을 이용한 풀이"
   ]
  },
  {
   "cell_type": "code",
   "execution_count": 2,
   "id": "b87c36b4",
   "metadata": {
    "ExecuteTime": {
     "end_time": "2023-01-28T13:52:34.490543Z",
     "start_time": "2023-01-28T13:52:33.792356Z"
    }
   },
   "outputs": [
    {
     "name": "stdout",
     "output_type": "stream",
     "text": [
      "5\n",
      "5\n",
      "4\n",
      "3\n",
      "2\n",
      "1\n"
     ]
    }
   ],
   "source": [
    "n = int(input())\n",
    "while n > 0:\n",
    "    print(n)\n",
    "    n -= 1"
   ]
  }
 ],
 "metadata": {
  "kernelspec": {
   "display_name": "Python 3 (ipykernel)",
   "language": "python",
   "name": "python3"
  },
  "language_info": {
   "codemirror_mode": {
    "name": "ipython",
    "version": 3
   },
   "file_extension": ".py",
   "mimetype": "text/x-python",
   "name": "python",
   "nbconvert_exporter": "python",
   "pygments_lexer": "ipython3",
   "version": "3.9.13"
  },
  "toc": {
   "base_numbering": 1,
   "nav_menu": {},
   "number_sections": true,
   "sideBar": true,
   "skip_h1_title": false,
   "title_cell": "Table of Contents",
   "title_sidebar": "Contents",
   "toc_cell": false,
   "toc_position": {},
   "toc_section_display": true,
   "toc_window_display": false
  },
  "varInspector": {
   "cols": {
    "lenName": 16,
    "lenType": 16,
    "lenVar": 40
   },
   "kernels_config": {
    "python": {
     "delete_cmd_postfix": "",
     "delete_cmd_prefix": "del ",
     "library": "var_list.py",
     "varRefreshCmd": "print(var_dic_list())"
    },
    "r": {
     "delete_cmd_postfix": ") ",
     "delete_cmd_prefix": "rm(",
     "library": "var_list.r",
     "varRefreshCmd": "cat(var_dic_list()) "
    }
   },
   "types_to_exclude": [
    "module",
    "function",
    "builtin_function_or_method",
    "instance",
    "_Feature"
   ],
   "window_display": false
  }
 },
 "nbformat": 4,
 "nbformat_minor": 5
}
