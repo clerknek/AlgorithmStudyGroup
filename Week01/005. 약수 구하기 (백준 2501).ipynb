{
 "cells": [
  {
   "cell_type": "markdown",
   "id": "485732ce",
   "metadata": {},
   "source": [
    "## 005. 약수 구하기\n",
    "- BAEKJOON 2501 https://www.acmicpc.net/problem/2501\n",
    "\n",
    "### 문제\n",
    "- 어떤 자연수 p와 q가 있을 때, 만일 p를 q로 나누었을 때 나머지가 0이면 q는 p의 약수이다. \n",
    "\n",
    "- 6을 예로 들면\n",
    "\n",
    "    - 6 ÷ 1 = 6 … 0\n",
    "    - 6 ÷ 2 = 3 … 0\n",
    "    - 6 ÷ 3 = 2 … 0\n",
    "    - 6 ÷ 4 = 1 … 2\n",
    "    - 6 ÷ 5 = 1 … 1\n",
    "    - 6 ÷ 6 = 1 … 0\n",
    "- 그래서 6의 약수는 1, 2, 3, 6, 총 네 개이다.\n",
    "\n",
    "- 두 개의 자연수 N과 K가 주어졌을 때, N의 약수들 중 K번째로 작은 수를 출력하는 프로그램을 작성하시오.\n",
    "\n",
    "### 입력\n",
    "- 첫째 줄에 N과 K가 빈칸을 사이에 두고 주어진다. N은 1 이상 10,000 이하이다. K는 1 이상 N 이하이다.\n",
    "\n",
    "### 출력\n",
    "- 첫째 줄에 N의 약수들 중 K번째로 작은 수를 출력한다. 만일 N의 약수의 개수가 K개보다 적어서 K번째 약수가 존재하지 않을 경우에는 0을 출력하시오."
   ]
  },
  {
   "cell_type": "code",
   "execution_count": 1,
   "id": "1b66b6ec",
   "metadata": {
    "ExecuteTime": {
     "end_time": "2023-01-28T13:56:06.869988Z",
     "start_time": "2023-01-28T13:56:00.851893Z"
    }
   },
   "outputs": [
    {
     "name": "stdout",
     "output_type": "stream",
     "text": [
      "2735 1\n",
      "1\n"
     ]
    }
   ],
   "source": [
    "n, k = map(int, input().split(' '))\n",
    "l = []\n",
    "for i in range(1, n//2):\n",
    "    \n",
    "    if n%i == 0:\n",
    "        if n//i not in l:\n",
    "            if n//i != n//(n//i):\n",
    "                l.append(n//i)\n",
    "                l.append(n//(n//i))\n",
    "            else:\n",
    "                l.append(n//i)\n",
    "l.sort()\n",
    "if len(l) >= k:\n",
    "    print(l[k-1])\n",
    "else:\n",
    "    print(0)"
   ]
  }
 ],
 "metadata": {
  "kernelspec": {
   "display_name": "Python 3 (ipykernel)",
   "language": "python",
   "name": "python3"
  },
  "language_info": {
   "codemirror_mode": {
    "name": "ipython",
    "version": 3
   },
   "file_extension": ".py",
   "mimetype": "text/x-python",
   "name": "python",
   "nbconvert_exporter": "python",
   "pygments_lexer": "ipython3",
   "version": "3.9.13"
  },
  "toc": {
   "base_numbering": 1,
   "nav_menu": {},
   "number_sections": true,
   "sideBar": true,
   "skip_h1_title": false,
   "title_cell": "Table of Contents",
   "title_sidebar": "Contents",
   "toc_cell": false,
   "toc_position": {},
   "toc_section_display": true,
   "toc_window_display": false
  },
  "varInspector": {
   "cols": {
    "lenName": 16,
    "lenType": 16,
    "lenVar": 40
   },
   "kernels_config": {
    "python": {
     "delete_cmd_postfix": "",
     "delete_cmd_prefix": "del ",
     "library": "var_list.py",
     "varRefreshCmd": "print(var_dic_list())"
    },
    "r": {
     "delete_cmd_postfix": ") ",
     "delete_cmd_prefix": "rm(",
     "library": "var_list.r",
     "varRefreshCmd": "cat(var_dic_list()) "
    }
   },
   "types_to_exclude": [
    "module",
    "function",
    "builtin_function_or_method",
    "instance",
    "_Feature"
   ],
   "window_display": false
  }
 },
 "nbformat": 4,
 "nbformat_minor": 5
}
