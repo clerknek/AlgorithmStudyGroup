{
 "cells": [
  {
   "cell_type": "markdown",
   "id": "1b140fce",
   "metadata": {},
   "source": [
    "## 006. 홀수\n",
    "- BAEKJOON 2576 https://www.acmicpc.net/problem/2576\n",
    "\n",
    "### 문제\n",
    "- 7개의 자연수가 주어질 때, 이들 중 홀수인 자연수들을 모두 골라 그 합을 구하고, 고른 홀수들 중 최솟값을 찾는 프로그램을 작성하시오.\n",
    "\n",
    "- 예를 들어, 7개의 자연수 12, 77, 38, 41, 53, 92, 85가 주어지면 이들 중 홀수는 77, 41, 53, 85이므로 그 합은\n",
    "\n",
    "- 77 + 41 + 53 + 85 = 256\n",
    "\n",
    "- 이 되고,\n",
    "\n",
    "- 41 < 53 < 77 < 85\n",
    "\n",
    "- 이므로 홀수들 중 최솟값은 41이 된다.\n",
    "\n",
    "### 입력\n",
    "- 입력의 첫째 줄부터 일곱 번째 줄까지 한 줄에 하나의 자연수가 주어진다. 주어지는 자연수는 100보다 작다.\n",
    "\n",
    "### 출력\n",
    "- 홀수가 존재하지 않는 경우에는 첫째 줄에 -1을 출력한다. 홀수가 존재하는 경우 첫째 줄에 홀수들의 합을 출력하고, 둘째 줄에 홀수들 중 최솟값을 출력한다."
   ]
  },
  {
   "cell_type": "code",
   "execution_count": 1,
   "id": "720922e0",
   "metadata": {
    "ExecuteTime": {
     "end_time": "2023-01-28T13:59:55.534695Z",
     "start_time": "2023-01-28T13:59:40.777655Z"
    }
   },
   "outputs": [
    {
     "name": "stdout",
     "output_type": "stream",
     "text": [
      "12\n",
      "77\n",
      "38\n",
      "41\n",
      "53\n",
      "92\n",
      "85\n",
      "256\n",
      "41\n"
     ]
    }
   ],
   "source": [
    "odd_num = 0\n",
    "min_num = 101\n",
    "for _ in range(7):\n",
    "    num = int(input())\n",
    "    if num%2 == 1:\n",
    "        odd_num += num\n",
    "        if min_num > num:\n",
    "            min_num = num\n",
    "if odd_num != 0:\n",
    "    print(f'{odd_num}\\n{min_num}')\n",
    "else:\n",
    "    print(-1)"
   ]
  }
 ],
 "metadata": {
  "kernelspec": {
   "display_name": "Python 3 (ipykernel)",
   "language": "python",
   "name": "python3"
  },
  "language_info": {
   "codemirror_mode": {
    "name": "ipython",
    "version": 3
   },
   "file_extension": ".py",
   "mimetype": "text/x-python",
   "name": "python",
   "nbconvert_exporter": "python",
   "pygments_lexer": "ipython3",
   "version": "3.9.13"
  },
  "toc": {
   "base_numbering": 1,
   "nav_menu": {},
   "number_sections": true,
   "sideBar": true,
   "skip_h1_title": false,
   "title_cell": "Table of Contents",
   "title_sidebar": "Contents",
   "toc_cell": false,
   "toc_position": {},
   "toc_section_display": true,
   "toc_window_display": false
  },
  "varInspector": {
   "cols": {
    "lenName": 16,
    "lenType": 16,
    "lenVar": 40
   },
   "kernels_config": {
    "python": {
     "delete_cmd_postfix": "",
     "delete_cmd_prefix": "del ",
     "library": "var_list.py",
     "varRefreshCmd": "print(var_dic_list())"
    },
    "r": {
     "delete_cmd_postfix": ") ",
     "delete_cmd_prefix": "rm(",
     "library": "var_list.r",
     "varRefreshCmd": "cat(var_dic_list()) "
    }
   },
   "types_to_exclude": [
    "module",
    "function",
    "builtin_function_or_method",
    "instance",
    "_Feature"
   ],
   "window_display": false
  }
 },
 "nbformat": 4,
 "nbformat_minor": 5
}
