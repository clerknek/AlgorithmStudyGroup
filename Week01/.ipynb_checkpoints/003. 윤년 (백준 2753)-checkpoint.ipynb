{
 "cells": [
  {
   "cell_type": "markdown",
   "id": "bb2e3572",
   "metadata": {},
   "source": [
    "## 003. 윤년\n",
    "- BAEKJOON 2753 https://www.acmicpc.net/problem/2753\n",
    "\n",
    "### 문제\n",
    "- 연도가 주어졌을 때, 윤년이면 1, 아니면 0을 출력하는 프로그램을 작성하시오.\n",
    "\n",
    "- 윤년은 연도가 4의 배수이면서, 100의 배수가 아닐 때 또는 400의 배수일 때이다.\n",
    "\n",
    "- 예를 들어, 2012년은 4의 배수이면서 100의 배수가 아니라서 윤년이다. 1900년은 100의 배수이고 400의 배수는 아니기 때문에 윤년이 아니다. 하지만, 2000년은 400의 배수이기 때문에 윤년이다.\n",
    "\n",
    "### 입력\n",
    "- 첫째 줄에 연도가 주어진다. 연도는 1보다 크거나 같고, 4000보다 작거나 같은 자연수이다.\n",
    "\n",
    "### 출력\n",
    "- 첫째 줄에 윤년이면 1, 아니면 0을 출력한다."
   ]
  },
  {
   "cell_type": "markdown",
   "id": "5a630c99",
   "metadata": {},
   "source": [
    "## Solution 01. 기본 풀이 방식"
   ]
  },
  {
   "cell_type": "code",
   "execution_count": 1,
   "id": "aa7e800b",
   "metadata": {
    "ExecuteTime": {
     "end_time": "2023-01-28T13:47:05.008053Z",
     "start_time": "2023-01-28T13:46:55.597304Z"
    },
    "scrolled": true
   },
   "outputs": [
    {
     "name": "stdout",
     "output_type": "stream",
     "text": [
      "1999\n",
      "0\n"
     ]
    }
   ],
   "source": [
    "year = int(input())\n",
    "if (year%4 == 0):\n",
    "  if(year%400 == 0):\n",
    "    print(1)\n",
    "  else:\n",
    "    if(year%100 != 0):\n",
    "      print(1)\n",
    "    else:\n",
    "      print(0)\n",
    "else:\n",
    "  print(0)"
   ]
  },
  {
   "cell_type": "markdown",
   "id": "94695827",
   "metadata": {},
   "source": [
    "-------"
   ]
  },
  {
   "cell_type": "markdown",
   "id": "04d6292b",
   "metadata": {},
   "source": [
    "## Solution 02. 한줄로 if문 작성"
   ]
  },
  {
   "cell_type": "code",
   "execution_count": 2,
   "id": "3296f0c5",
   "metadata": {
    "ExecuteTime": {
     "end_time": "2023-01-28T13:47:44.501511Z",
     "start_time": "2023-01-28T13:47:42.728772Z"
    }
   },
   "outputs": [
    {
     "name": "stdout",
     "output_type": "stream",
     "text": [
      "1999\n",
      "0\n"
     ]
    }
   ],
   "source": [
    "year = int(input())\n",
    "print((1 if year%400==0 else (1 if year%100 != 0 else 0)) if year%4 == 0 else 0)    "
   ]
  }
 ],
 "metadata": {
  "kernelspec": {
   "display_name": "Python 3 (ipykernel)",
   "language": "python",
   "name": "python3"
  },
  "language_info": {
   "codemirror_mode": {
    "name": "ipython",
    "version": 3
   },
   "file_extension": ".py",
   "mimetype": "text/x-python",
   "name": "python",
   "nbconvert_exporter": "python",
   "pygments_lexer": "ipython3",
   "version": "3.9.13"
  },
  "toc": {
   "base_numbering": 1,
   "nav_menu": {},
   "number_sections": true,
   "sideBar": true,
   "skip_h1_title": false,
   "title_cell": "Table of Contents",
   "title_sidebar": "Contents",
   "toc_cell": false,
   "toc_position": {},
   "toc_section_display": true,
   "toc_window_display": false
  },
  "varInspector": {
   "cols": {
    "lenName": 16,
    "lenType": 16,
    "lenVar": 40
   },
   "kernels_config": {
    "python": {
     "delete_cmd_postfix": "",
     "delete_cmd_prefix": "del ",
     "library": "var_list.py",
     "varRefreshCmd": "print(var_dic_list())"
    },
    "r": {
     "delete_cmd_postfix": ") ",
     "delete_cmd_prefix": "rm(",
     "library": "var_list.r",
     "varRefreshCmd": "cat(var_dic_list()) "
    }
   },
   "types_to_exclude": [
    "module",
    "function",
    "builtin_function_or_method",
    "instance",
    "_Feature"
   ],
   "window_display": false
  }
 },
 "nbformat": 4,
 "nbformat_minor": 5
}
