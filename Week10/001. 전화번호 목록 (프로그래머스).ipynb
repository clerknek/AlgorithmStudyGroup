{
 "cells": [
  {
   "cell_type": "markdown",
   "id": "19cbe4fe",
   "metadata": {},
   "source": [
    "## 001. 전화번호 목록\n",
    "- PROGRAMMERS https://school.programmers.co.kr/learn/courses/30/lessons/42577\n",
    "\n",
    "### 문제 설명\n",
    "전화번호부에 적힌 전화번호 중, 한 번호가 다른 번호의 접두어인 경우가 있는지 확인하려 합니다.\n",
    "전화번호가 다음과 같을 경우, 구조대 전화번호는 영석이의 전화번호의 접두사입니다.\n",
    "\n",
    "- 구조대 : 119\n",
    "- 박준영 : 97 674 223\n",
    "- 지영석 : 11 9552 4421\n",
    "전화번호부에 적힌 전화번호를 담은 배열 phone_book 이 solution 함수의 매개변수로 주어질 때, 어떤 번호가 다른 번호의 접두어인 경우가 있으면 false를 그렇지 않으면 true를 return 하도록 solution 함수를 작성해주세요.\n",
    "\n",
    "### 제한 사항\n",
    "- phone_book의 길이는 1 이상 1,000,000 이하입니다.\n",
    "    - 각 전화번호의 길이는 1 이상 20 이하입니다.\n",
    "    - 같은 전화번호가 중복해서 들어있지 않습니다."
   ]
  },
  {
   "cell_type": "markdown",
   "id": "2fc68170",
   "metadata": {},
   "source": [
    "### Solution 01. deque로 풀기 &rarr; 91.7% 성공"
   ]
  },
  {
   "cell_type": "code",
   "execution_count": 1,
   "id": "ef32b6fd",
   "metadata": {
    "ExecuteTime": {
     "end_time": "2023-03-15T12:10:17.007013Z",
     "start_time": "2023-03-15T12:10:16.983303Z"
    }
   },
   "outputs": [],
   "source": [
    "from collections import deque\n",
    "\n",
    "def is_in_phonebook(head, phone_book, answer):\n",
    "    for phone in phone_book:\n",
    "        if head == phone[:len(head)]:\n",
    "            answer = False\n",
    "            return answer\n",
    "    return answer\n",
    "def solution(phone_book):\n",
    "    answer = True\n",
    "    phone_book.sort(key=len)\n",
    "    phone_book = deque(phone_book)\n",
    "    while phone_book:\n",
    "        head = phone_book.popleft()\n",
    "        if phone_book == []:\n",
    "            break\n",
    "        answer = is_in_phonebook(head, phone_book, answer)\n",
    "        if answer == False:\n",
    "            break\n",
    "    return answer"
   ]
  },
  {
   "cell_type": "code",
   "execution_count": 2,
   "id": "a689d268",
   "metadata": {
    "ExecuteTime": {
     "end_time": "2023-03-15T12:10:33.323098Z",
     "start_time": "2023-03-15T12:10:33.295440Z"
    }
   },
   "outputs": [
    {
     "data": {
      "text/plain": [
       "False"
      ]
     },
     "execution_count": 2,
     "metadata": {},
     "output_type": "execute_result"
    }
   ],
   "source": [
    "solution([\"119\", \"97674223\", \"1195524421\"])"
   ]
  },
  {
   "cell_type": "markdown",
   "id": "60e8d8c3",
   "metadata": {},
   "source": [
    "### Solution 02. sort를 한 후 앞 원소와 뒤 원소만 비교하는 방식"
   ]
  },
  {
   "cell_type": "code",
   "execution_count": 9,
   "id": "716657a8",
   "metadata": {
    "ExecuteTime": {
     "end_time": "2023-03-15T14:19:55.212900Z",
     "start_time": "2023-03-15T14:19:55.188812Z"
    }
   },
   "outputs": [
    {
     "data": {
      "text/plain": [
       "['119', '1195524421', '97674223']"
      ]
     },
     "execution_count": 9,
     "metadata": {},
     "output_type": "execute_result"
    }
   ],
   "source": [
    "l = [\"119\", \"97674223\", \"1195524421\"]\n",
    "l.sort()\n",
    "l"
   ]
  },
  {
   "cell_type": "code",
   "execution_count": 14,
   "id": "84b0bd13",
   "metadata": {
    "ExecuteTime": {
     "end_time": "2023-03-15T14:22:34.439866Z",
     "start_time": "2023-03-15T14:22:34.423177Z"
    }
   },
   "outputs": [],
   "source": [
    "def solution(phone_book):\n",
    "    phone_book.sort()\n",
    "    for i in range(len(phone_book)-1):\n",
    "        length = len(phone_book[i])\n",
    "        if phone_book[i] == phone_book[i+1][:length]:\n",
    "            return False\n",
    "    return True"
   ]
  },
  {
   "cell_type": "code",
   "execution_count": 16,
   "id": "85d5f3a6",
   "metadata": {
    "ExecuteTime": {
     "end_time": "2023-03-15T14:22:45.337473Z",
     "start_time": "2023-03-15T14:22:45.324844Z"
    }
   },
   "outputs": [
    {
     "data": {
      "text/plain": [
       "False"
      ]
     },
     "execution_count": 16,
     "metadata": {},
     "output_type": "execute_result"
    }
   ],
   "source": [
    "solution([\"119\", \"97674223\", \"1195524421\"])"
   ]
  },
  {
   "cell_type": "code",
   "execution_count": 17,
   "id": "39545589",
   "metadata": {
    "ExecuteTime": {
     "end_time": "2023-03-15T14:23:02.755671Z",
     "start_time": "2023-03-15T14:23:02.740051Z"
    }
   },
   "outputs": [
    {
     "data": {
      "text/plain": [
       "True"
      ]
     },
     "execution_count": 17,
     "metadata": {},
     "output_type": "execute_result"
    }
   ],
   "source": [
    "solution([\"123\",\"456\",\"789\"])"
   ]
  },
  {
   "cell_type": "code",
   "execution_count": 18,
   "id": "65c60e44",
   "metadata": {
    "ExecuteTime": {
     "end_time": "2023-03-15T14:23:03.225754Z",
     "start_time": "2023-03-15T14:23:03.209644Z"
    }
   },
   "outputs": [
    {
     "data": {
      "text/plain": [
       "False"
      ]
     },
     "execution_count": 18,
     "metadata": {},
     "output_type": "execute_result"
    }
   ],
   "source": [
    "solution([\"12\",\"123\",\"1235\",\"567\",\"88\"])"
   ]
  }
 ],
 "metadata": {
  "kernelspec": {
   "display_name": "Python 3 (ipykernel)",
   "language": "python",
   "name": "python3"
  },
  "language_info": {
   "codemirror_mode": {
    "name": "ipython",
    "version": 3
   },
   "file_extension": ".py",
   "mimetype": "text/x-python",
   "name": "python",
   "nbconvert_exporter": "python",
   "pygments_lexer": "ipython3",
   "version": "3.9.13"
  },
  "toc": {
   "base_numbering": 1,
   "nav_menu": {},
   "number_sections": true,
   "sideBar": true,
   "skip_h1_title": false,
   "title_cell": "Table of Contents",
   "title_sidebar": "Contents",
   "toc_cell": false,
   "toc_position": {},
   "toc_section_display": true,
   "toc_window_display": false
  },
  "varInspector": {
   "cols": {
    "lenName": 16,
    "lenType": 16,
    "lenVar": 40
   },
   "kernels_config": {
    "python": {
     "delete_cmd_postfix": "",
     "delete_cmd_prefix": "del ",
     "library": "var_list.py",
     "varRefreshCmd": "print(var_dic_list())"
    },
    "r": {
     "delete_cmd_postfix": ") ",
     "delete_cmd_prefix": "rm(",
     "library": "var_list.r",
     "varRefreshCmd": "cat(var_dic_list()) "
    }
   },
   "types_to_exclude": [
    "module",
    "function",
    "builtin_function_or_method",
    "instance",
    "_Feature"
   ],
   "window_display": false
  }
 },
 "nbformat": 4,
 "nbformat_minor": 5
}
