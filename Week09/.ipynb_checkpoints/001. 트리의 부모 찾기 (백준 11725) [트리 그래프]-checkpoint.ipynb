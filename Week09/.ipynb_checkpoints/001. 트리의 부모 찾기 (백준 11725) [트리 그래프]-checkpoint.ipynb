{
 "cells": [
  {
   "cell_type": "markdown",
   "id": "65e56cbf",
   "metadata": {},
   "source": [
    "## 001. 트리의 부모 찾기\n",
    "- BAEKJOON 11725 https://www.acmicpc.net/problem/11725\n",
    "\n",
    "### 문제\n",
    "루트 없는 트리가 주어진다. 이때, 트리의 루트를 1이라고 정했을 때, 각 노드의 부모를 구하는 프로그램을 작성하시오.\n",
    "\n",
    "### 입력\n",
    "첫째 줄에 노드의 개수 N (2 ≤ N ≤ 100,000)이 주어진다. 둘째 줄부터 N-1개의 줄에 트리 상에서 연결된 두 정점이 주어진다.\n",
    "\n",
    "### 출력\n",
    "첫째 줄부터 N-1개의 줄에 각 노드의 부모 노드 번호를 2번 노드부터 순서대로 출력한다."
   ]
  },
  {
   "cell_type": "markdown",
   "id": "f81e0b88",
   "metadata": {},
   "source": [
    "### Solution 01. 행렬로 풀기 &rarr; 메모리 초과"
   ]
  },
  {
   "cell_type": "code",
   "execution_count": 35,
   "id": "3be33ee7",
   "metadata": {
    "ExecuteTime": {
     "end_time": "2023-03-07T15:06:22.156007Z",
     "start_time": "2023-03-07T15:06:03.371287Z"
    }
   },
   "outputs": [
    {
     "name": "stdout",
     "output_type": "stream",
     "text": [
      "7\n",
      "1 6\n",
      "6 3\n",
      "3 5\n",
      "4 1\n",
      "2 4\n",
      "4 7\n",
      "4\n",
      "6\n",
      "1\n",
      "3\n",
      "1\n",
      "4\n"
     ]
    }
   ],
   "source": [
    "n = int(input())\n",
    "\n",
    "arraylist = [[0]*(n+1) for i in range(n+1)]\n",
    "for i in range(n-1):\n",
    "    a, b = map(int, input().split())\n",
    "    arraylist[a][b] = 1\n",
    "    arraylist[b][a] = 1\n",
    "    \n",
    "def dfs(array, node, visited):\n",
    "    # stack 형으로 노드 순서 확인\n",
    "    for i in range(1, n+1):\n",
    "        if array[node][i] == 1 and visited[i] == 0:\n",
    "            visited[i] = node\n",
    "            dfs(array, i, visited)\n",
    "            \n",
    "visited = [0] * (n+1) \n",
    "dfs(arraylist, 1, visited)\n",
    "for i in visited[2:]:\n",
    "    print(i)"
   ]
  },
  {
   "cell_type": "markdown",
   "id": "ff7db776",
   "metadata": {},
   "source": [
    "### Solution 02. 인접 리스트로 풀기 &rarr; Recursion Error"
   ]
  },
  {
   "cell_type": "code",
   "execution_count": 38,
   "id": "47946495",
   "metadata": {
    "ExecuteTime": {
     "end_time": "2023-03-07T15:11:07.626772Z",
     "start_time": "2023-03-07T15:10:54.172674Z"
    }
   },
   "outputs": [
    {
     "name": "stdout",
     "output_type": "stream",
     "text": [
      "7\n",
      "1 6\n",
      "6 3\n",
      "3 5\n",
      "4 1\n",
      "2 4\n",
      "4 7\n",
      "4\n",
      "6\n",
      "1\n",
      "3\n",
      "1\n",
      "4\n"
     ]
    }
   ],
   "source": [
    "n = int(input())\n",
    "\n",
    "arraylist = [[] for _ in range(n+1)]\n",
    "\n",
    "for _ in range(n-1):\n",
    "    a, b = map(int, input().split())\n",
    "    arraylist[a].append(b)\n",
    "    arraylist[b].append(a)\n",
    "    \n",
    "def dfs(array, node, parent_node):\n",
    "    # stack 형으로 노드 순서 확인\n",
    "    for i in array[node]:\n",
    "        if parent_node[i-1] == 0:\n",
    "            parent_node[i-1] = node\n",
    "            dfs(array, i, parent_node)\n",
    "            \n",
    "parent_node = [0] * n \n",
    "dfs(arraylist, 1, parent_node)\n",
    "for i in parent_node[1:]:\n",
    "    print(i)"
   ]
  },
  {
   "cell_type": "markdown",
   "id": "c7ad455e",
   "metadata": {},
   "source": [
    "### Solution 03. 백준용 → Recursion Error 늘리기"
   ]
  },
  {
   "cell_type": "code",
   "execution_count": 39,
   "id": "707dce21",
   "metadata": {
    "ExecuteTime": {
     "end_time": "2023-03-07T15:11:16.365937Z",
     "start_time": "2023-03-07T15:11:16.349965Z"
    }
   },
   "outputs": [
    {
     "data": {
      "text/plain": [
       "[6, 4, 6, 1, 3, 1, 4]"
      ]
     },
     "execution_count": 39,
     "metadata": {},
     "output_type": "execute_result"
    }
   ],
   "source": [
    "import sys\n",
    "sys.setrecursionlimit(10**6)\n",
    "\n",
    "n = int(input())\n",
    "\n",
    "arraylist = [[] for _ in range(n+1)]\n",
    "\n",
    "for _ in range(n-1):\n",
    "    a, b = map(int, input().split())\n",
    "    arraylist[a].append(b)\n",
    "    arraylist[b].append(a)\n",
    "    \n",
    "def dfs(array, node, parent_node):\n",
    "    # stack 형으로 노드 순서 확인\n",
    "    for i in array[node]:\n",
    "        if parent_node[i-1] == 0:\n",
    "            parent_node[i-1] = node\n",
    "            dfs(array, i, parent_node)\n",
    "            \n",
    "parent_node = [0] * n \n",
    "dfs(arraylist, 1, parent_node)\n",
    "for i in parent_node[1:]:\n",
    "    print(i)"
   ]
  }
 ],
 "metadata": {
  "kernelspec": {
   "display_name": "Python 3 (ipykernel)",
   "language": "python",
   "name": "python3"
  },
  "language_info": {
   "codemirror_mode": {
    "name": "ipython",
    "version": 3
   },
   "file_extension": ".py",
   "mimetype": "text/x-python",
   "name": "python",
   "nbconvert_exporter": "python",
   "pygments_lexer": "ipython3",
   "version": "3.9.13"
  },
  "toc": {
   "base_numbering": 1,
   "nav_menu": {},
   "number_sections": true,
   "sideBar": true,
   "skip_h1_title": false,
   "title_cell": "Table of Contents",
   "title_sidebar": "Contents",
   "toc_cell": false,
   "toc_position": {},
   "toc_section_display": true,
   "toc_window_display": false
  },
  "varInspector": {
   "cols": {
    "lenName": 16,
    "lenType": 16,
    "lenVar": 40
   },
   "kernels_config": {
    "python": {
     "delete_cmd_postfix": "",
     "delete_cmd_prefix": "del ",
     "library": "var_list.py",
     "varRefreshCmd": "print(var_dic_list())"
    },
    "r": {
     "delete_cmd_postfix": ") ",
     "delete_cmd_prefix": "rm(",
     "library": "var_list.r",
     "varRefreshCmd": "cat(var_dic_list()) "
    }
   },
   "types_to_exclude": [
    "module",
    "function",
    "builtin_function_or_method",
    "instance",
    "_Feature"
   ],
   "window_display": false
  }
 },
 "nbformat": 4,
 "nbformat_minor": 5
}
