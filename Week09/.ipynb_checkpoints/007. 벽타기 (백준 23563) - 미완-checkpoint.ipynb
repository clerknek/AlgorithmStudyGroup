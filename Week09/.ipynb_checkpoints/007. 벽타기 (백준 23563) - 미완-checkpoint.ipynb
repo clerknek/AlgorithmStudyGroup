{
 "cells": [
  {
   "cell_type": "markdown",
   "id": "02c3a8c9",
   "metadata": {},
   "source": [
    "## 007. 벽타기\n",
    "- BAEKJOON 23563 https://www.acmicpc.net/problem/23563\n",
    "\n",
    "### 문제\n",
    "루시우는 높이가 \n",
    "$H$이고 너비가 \n",
    "$W$인 맵의 시작점에서 끝점까지 이동하려고 한다.\n",
    "\n",
    "맵은 \n",
    "$H$개의 행과 \n",
    "$W$개의 열로 이루어진 격자판 모양이다. 각 칸은 벽 또는 빈칸이다.\n",
    "루시우는 상, 하, 좌, 우 방향 인접한 칸으로 한 칸씩 이동할 수 있다. 벽으로는 이동할 수 없다.\n",
    "루시우가 한 칸을 이동하는 데에는 1초가 걸린다.\n",
    "하지만 루시우가 벽을 타고 이동하면 순식간에 (0초의 시간에) 상, 하, 좌, 우 방향 인접한 칸으로 이동할 수 있다.\n",
    "어떤 빈칸의 상하좌우 중 하나가 벽이면 이 칸은 벽에 인접한 칸이라고 한다.\n",
    "벽에 인접한 칸에서 벽에 인접한 칸으로 이동하면 벽을 타고 이동한다고 말한다.\n",
    "루시우가 맵의 시작점에서 끝점까지 이동하는 데 걸리는 최소 시간을 구하여라.\n",
    "\n",
    "### 입력\n",
    "첫째 줄에는 \n",
    "$H$와 \n",
    "$W$가 공백을 사이에 두고 주어진다. 맵은 \n",
    "$H$개의 행과 \n",
    "$W$개의 열로 이루어진 격자판 모양이다.\n",
    "\n",
    "둘째 줄부터, \n",
    "$H$개의 줄에 걸쳐서 맵의 모습을 나타내는 \n",
    "$W$개의 문자가 주어진다.\n",
    "\n",
    "#는 벽을 뜻한다.\n",
    ".는 빈칸을 뜻한다.\n",
    "S는 맵의 시작점을 뜻한다. 시작점은 빈칸이다.\n",
    "E는 맵의 끝점을 뜻한다. 끝점은 빈칸이다.\n",
    "### 출력\n",
    "루시우가 맵의 시작점에서 끝점까지 이동하는 데 걸리는 최소 시간을 출력하라.\n",
    "\n",
    "### 제한\n",
    " \n",
    "$1 \\le H \\le 500$ \n",
    " \n",
    "$1 \\le W \\le 500$ \n",
    "격자판의 모든 칸들은 ., #, S, E 중 하나의 문자로 주어진다.\n",
    "시작점 S와 끝점 E는 각각 하나씩만 주어진다.\n",
    "맵의 가장 바깥 (1번째 열, \n",
    "$W$번째 열, 1번째 행, \n",
    "$H$번째 행) 칸들은 모두 벽이다.\n",
    "시작점에서 끝점까지 이동할 수 없는 경우는 주어지지 않는다."
   ]
  },
  {
   "cell_type": "code",
   "execution_count": 2,
   "id": "877dfc94",
   "metadata": {
    "ExecuteTime": {
     "end_time": "2023-03-08T15:38:48.068483Z",
     "start_time": "2023-03-08T15:38:26.653353Z"
    }
   },
   "outputs": [
    {
     "name": "stdout",
     "output_type": "stream",
     "text": [
      "5 5\n",
      "#####\n",
      "#..E#\n",
      "#.S.#\n",
      "#...#\n",
      "#####\n",
      "['#####', '#..E#', '#.S.#', '#...#', '#####']\n"
     ]
    }
   ],
   "source": [
    "h, w = map(int, input().split())\n",
    "\n",
    "matrix = [input() for _ in range(h)]\n",
    "print(matrix)"
   ]
  },
  {
   "cell_type": "code",
   "execution_count": 3,
   "id": "456d431f",
   "metadata": {
    "ExecuteTime": {
     "end_time": "2023-03-08T15:40:31.055255Z",
     "start_time": "2023-03-08T15:40:31.032240Z"
    }
   },
   "outputs": [],
   "source": [
    "for i in range(h):\n",
    "    for j in range(w):\n",
    "        if matrix[i][j] == 'S':\n",
    "            s = (j, i)\n",
    "        if matrix[i][j] == 'E':\n",
    "            e = (j, i)"
   ]
  },
  {
   "cell_type": "code",
   "execution_count": 4,
   "id": "b5ba0414",
   "metadata": {
    "ExecuteTime": {
     "end_time": "2023-03-08T15:40:33.320085Z",
     "start_time": "2023-03-08T15:40:33.293050Z"
    }
   },
   "outputs": [
    {
     "data": {
      "text/plain": [
       "(2, 2)"
      ]
     },
     "execution_count": 4,
     "metadata": {},
     "output_type": "execute_result"
    }
   ],
   "source": [
    "s"
   ]
  },
  {
   "cell_type": "code",
   "execution_count": 5,
   "id": "ef27f570",
   "metadata": {
    "ExecuteTime": {
     "end_time": "2023-03-08T15:40:34.956044Z",
     "start_time": "2023-03-08T15:40:34.936077Z"
    }
   },
   "outputs": [
    {
     "data": {
      "text/plain": [
       "(3, 1)"
      ]
     },
     "execution_count": 5,
     "metadata": {},
     "output_type": "execute_result"
    }
   ],
   "source": [
    "e"
   ]
  },
  {
   "cell_type": "code",
   "execution_count": null,
   "id": "8b21662e",
   "metadata": {},
   "outputs": [],
   "source": [
    "next_x = [-1, 1, 0, 0]\n",
    "next_y = [0, 0, -1, 1]\n",
    "visited=[]\n",
    "\n",
    "def bfs(node, matrix, move):\n",
    "    move = 0\n",
    "    if "
   ]
  }
 ],
 "metadata": {
  "kernelspec": {
   "display_name": "Python 3 (ipykernel)",
   "language": "python",
   "name": "python3"
  },
  "language_info": {
   "codemirror_mode": {
    "name": "ipython",
    "version": 3
   },
   "file_extension": ".py",
   "mimetype": "text/x-python",
   "name": "python",
   "nbconvert_exporter": "python",
   "pygments_lexer": "ipython3",
   "version": "3.9.13"
  },
  "toc": {
   "base_numbering": 1,
   "nav_menu": {},
   "number_sections": true,
   "sideBar": true,
   "skip_h1_title": false,
   "title_cell": "Table of Contents",
   "title_sidebar": "Contents",
   "toc_cell": false,
   "toc_position": {},
   "toc_section_display": true,
   "toc_window_display": false
  },
  "varInspector": {
   "cols": {
    "lenName": 16,
    "lenType": 16,
    "lenVar": 40
   },
   "kernels_config": {
    "python": {
     "delete_cmd_postfix": "",
     "delete_cmd_prefix": "del ",
     "library": "var_list.py",
     "varRefreshCmd": "print(var_dic_list())"
    },
    "r": {
     "delete_cmd_postfix": ") ",
     "delete_cmd_prefix": "rm(",
     "library": "var_list.r",
     "varRefreshCmd": "cat(var_dic_list()) "
    }
   },
   "types_to_exclude": [
    "module",
    "function",
    "builtin_function_or_method",
    "instance",
    "_Feature"
   ],
   "window_display": false
  }
 },
 "nbformat": 4,
 "nbformat_minor": 5
}
