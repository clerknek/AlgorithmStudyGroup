{
 "cells": [
  {
   "cell_type": "markdown",
   "id": "a7f31908",
   "metadata": {},
   "source": [
    "## 002. 순위\n",
    "- PROGRAMMERS https://school.programmers.co.kr/learn/courses/30/lessons/49191\n",
    "\n",
    "### 문제 설명\n",
    "n명의 권투선수가 권투 대회에 참여했고 각각 1번부터 n번까지 번호를 받았습니다. 권투 경기는 1대1 방식으로 진행이 되고, 만약 A 선수가 B 선수보다 실력이 좋다면 A 선수는 B 선수를 항상 이깁니다. 심판은 주어진 경기 결과를 가지고 선수들의 순위를 매기려 합니다. 하지만 몇몇 경기 결과를 분실하여 정확하게 순위를 매길 수 없습니다.\n",
    "\n",
    "선수의 수 n, 경기 결과를 담은 2차원 배열 results가 매개변수로 주어질 때 정확하게 순위를 매길 수 있는 선수의 수를 return 하도록 solution 함수를 작성해주세요.\n",
    "\n",
    "### 제한사항\n",
    "선수의 수는 1명 이상 100명 이하입니다.\n",
    "경기 결과는 1개 이상 4,500개 이하입니다.\n",
    "results 배열 각 행 [A, B]는 A 선수가 B 선수를 이겼다는 의미입니다.\n",
    "모든 경기 결과에는 모순이 없습니다."
   ]
  },
  {
   "attachments": {
    "image.png": {
     "image/png": "[encoded data removed]"
    }
   },
   "cell_type": "markdown",
   "id": "1b57d976",
   "metadata": {},
   "source": [
    "### 입출력 예\n",
    "![image.png](attachment:image.png)"
   ]
  },
  {
   "cell_type": "code",
   "execution_count": 35,
   "id": "3b240be6",
   "metadata": {
    "ExecuteTime": {
     "end_time": "2023-03-09T11:07:16.671614Z",
     "start_time": "2023-03-09T11:07:16.645596Z"
    }
   },
   "outputs": [],
   "source": [
    "def dfs(array, node, visited, n):\n",
    "    visited[node] = 1\n",
    "    print(node, end=' ')\n",
    "    # stack 형으로 노드 순서 확인\n",
    "    for i in range(1, n+1):\n",
    "        if array[node] == i and visited[i] == 0:\n",
    "            dfs(array, i, visited, n)\n",
    "\n",
    "def solution(n, results):\n",
    "    answer = 0\n",
    "    arraylist = [[0]*(n+1) for _ in range(n+1)]\n",
    "    for i in results:\n",
    "        a, b = i[0], i[1]\n",
    "        arraylist[a][b] = 1\n",
    "        arraylist[b][a] = 2\n",
    "        \n",
    "#     for i in result:\n",
    "#         for j in i:\n",
    "#             if j == 2:\n",
    "                \n",
    "        \n",
    "    \n",
    "    return arraylist"
   ]
  },
  {
   "cell_type": "code",
   "execution_count": 36,
   "id": "e465c88b",
   "metadata": {
    "ExecuteTime": {
     "end_time": "2023-03-09T11:07:17.403029Z",
     "start_time": "2023-03-09T11:07:17.373117Z"
    }
   },
   "outputs": [
    {
     "data": {
      "text/plain": [
       "[[0, 0, 0, 0, 0, 0],\n",
       " [0, 0, 1, 0, 0, 0],\n",
       " [0, 2, 0, 2, 2, 1],\n",
       " [0, 0, 1, 0, 2, 0],\n",
       " [0, 0, 1, 1, 0, 0],\n",
       " [0, 0, 2, 0, 0, 0]]"
      ]
     },
     "execution_count": 36,
     "metadata": {},
     "output_type": "execute_result"
    }
   ],
   "source": [
    "solution(5, [[4, 3], [4, 2], [3, 2], [1, 2], [2, 5]])"
   ]
  },
  {
   "cell_type": "code",
   "execution_count": null,
   "id": "33ff1500",
   "metadata": {},
   "outputs": [],
   "source": [
    "def solution(n, results):\n",
    "    answer = 0\n",
    "    winner = [0]*(n+1)\n",
    "    loser = [0]*(n+1)\n",
    "    for i in \n",
    "    "
   ]
  },
  {
   "cell_type": "code",
   "execution_count": null,
   "id": "2bef3987",
   "metadata": {},
   "outputs": [],
   "source": [
    "solution(5, [[4, 3], [4, 2], [3, 2], [1, 2], [2, 5]])"
   ]
  }
 ],
 "metadata": {
  "kernelspec": {
   "display_name": "Python 3 (ipykernel)",
   "language": "python",
   "name": "python3"
  },
  "language_info": {
   "codemirror_mode": {
    "name": "ipython",
    "version": 3
   },
   "file_extension": ".py",
   "mimetype": "text/x-python",
   "name": "python",
   "nbconvert_exporter": "python",
   "pygments_lexer": "ipython3",
   "version": "3.9.13"
  },
  "toc": {
   "base_numbering": 1,
   "nav_menu": {},
   "number_sections": true,
   "sideBar": true,
   "skip_h1_title": false,
   "title_cell": "Table of Contents",
   "title_sidebar": "Contents",
   "toc_cell": false,
   "toc_position": {},
   "toc_section_display": true,
   "toc_window_display": false
  },
  "varInspector": {
   "cols": {
    "lenName": 16,
    "lenType": 16,
    "lenVar": 40
   },
   "kernels_config": {
    "python": {
     "delete_cmd_postfix": "",
     "delete_cmd_prefix": "del ",
     "library": "var_list.py",
     "varRefreshCmd": "print(var_dic_list())"
    },
    "r": {
     "delete_cmd_postfix": ") ",
     "delete_cmd_prefix": "rm(",
     "library": "var_list.r",
     "varRefreshCmd": "cat(var_dic_list()) "
    }
   },
   "types_to_exclude": [
    "module",
    "function",
    "builtin_function_or_method",
    "instance",
    "_Feature"
   ],
   "window_display": false
  }
 },
 "nbformat": 4,
 "nbformat_minor": 5
}
