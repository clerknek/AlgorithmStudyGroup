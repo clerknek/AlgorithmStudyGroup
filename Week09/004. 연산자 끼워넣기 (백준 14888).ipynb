{
 "cells": [
  {
   "cell_type": "markdown",
   "id": "0a2604f1",
   "metadata": {},
   "source": [
    "## 004. 연산자 끼워넣기\n",
    "- BAEKJOON 14888 https://www.acmicpc.net/problem/14888\n",
    "\n",
    "### 문제\n",
    "N개의 수로 이루어진 수열 A1, A2, ..., AN이 주어진다. 또, 수와 수 사이에 끼워넣을 수 있는 N-1개의 연산자가 주어진다. 연산자는 덧셈(+), 뺄셈(-), 곱셈(×), 나눗셈(÷)으로만 이루어져 있다.\n",
    "\n",
    "우리는 수와 수 사이에 연산자를 하나씩 넣어서, 수식을 하나 만들 수 있다. 이때, 주어진 수의 순서를 바꾸면 안 된다.\n",
    "\n",
    "예를 들어, 6개의 수로 이루어진 수열이 1, 2, 3, 4, 5, 6이고, 주어진 연산자가 덧셈(+) 2개, 뺄셈(-) 1개, 곱셈(×) 1개, 나눗셈(÷) 1개인 경우에는 총 60가지의 식을 만들 수 있다. 예를 들어, 아래와 같은 식을 만들 수 있다.\n",
    "\n",
    "- 1+2+3-4×5÷6\n",
    "- 1÷2+3+4-5×6\n",
    "- 1+2÷3×4-5+6\n",
    "- 1÷2×3-4+5+6\n",
    "\n",
    "식의 계산은 연산자 우선 순위를 무시하고 앞에서부터 진행해야 한다. 또, 나눗셈은 정수 나눗셈으로 몫만 취한다. 음수를 양수로 나눌 때는 C++14의 기준을 따른다. 즉, 양수로 바꾼 뒤 몫을 취하고, 그 몫을 음수로 바꾼 것과 같다. 이에 따라서, 위의 식 4개의 결과를 계산해보면 아래와 같다.\n",
    "\n",
    "- 1+2+3-4×5÷6 = 1\n",
    "- 1÷2+3+4-5×6 = 12\n",
    "- 1+2÷3×4-5+6 = 5\n",
    "- 1÷2×3-4+5+6 = 7\n",
    "\n",
    "N개의 수와 N-1개의 연산자가 주어졌을 때, 만들 수 있는 식의 결과가 최대인 것과 최소인 것을 구하는 프로그램을 작성하시오.\n",
    "\n",
    "### 입력\n",
    "첫째 줄에 수의 개수 N(2 ≤ N ≤ 11)가 주어진다. 둘째 줄에는 A1, A2, ..., AN이 주어진다. (1 ≤ Ai ≤ 100) 셋째 줄에는 합이 N-1인 4개의 정수가 주어지는데, 차례대로 덧셈(+)의 개수, 뺄셈(-)의 개수, 곱셈(×)의 개수, 나눗셈(÷)의 개수이다. \n",
    "\n",
    "### 출력\n",
    "첫째 줄에 만들 수 있는 식의 결과의 최댓값을, 둘째 줄에는 최솟값을 출력한다. 연산자를 어떻게 끼워넣어도 항상 -10억보다 크거나 같고, 10억보다 작거나 같은 결과가 나오는 입력만 주어진다. 또한, 앞에서부터 계산했을 때, 중간에 계산되는 식의 결과도 항상 -10억보다 크거나 같고, 10억보다 작거나 같다."
   ]
  },
  {
   "cell_type": "code",
   "execution_count": 1,
   "id": "bd6a57d0",
   "metadata": {
    "ExecuteTime": {
     "end_time": "2023-03-08T02:18:59.925106Z",
     "start_time": "2023-03-08T02:18:44.937197Z"
    }
   },
   "outputs": [
    {
     "name": "stdout",
     "output_type": "stream",
     "text": [
      "6\n",
      "1 2 3 4 5 6\n",
      "2 1 1 1\n",
      "54\n",
      "-24\n"
     ]
    }
   ],
   "source": [
    "from itertools import permutations\n",
    "\n",
    "def calculate(numbers, operators):\n",
    "    r = numbers[0]\n",
    "    for i in range(len(operators)):\n",
    "        if operators[i] == '+':\n",
    "            r += numbers[i+1]\n",
    "        elif operators[i] == '-':\n",
    "            r -= numbers[i+1]\n",
    "        elif operators[i] == 'x':\n",
    "            r *= numbers[i+1]\n",
    "        elif operators[i] == '/':\n",
    "            # C++14의 기준\n",
    "            if r >= 0:\n",
    "                r = r // numbers[i+1]\n",
    "            else:\n",
    "                r = -((-r)//numbers[i+1])\n",
    "    return r\n",
    "\n",
    "n = int(input())\n",
    "a = list(map(int, input().split()))\n",
    "o = list(map(int, input().split()))\n",
    "oper = ['+', '-', 'x', '/']\n",
    "oper_l = []\n",
    "for i in range(4):\n",
    "    [oper_l.append(oper[i]) for _ in range(o[i])]\n",
    "    \n",
    "min_answer = []\n",
    "max_answer = []\n",
    "for i in permutations(oper_l, len(oper_l)):\n",
    "    func_result = calculate(a, i)\n",
    "    if max_answer == [] or max_answer < func_result:\n",
    "        max_answer = func_result\n",
    "    if min_answer == [] or min_answer > func_result:\n",
    "        min_answer = func_result\n",
    "print(max_answer)\n",
    "print(min_answer)"
   ]
  }
 ],
 "metadata": {
  "kernelspec": {
   "display_name": "Python 3 (ipykernel)",
   "language": "python",
   "name": "python3"
  },
  "language_info": {
   "codemirror_mode": {
    "name": "ipython",
    "version": 3
   },
   "file_extension": ".py",
   "mimetype": "text/x-python",
   "name": "python",
   "nbconvert_exporter": "python",
   "pygments_lexer": "ipython3",
   "version": "3.9.13"
  },
  "toc": {
   "base_numbering": 1,
   "nav_menu": {},
   "number_sections": true,
   "sideBar": true,
   "skip_h1_title": false,
   "title_cell": "Table of Contents",
   "title_sidebar": "Contents",
   "toc_cell": false,
   "toc_position": {},
   "toc_section_display": true,
   "toc_window_display": false
  },
  "varInspector": {
   "cols": {
    "lenName": 16,
    "lenType": 16,
    "lenVar": 40
   },
   "kernels_config": {
    "python": {
     "delete_cmd_postfix": "",
     "delete_cmd_prefix": "del ",
     "library": "var_list.py",
     "varRefreshCmd": "print(var_dic_list())"
    },
    "r": {
     "delete_cmd_postfix": ") ",
     "delete_cmd_prefix": "rm(",
     "library": "var_list.r",
     "varRefreshCmd": "cat(var_dic_list()) "
    }
   },
   "types_to_exclude": [
    "module",
    "function",
    "builtin_function_or_method",
    "instance",
    "_Feature"
   ],
   "window_display": false
  }
 },
 "nbformat": 4,
 "nbformat_minor": 5
}
