{
 "cells": [
  {
   "cell_type": "markdown",
   "id": "00f5f10b",
   "metadata": {},
   "source": [
    "## 006. 행렬덧셈\n",
    "- BAEKJOON 2738 https://www.acmicpc.net/problem/2738\n",
    "\n",
    "### 문제\n",
    "- N*M크기의 두 행렬 A와 B가 주어졌을 때, 두 행렬을 더하는 프로그램을 작성하시오.\n",
    "\n",
    "### 입력\n",
    "- 첫째 줄에 행렬의 크기 N 과 M이 주어진다. 둘째 줄부터 N개의 줄에 행렬 A의 원소 M개가 차례대로 주어진다. 이어서 N개의 줄에 행렬 B의 원소 M개가 차례대로 주어진다. N과 M은 100보다 작거나 같고, 행렬의 원소는 절댓값이 100보다 작거나 같은 정수이다.\n",
    "\n",
    "### 출력\n",
    "- 첫째 줄부터 N개의 줄에 행렬 A와 B를 더한 행렬을 출력한다. 행렬의 각 원소는 공백으로 구분한다."
   ]
  },
  {
   "cell_type": "code",
   "execution_count": 35,
   "id": "bbd6e6a6",
   "metadata": {
    "ExecuteTime": {
     "end_time": "2023-01-16T13:13:55.449130Z",
     "start_time": "2023-01-16T13:13:45.292533Z"
    },
    "scrolled": true
   },
   "outputs": [
    {
     "name": "stdout",
     "output_type": "stream",
     "text": [
      "3 3\n",
      "1 1 1\n",
      "2 2 2\n",
      "0 1 0\n",
      "3 3 3\n",
      "4 4 4\n",
      "5 5 100\n",
      "4 4 4\n",
      "6 6 6\n",
      "5 6 100\n"
     ]
    }
   ],
   "source": [
    "n, m = map(int, input().split(' '))\n",
    "a = []\n",
    "b = []\n",
    "\n",
    "# 입력값을 이중리스트 형태로 a, b 리스트에 넣는다.\n",
    "for _ in range(n):\n",
    "    a += [input().split(' ')]\n",
    "for _ in range(n):\n",
    "    b += [input().split(' ')]\n",
    "\n",
    "# 2중 for 구문을 이용해 입력값 출력\n",
    "for i in range(n):\n",
    "    for j in range(m):\n",
    "        if j != m-1:\n",
    "            print(int(a[i][j])+int(b[i][j]), end=' ')\n",
    "        else:\n",
    "            print(int(a[i][j])+int(b[i][j]))"
   ]
  }
 ],
 "metadata": {
  "kernelspec": {
   "display_name": "Python 3 (ipykernel)",
   "language": "python",
   "name": "python3"
  },
  "language_info": {
   "codemirror_mode": {
    "name": "ipython",
    "version": 3
   },
   "file_extension": ".py",
   "mimetype": "text/x-python",
   "name": "python",
   "nbconvert_exporter": "python",
   "pygments_lexer": "ipython3",
   "version": "3.9.13"
  },
  "toc": {
   "base_numbering": 1,
   "nav_menu": {},
   "number_sections": true,
   "sideBar": true,
   "skip_h1_title": false,
   "title_cell": "Table of Contents",
   "title_sidebar": "Contents",
   "toc_cell": false,
   "toc_position": {},
   "toc_section_display": true,
   "toc_window_display": false
  },
  "varInspector": {
   "cols": {
    "lenName": 16,
    "lenType": 16,
    "lenVar": 40
   },
   "kernels_config": {
    "python": {
     "delete_cmd_postfix": "",
     "delete_cmd_prefix": "del ",
     "library": "var_list.py",
     "varRefreshCmd": "print(var_dic_list())"
    },
    "r": {
     "delete_cmd_postfix": ") ",
     "delete_cmd_prefix": "rm(",
     "library": "var_list.r",
     "varRefreshCmd": "cat(var_dic_list()) "
    }
   },
   "types_to_exclude": [
    "module",
    "function",
    "builtin_function_or_method",
    "instance",
    "_Feature"
   ],
   "window_display": false
  }
 },
 "nbformat": 4,
 "nbformat_minor": 5
}
