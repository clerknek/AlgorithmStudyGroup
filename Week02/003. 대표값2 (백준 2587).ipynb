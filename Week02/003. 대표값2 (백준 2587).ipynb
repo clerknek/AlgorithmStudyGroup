{
 "cells": [
  {
   "cell_type": "markdown",
   "id": "69671cd2",
   "metadata": {},
   "source": [
    "## 003. 대표값2\n",
    "- BAEKJOON 2587 https://www.acmicpc.net/problem/2587\n",
    "\n",
    "### 문제\n",
    "- 어떤 수들이 있을 때, 그 수들을 대표하는 값으로 가장 흔하게 쓰이는 것은 평균이다. 평균은 주어진 모든 수의 합을 수의 개수로 나눈 것이다. 예를 들어 10, 40, 30, 60, 30의 평균은 (10 + 40 + 30 + 60 + 30) / 5 = 170 / 5 = 34가 된다.\n",
    "\n",
    "- 평균 이외의 또 다른 대표값으로 중앙값이라는 것이 있다. 중앙값은 주어진 수를 크기 순서대로 늘어 놓았을 때 가장 중앙에 놓인 값이다. 예를 들어 10, 40, 30, 60, 30의 경우, 크기 순서대로 늘어 놓으면\n",
    "\n",
    "- 10 30 30 40 60\n",
    "\n",
    "- 이 되고 따라서 중앙값은 30이 된다.\n",
    "\n",
    "- 다섯 개의 자연수가 주어질 때 이들의 평균과 중앙값을 구하는 프로그램을 작성하시오.\n",
    "\n",
    "### 입력\n",
    "- 첫째 줄부터 다섯 번째 줄까지 한 줄에 하나씩 자연수가 주어진다. 주어지는 자연수는 100 보다 작은 10의 배수이다.\n",
    "\n",
    "### 출력\n",
    "- 첫째 줄에는 평균을 출력하고, 둘째 줄에는 중앙값을 출력한다. 평균과 중앙값은 모두 자연수이다."
   ]
  },
  {
   "cell_type": "markdown",
   "id": "4cb413a7",
   "metadata": {},
   "source": [
    "## Solution 01. Bubble Sort(버블 정렬)"
   ]
  },
  {
   "cell_type": "code",
   "execution_count": 6,
   "id": "228dd299",
   "metadata": {
    "ExecuteTime": {
     "end_time": "2023-01-16T04:55:08.938222Z",
     "start_time": "2023-01-16T04:55:04.570373Z"
    }
   },
   "outputs": [
    {
     "name": "stdout",
     "output_type": "stream",
     "text": [
      "10\n",
      "40\n",
      "30\n",
      "60\n",
      "30\n",
      "34\n",
      "30\n"
     ]
    }
   ],
   "source": [
    "l = [int(input()) for i in range(5)]\n",
    "\n",
    "# Bubble sort를 이용한 정렬\n",
    "for i in range(len(l) - 1):\n",
    "    for j in range(len(l) - i - 1):\n",
    "        if l[j] > l[j+1]:\n",
    "            l[j], l[j+1] = l[j+1], l[j]\n",
    "\n",
    "# 평균값과 중앙값 출력\n",
    "print(int(sum(l)/len(l)))\n",
    "print(l[len(l)//2])"
   ]
  },
  {
   "attachments": {
    "image.png": {
     "image/png": "[encoded data removed]"
    }
   },
   "cell_type": "markdown",
   "id": "3b20daf6",
   "metadata": {},
   "source": [
    "![image.png](attachment:image.png)"
   ]
  },
  {
   "cell_type": "markdown",
   "id": "df50ac03",
   "metadata": {},
   "source": [
    "-----------"
   ]
  },
  {
   "cell_type": "markdown",
   "id": "a544a98d",
   "metadata": {},
   "source": [
    "## Solution 02. Selection Sort(선택 정렬)"
   ]
  },
  {
   "cell_type": "code",
   "execution_count": 7,
   "id": "3b2884df",
   "metadata": {
    "ExecuteTime": {
     "end_time": "2023-01-16T04:56:53.256782Z",
     "start_time": "2023-01-16T04:56:46.492995Z"
    }
   },
   "outputs": [
    {
     "name": "stdout",
     "output_type": "stream",
     "text": [
      "10\n",
      "40\n",
      "30\n",
      "60\n",
      "30\n",
      "34\n",
      "30\n"
     ]
    }
   ],
   "source": [
    "l = [int(input()) for i in range(5)]\n",
    "\n",
    "# Selection sort를 이용한 정렬\n",
    "for i in range(len(l)):\n",
    "    min_index = i\n",
    "    for j in range(i+1, len(l)):\n",
    "        if l[j] < l[min_index]:\n",
    "            min_index = j\n",
    "    l[i], l[min_index] = l[min_index], l[i]\n",
    "\n",
    "# 평균값과 중앙값 출력\n",
    "print(int(sum(l)/len(l)))\n",
    "print(l[len(l)//2])"
   ]
  },
  {
   "attachments": {
    "image.png": {
     "image/png": "[encoded data removed]"
    }
   },
   "cell_type": "markdown",
   "id": "9748b748",
   "metadata": {},
   "source": [
    "![image.png](attachment:image.png)"
   ]
  },
  {
   "cell_type": "markdown",
   "id": "00be51a6",
   "metadata": {},
   "source": [
    "----"
   ]
  },
  {
   "cell_type": "markdown",
   "id": "ce6d783a",
   "metadata": {},
   "source": [
    "## Solution 03. Insertion Sort(삽입 정렬)"
   ]
  },
  {
   "cell_type": "code",
   "execution_count": 8,
   "id": "3322bc70",
   "metadata": {
    "ExecuteTime": {
     "end_time": "2023-01-16T04:57:18.632716Z",
     "start_time": "2023-01-16T04:57:14.942259Z"
    }
   },
   "outputs": [
    {
     "name": "stdout",
     "output_type": "stream",
     "text": [
      "10\n",
      "40\n",
      "30\n",
      "60\n",
      "30\n",
      "34\n",
      "30\n"
     ]
    }
   ],
   "source": [
    "l = [int(input()) for i in range(5)]\n",
    "\n",
    "# Insertion sort를 이용한 정렬\n",
    "for i in range(1, len(l)):\n",
    "    for j in range(i, 0, -1):\n",
    "        if l[j - 1] > l[j]:\n",
    "            l[j - 1], l[j] = l[j], l[j - 1]\n",
    "\n",
    "# 평균값과 중앙값 출력\n",
    "print(int(sum(l)/len(l)))\n",
    "print(l[len(l)//2])"
   ]
  },
  {
   "attachments": {
    "image.png": {
     "image/png": "[encoded data removed]"
    }
   },
   "cell_type": "markdown",
   "id": "c81a197a",
   "metadata": {},
   "source": [
    "![image.png](attachment:image.png)"
   ]
  }
 ],
 "metadata": {
  "kernelspec": {
   "display_name": "Python 3 (ipykernel)",
   "language": "python",
   "name": "python3"
  },
  "language_info": {
   "codemirror_mode": {
    "name": "ipython",
    "version": 3
   },
   "file_extension": ".py",
   "mimetype": "text/x-python",
   "name": "python",
   "nbconvert_exporter": "python",
   "pygments_lexer": "ipython3",
   "version": "3.9.13"
  },
  "toc": {
   "base_numbering": 1,
   "nav_menu": {},
   "number_sections": true,
   "sideBar": true,
   "skip_h1_title": false,
   "title_cell": "Table of Contents",
   "title_sidebar": "Contents",
   "toc_cell": false,
   "toc_position": {},
   "toc_section_display": true,
   "toc_window_display": false
  },
  "varInspector": {
   "cols": {
    "lenName": 16,
    "lenType": 16,
    "lenVar": 40
   },
   "kernels_config": {
    "python": {
     "delete_cmd_postfix": "",
     "delete_cmd_prefix": "del ",
     "library": "var_list.py",
     "varRefreshCmd": "print(var_dic_list())"
    },
    "r": {
     "delete_cmd_postfix": ") ",
     "delete_cmd_prefix": "rm(",
     "library": "var_list.r",
     "varRefreshCmd": "cat(var_dic_list()) "
    }
   },
   "types_to_exclude": [
    "module",
    "function",
    "builtin_function_or_method",
    "instance",
    "_Feature"
   ],
   "window_display": false
  }
 },
 "nbformat": 4,
 "nbformat_minor": 5
}
