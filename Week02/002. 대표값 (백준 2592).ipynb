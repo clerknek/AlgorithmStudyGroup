{
 "cells": [
  {
   "cell_type": "markdown",
   "id": "e616d3e3",
   "metadata": {},
   "source": [
    "## 002. 대표값\n",
    "- BAEKJOON 2592 https://www.acmicpc.net/problem/2592\n",
    "\n",
    "### 문제\n",
    "- 어떤 수들이 있을 때, 그 수들을 대표하는 값으로 가장 흔하게 쓰이는 것은 평균이다. 평균은 주어진 모든 수의 합을 수의 개수로 나눈 것이다. 예를 들어 10, 40, 30, 60, 30, 20, 60, 30, 40, 50의 평균은 (10 + 40 + 30 + 60 + 30 + 20 + 60 + 30 + 40 + 50) / 10 = 370 / 10 = 37이 된다.\n",
    "\n",
    "- 평균 이외의 또 다른 대표값으로 최빈값이라는 것이 있다. 최빈값은 주어진 수들 가운데 가장 많이 나타나는 수이다. 예를 들어 10, 40, 30, 60, 30, 20, 60, 30, 40, 50이 주어질 경우, 30이 세 번, 40과 60이 각각 두 번, 10, 20, 50이 각각 한 번씩 나오므로, 최빈값은 30이 된다.\n",
    "\n",
    "- 열 개의 자연수가 주어질 때 이들의 평균과 최빈값을 구하는 프로그램을 작성하시오.\n",
    "\n",
    "### 입력\n",
    "- 첫째 줄부터 열 번째 줄까지 한 줄에 하나씩 자연수가 주어진다. 주어지는 자연수는 1,000 보다 작은 10의 배수이다.\n",
    "\n",
    "### 출력\n",
    "- 첫째 줄에는 평균을 출력하고, 둘째 줄에는 최빈값을 출력한다. 최빈값이 둘 이상일 경우 그 중 하나만 출력한다. 평균과 최빈값은 모두 자연수이다."
   ]
  },
  {
   "cell_type": "markdown",
   "id": "2cc094b7",
   "metadata": {},
   "source": [
    "## Solution 01. Bubble Sort(버블 정렬)"
   ]
  },
  {
   "cell_type": "code",
   "execution_count": 14,
   "id": "25193fb1",
   "metadata": {
    "ExecuteTime": {
     "end_time": "2023-01-16T04:32:04.783093Z",
     "start_time": "2023-01-16T04:31:53.391657Z"
    }
   },
   "outputs": [
    {
     "name": "stdout",
     "output_type": "stream",
     "text": [
      "10\n",
      "40\n",
      "30\n",
      "60\n",
      "30\n",
      "20\n",
      "60\n",
      "30\n",
      "40\n",
      "50\n",
      "37\n",
      "30\n"
     ]
    }
   ],
   "source": [
    "l = [int(input()) for i in range(10)]\n",
    "\n",
    "# 리스트 l을 Bubble Sort를 이용해 정렬\n",
    "for i in range(len(l) - 1):\n",
    "    for j in range(len(l) - i - 1):\n",
    "        if l[j] > l[j+1]:\n",
    "            l[j], l[j+1] = l[j+1], l[j]\n",
    "\n",
    "    \n",
    "# 리스트 위치(l_index)랑 같은 수의 개수(l_value)를 저장하는 리스트 생성\n",
    "l_index = []\n",
    "l_value = []\n",
    "v = 1\n",
    "\n",
    "# 앞의 값과 뒤에 값이 같을 경우 +1, 다를 경우 개수를 초기화 한 후 다음 값부터 다시 세기\n",
    "for i in range(len(l)-1):\n",
    "    if l[i] == l[i+1]:\n",
    "        v += 1\n",
    "    else:\n",
    "        l_value.append(v)\n",
    "        l_index.append(i)\n",
    "        v = 0\n",
    "        \n",
    "# 평균값 구하기\n",
    "print(int(sum(l)/10))\n",
    "# 최빈값을 각 숫자의 개수의 최대값으로 구한후 index를 찾아 그 값을 본래 리스트(l)에서 호출하기\n",
    "print(l[l_index[l_value.index(max(l_value))]])"
   ]
  },
  {
   "attachments": {
    "image.png": {
     "image/png": "[encoded data removed]"
    }
   },
   "cell_type": "markdown",
   "id": "eaebd365",
   "metadata": {},
   "source": [
    "![image.png](attachment:image.png)"
   ]
  },
  {
   "cell_type": "markdown",
   "id": "e11ec084",
   "metadata": {},
   "source": [
    "-----"
   ]
  },
  {
   "cell_type": "markdown",
   "id": "5ed24d6e",
   "metadata": {},
   "source": [
    "## Solution 02. Selection Sort(선택 정렬)"
   ]
  },
  {
   "cell_type": "code",
   "execution_count": 17,
   "id": "6b96bc69",
   "metadata": {
    "ExecuteTime": {
     "end_time": "2023-01-16T04:34:46.461274Z",
     "start_time": "2023-01-16T04:34:36.211896Z"
    }
   },
   "outputs": [
    {
     "name": "stdout",
     "output_type": "stream",
     "text": [
      "10\n",
      "40\n",
      "30\n",
      "60\n",
      "30\n",
      "20\n",
      "60\n",
      "30\n",
      "40\n",
      "50\n",
      "37\n",
      "30\n"
     ]
    }
   ],
   "source": [
    "l = [int(input()) for i in range(10)]\n",
    "\n",
    "# 리스트 l을 Selection Sort를 이용해 정렬\n",
    "for i in range(1, len(l)):\n",
    "    for j in range(i, 0, -1):\n",
    "        if l[j - 1] > l[j]:\n",
    "            l[j - 1], l[j] = l[j], l[j - 1]\n",
    "\n",
    "    \n",
    "# 리스트 위치(l_index)랑 같은 수의 개수(l_value)를 저장하는 리스트 생성\n",
    "l_index = []\n",
    "l_value = []\n",
    "v = 1\n",
    "\n",
    "# 앞의 값과 뒤에 값이 같을 경우 +1, 다를 경우 개수를 초기화 한 후 다음 값부터 다시 세기\n",
    "for i in range(len(l)-1):\n",
    "    if l[i] == l[i+1]:\n",
    "        v += 1\n",
    "    else:\n",
    "        l_value.append(v)\n",
    "        l_index.append(i)\n",
    "        v = 0\n",
    "        \n",
    "# 평균값 구하기\n",
    "print(int(sum(l)/10))\n",
    "# 최빈값을 각 숫자의 개수의 최대값으로 구한후 index를 찾아 그 값을 본래 리스트(l)에서 호출하기\n",
    "print(l[l_index[l_value.index(max(l_value))]])"
   ]
  },
  {
   "attachments": {
    "image.png": {
     "image/png": "[encoded data removed]"
    }
   },
   "cell_type": "markdown",
   "id": "9b636a9b",
   "metadata": {},
   "source": [
    "![image.png](attachment:image.png)"
   ]
  },
  {
   "cell_type": "markdown",
   "id": "6c031c66",
   "metadata": {},
   "source": [
    "----"
   ]
  },
  {
   "cell_type": "markdown",
   "id": "6f1cb0d8",
   "metadata": {},
   "source": [
    "## Solution 03. Insertion Sort(삽입 정렬)"
   ]
  },
  {
   "cell_type": "code",
   "execution_count": 18,
   "id": "e05dd5ac",
   "metadata": {
    "ExecuteTime": {
     "end_time": "2023-01-16T04:36:31.141071Z",
     "start_time": "2023-01-16T04:36:16.658146Z"
    }
   },
   "outputs": [
    {
     "name": "stdout",
     "output_type": "stream",
     "text": [
      "10\n",
      "40\n",
      "30\n",
      "60\n",
      "30\n",
      "20\n",
      "60\n",
      "30\n",
      "40\n",
      "50\n",
      "37\n",
      "30\n"
     ]
    }
   ],
   "source": [
    "l = [int(input()) for i in range(10)]\n",
    "\n",
    "# 리스트 l을 Insertion Sort를 이용해 정렬\n",
    "for i in range(len(l)):\n",
    "    min_index = i\n",
    "    for j in range(i+1, len(l)):\n",
    "        if l[j] < l[min_index]:\n",
    "            min_index = j\n",
    "    l[i], l[min_index] = l[min_index], l[i]\n",
    "\n",
    "    \n",
    "# 리스트 위치(l_index)랑 같은 수의 개수(l_value)를 저장하는 리스트 생성\n",
    "l_index = []\n",
    "l_value = []\n",
    "v = 1\n",
    "\n",
    "# 앞의 값과 뒤에 값이 같을 경우 +1, 다를 경우 개수를 초기화 한 후 다음 값부터 다시 세기\n",
    "for i in range(len(l)-1):\n",
    "    if l[i] == l[i+1]:\n",
    "        v += 1\n",
    "    else:\n",
    "        l_value.append(v)\n",
    "        l_index.append(i)\n",
    "        v = 0\n",
    "        \n",
    "# 평균값 구하기\n",
    "print(int(sum(l)/10))\n",
    "# 최빈값을 각 숫자의 개수의 최대값으로 구한후 index를 찾아 그 값을 본래 리스트(l)에서 호출하기\n",
    "print(l[l_index[l_value.index(max(l_value))]])"
   ]
  },
  {
   "attachments": {
    "image.png": {
     "image/png": "[encoded data removed]"
    }
   },
   "cell_type": "markdown",
   "id": "85f34ffe",
   "metadata": {},
   "source": [
    "![image.png](attachment:image.png)"
   ]
  }
 ],
 "metadata": {
  "kernelspec": {
   "display_name": "Python 3 (ipykernel)",
   "language": "python",
   "name": "python3"
  },
  "language_info": {
   "codemirror_mode": {
    "name": "ipython",
    "version": 3
   },
   "file_extension": ".py",
   "mimetype": "text/x-python",
   "name": "python",
   "nbconvert_exporter": "python",
   "pygments_lexer": "ipython3",
   "version": "3.9.13"
  },
  "toc": {
   "base_numbering": 1,
   "nav_menu": {},
   "number_sections": true,
   "sideBar": true,
   "skip_h1_title": false,
   "title_cell": "Table of Contents",
   "title_sidebar": "Contents",
   "toc_cell": false,
   "toc_position": {},
   "toc_section_display": true,
   "toc_window_display": false
  },
  "varInspector": {
   "cols": {
    "lenName": 16,
    "lenType": 16,
    "lenVar": 40
   },
   "kernels_config": {
    "python": {
     "delete_cmd_postfix": "",
     "delete_cmd_prefix": "del ",
     "library": "var_list.py",
     "varRefreshCmd": "print(var_dic_list())"
    },
    "r": {
     "delete_cmd_postfix": ") ",
     "delete_cmd_prefix": "rm(",
     "library": "var_list.r",
     "varRefreshCmd": "cat(var_dic_list()) "
    }
   },
   "types_to_exclude": [
    "module",
    "function",
    "builtin_function_or_method",
    "instance",
    "_Feature"
   ],
   "window_display": false
  }
 },
 "nbformat": 4,
 "nbformat_minor": 5
}
